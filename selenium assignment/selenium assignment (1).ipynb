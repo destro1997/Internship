{
 "cells": [
  {
   "cell_type": "markdown",
   "id": "42485df2",
   "metadata": {},
   "source": [
    "# Q1: Write a python program to scrape data for “Data Analyst” Job position in “Bangalore” location. You \n",
    "have to scrape the job-title, job-location, company_name, experience_required. You have to scrape first 10 \n",
    "jobs data. "
   ]
  },
  {
   "cell_type": "code",
   "execution_count": 1,
   "id": "01ab723c",
   "metadata": {},
   "outputs": [
    {
     "name": "stdout",
     "output_type": "stream",
     "text": [
      "Requirement already satisfied: selenium in c:\\users\\jay gawande\\anaconda3\\lib\\site-packages (4.1.0)\n",
      "Requirement already satisfied: trio~=0.17 in c:\\users\\jay gawande\\anaconda3\\lib\\site-packages (from selenium) (0.19.0)\n",
      "Requirement already satisfied: urllib3[secure]~=1.26 in c:\\users\\jay gawande\\anaconda3\\lib\\site-packages (from selenium) (1.26.4)\n",
      "Requirement already satisfied: trio-websocket~=0.9 in c:\\users\\jay gawande\\anaconda3\\lib\\site-packages (from selenium) (0.9.2)\n",
      "Requirement already satisfied: sortedcontainers in c:\\users\\jay gawande\\anaconda3\\lib\\site-packages (from trio~=0.17->selenium) (2.3.0)\n",
      "Requirement already satisfied: sniffio in c:\\users\\jay gawande\\anaconda3\\lib\\site-packages (from trio~=0.17->selenium) (1.2.0)\n",
      "Requirement already satisfied: outcome in c:\\users\\jay gawande\\anaconda3\\lib\\site-packages (from trio~=0.17->selenium) (1.1.0)\n",
      "Requirement already satisfied: async-generator>=1.9 in c:\\users\\jay gawande\\anaconda3\\lib\\site-packages (from trio~=0.17->selenium) (1.10)\n",
      "Requirement already satisfied: attrs>=19.2.0 in c:\\users\\jay gawande\\anaconda3\\lib\\site-packages (from trio~=0.17->selenium) (20.3.0)\n",
      "Requirement already satisfied: cffi>=1.14 in c:\\users\\jay gawande\\anaconda3\\lib\\site-packages (from trio~=0.17->selenium) (1.14.5)\n",
      "Requirement already satisfied: idna in c:\\users\\jay gawande\\anaconda3\\lib\\site-packages (from trio~=0.17->selenium) (2.10)\n",
      "Requirement already satisfied: pycparser in c:\\users\\jay gawande\\anaconda3\\lib\\site-packages (from cffi>=1.14->trio~=0.17->selenium) (2.20)\n",
      "Requirement already satisfied: wsproto>=0.14 in c:\\users\\jay gawande\\anaconda3\\lib\\site-packages (from trio-websocket~=0.9->selenium) (1.0.0)\n",
      "Requirement already satisfied: cryptography>=1.3.4 in c:\\users\\jay gawande\\anaconda3\\lib\\site-packages (from urllib3[secure]~=1.26->selenium) (3.4.7)\n",
      "Requirement already satisfied: pyOpenSSL>=0.14 in c:\\users\\jay gawande\\anaconda3\\lib\\site-packages (from urllib3[secure]~=1.26->selenium) (20.0.1)\n",
      "Requirement already satisfied: certifi in c:\\users\\jay gawande\\anaconda3\\lib\\site-packages (from urllib3[secure]~=1.26->selenium) (2020.12.5)\n",
      "Requirement already satisfied: six>=1.5.2 in c:\\users\\jay gawande\\anaconda3\\lib\\site-packages (from pyOpenSSL>=0.14->urllib3[secure]~=1.26->selenium) (1.15.0)\n",
      "Requirement already satisfied: h11<1,>=0.9.0 in c:\\users\\jay gawande\\anaconda3\\lib\\site-packages (from wsproto>=0.14->trio-websocket~=0.9->selenium) (0.12.0)\n"
     ]
    }
   ],
   "source": [
    "!pip install selenium"
   ]
  },
  {
   "cell_type": "code",
   "execution_count": 2,
   "id": "68deadc9",
   "metadata": {},
   "outputs": [],
   "source": [
    "import warnings\n",
    "warnings.filterwarnings('ignore')\n",
    "\n",
    "\n",
    "import selenium\n",
    "import pandas as pd\n",
    "from selenium import webdriver\n",
    "\n",
    "driver = webdriver.Chrome(r\"C:/Users/Jay gawande/Downloads/chromedriver_win32/chromedriver.exe\")\n",
    "\n",
    "\n",
    "driver.get('https://www.naukri.com/')\n",
    "\n",
    "\n",
    "p = driver.find_element_by_id('qsb-keyword-sugg')\n",
    "p.send_keys(\"Data Analyst\")\n",
    "\n",
    "l = driver.find_element_by_xpath(\"//input[@id='qsb-location-sugg']\")\n",
    "l.send_keys(\"Bangalore\")\n",
    "\n",
    "s = driver.find_element_by_xpath(\"//div[@class='search-btn']/button\")\n",
    "\n",
    "s.click()\n",
    "\n",
    "\n",
    "\n"
   ]
  },
  {
   "cell_type": "code",
   "execution_count": 6,
   "id": "3de39a20",
   "metadata": {},
   "outputs": [
    {
     "data": {
      "text/plain": [
       "['Hiring -Data Analyst, Business Analyst, MIS Analyst -3rd Party Payroll',\n",
       " 'Senior Data Analyst III',\n",
       " 'Business Analyst/ Data Analyst- Capital Market & SQL (Mandatory)',\n",
       " 'Customer Data Management Analyst',\n",
       " 'Data Analyst',\n",
       " 'Assistant/deputy Manager - Geo-spatial Data Analyst',\n",
       " 'Senior Data Analyst',\n",
       " 'Senior Data Analyst',\n",
       " 'Senior Data Analyst',\n",
       " 'Openings For SQL Data Analyst']"
      ]
     },
     "execution_count": 6,
     "metadata": {},
     "output_type": "execute_result"
    }
   ],
   "source": [
    "jt = []\n",
    "jl = []\n",
    "cn = []\n",
    "er = []\n",
    "\n",
    "titles_tags = driver.find_elements_by_xpath(\"//a[@class='title fw500 ellipsis']\")\n",
    "\n",
    "for i in titles_tags:\n",
    "    title = i.text\n",
    "    jt.append(title)\n",
    "jt\n",
    "jt[0:10]\n",
    "t=jt[0:10]\n",
    "t\n"
   ]
  },
  {
   "cell_type": "code",
   "execution_count": 7,
   "id": "6ef8024c",
   "metadata": {},
   "outputs": [
    {
     "data": {
      "text/plain": [
       "['Bangalore/Bengaluru',\n",
       " 'Bengaluru/Bangalore',\n",
       " 'Pune, Bangalore/Bengaluru',\n",
       " 'Bangalore/Bengaluru',\n",
       " 'Bangalore/Bengaluru',\n",
       " 'Gurgaon/Gurugram, bangalore',\n",
       " 'Bangalore/Bengaluru',\n",
       " 'Bengaluru/Bangalore',\n",
       " 'Bangalore/Bengaluru',\n",
       " 'Bangalore/Bengaluru']"
      ]
     },
     "execution_count": 7,
     "metadata": {},
     "output_type": "execute_result"
    }
   ],
   "source": [
    "location_tags = driver.find_elements_by_xpath(\"//span[@class='ellipsis fleft fs12 lh16 ']\")\n",
    "location_tags\n",
    "for c in location_tags:\n",
    "    location= c.text\n",
    "    jl.append(location)\n",
    "l =jl[2::3]\n",
    "l\n",
    "lc=l[0:7]\n",
    "lc\n",
    "lcn =jl[24::4]\n",
    "lcns = lcn[0:2]\n",
    "lcnsx= lcn[4]\n",
    "lcnsx\n",
    "location = lc+lcns\n",
    "location.append(lcnsx)\n",
    "location#imp"
   ]
  },
  {
   "cell_type": "code",
   "execution_count": 8,
   "id": "c7be7d5d",
   "metadata": {},
   "outputs": [
    {
     "data": {
      "text/plain": [
       "['1-6 Yrs',\n",
       " '2-4 Yrs',\n",
       " '7-12 Yrs',\n",
       " '0-2 Yrs',\n",
       " '3-8 Yrs',\n",
       " '3-5 Yrs',\n",
       " '1-6 Yrs',\n",
       " '4-5 Yrs',\n",
       " '0-2 Yrs',\n",
       " '3-7 Yrs']"
      ]
     },
     "execution_count": 8,
     "metadata": {},
     "output_type": "execute_result"
    }
   ],
   "source": [
    "#experience\n",
    "\n",
    "ex=jl[0::3]\n",
    "\n",
    "e=ex[0:7]\n",
    "e\n",
    "\n",
    "\n",
    "ez=jl[22::4]\n",
    "ezx=ez[0:2]\n",
    "ezxp=ez[4]\n",
    "\n",
    "exp=e+ezx\n",
    "exp.append(ezxp)\n",
    "\n",
    "exp#imp"
   ]
  },
  {
   "cell_type": "code",
   "execution_count": 9,
   "id": "49d27738",
   "metadata": {},
   "outputs": [
    {
     "data": {
      "text/plain": [
       "['Flipkart',\n",
       " 'Flipkart',\n",
       " 'Genpact',\n",
       " 'Aspect',\n",
       " 'GlaxoSmithKline Pharmaceuticals Limited',\n",
       " 'Maruti Suzuki India',\n",
       " 'Rapido',\n",
       " 'SYREN TECHNOLOGIES PRIVATE LIMITED',\n",
       " 'Flipkart',\n",
       " 'StackNexus Technologies India Pvt. Ltd']"
      ]
     },
     "execution_count": 9,
     "metadata": {},
     "output_type": "execute_result"
    }
   ],
   "source": [
    "companies_tags = driver.find_elements_by_xpath(\"//a[@class='subTitle ellipsis fleft']\")\n",
    "\n",
    "companies_tags\n",
    "for c in companies_tags:\n",
    "    companies= c.text\n",
    "    cn.append(companies)\n",
    "cn\n",
    "cnme=cn[0:10]\n",
    "cnme"
   ]
  },
  {
   "cell_type": "code",
   "execution_count": 10,
   "id": "e03f687d",
   "metadata": {},
   "outputs": [
    {
     "data": {
      "text/html": [
       "<div>\n",
       "<style scoped>\n",
       "    .dataframe tbody tr th:only-of-type {\n",
       "        vertical-align: middle;\n",
       "    }\n",
       "\n",
       "    .dataframe tbody tr th {\n",
       "        vertical-align: top;\n",
       "    }\n",
       "\n",
       "    .dataframe thead th {\n",
       "        text-align: right;\n",
       "    }\n",
       "</style>\n",
       "<table border=\"1\" class=\"dataframe\">\n",
       "  <thead>\n",
       "    <tr style=\"text-align: right;\">\n",
       "      <th></th>\n",
       "      <th>title</th>\n",
       "      <th>company</th>\n",
       "      <th>experience_required</th>\n",
       "      <th>location</th>\n",
       "    </tr>\n",
       "  </thead>\n",
       "  <tbody>\n",
       "    <tr>\n",
       "      <th>0</th>\n",
       "      <td>Hiring -Data Analyst, Business Analyst, MIS An...</td>\n",
       "      <td>Flipkart</td>\n",
       "      <td>1-6 Yrs</td>\n",
       "      <td>Bangalore/Bengaluru</td>\n",
       "    </tr>\n",
       "    <tr>\n",
       "      <th>1</th>\n",
       "      <td>Senior Data Analyst III</td>\n",
       "      <td>Flipkart</td>\n",
       "      <td>2-4 Yrs</td>\n",
       "      <td>Bengaluru/Bangalore</td>\n",
       "    </tr>\n",
       "    <tr>\n",
       "      <th>2</th>\n",
       "      <td>Business Analyst/ Data Analyst- Capital Market...</td>\n",
       "      <td>Genpact</td>\n",
       "      <td>7-12 Yrs</td>\n",
       "      <td>Pune, Bangalore/Bengaluru</td>\n",
       "    </tr>\n",
       "    <tr>\n",
       "      <th>3</th>\n",
       "      <td>Customer Data Management Analyst</td>\n",
       "      <td>Aspect</td>\n",
       "      <td>0-2 Yrs</td>\n",
       "      <td>Bangalore/Bengaluru</td>\n",
       "    </tr>\n",
       "    <tr>\n",
       "      <th>4</th>\n",
       "      <td>Data Analyst</td>\n",
       "      <td>GlaxoSmithKline Pharmaceuticals Limited</td>\n",
       "      <td>3-8 Yrs</td>\n",
       "      <td>Bangalore/Bengaluru</td>\n",
       "    </tr>\n",
       "    <tr>\n",
       "      <th>5</th>\n",
       "      <td>Assistant/deputy Manager - Geo-spatial Data An...</td>\n",
       "      <td>Maruti Suzuki India</td>\n",
       "      <td>3-5 Yrs</td>\n",
       "      <td>Gurgaon/Gurugram, bangalore</td>\n",
       "    </tr>\n",
       "    <tr>\n",
       "      <th>6</th>\n",
       "      <td>Senior Data Analyst</td>\n",
       "      <td>Rapido</td>\n",
       "      <td>1-6 Yrs</td>\n",
       "      <td>Bangalore/Bengaluru</td>\n",
       "    </tr>\n",
       "    <tr>\n",
       "      <th>7</th>\n",
       "      <td>Senior Data Analyst</td>\n",
       "      <td>SYREN TECHNOLOGIES PRIVATE LIMITED</td>\n",
       "      <td>4-5 Yrs</td>\n",
       "      <td>Bengaluru/Bangalore</td>\n",
       "    </tr>\n",
       "    <tr>\n",
       "      <th>8</th>\n",
       "      <td>Senior Data Analyst</td>\n",
       "      <td>Flipkart</td>\n",
       "      <td>0-2 Yrs</td>\n",
       "      <td>Bangalore/Bengaluru</td>\n",
       "    </tr>\n",
       "    <tr>\n",
       "      <th>9</th>\n",
       "      <td>Openings For SQL Data Analyst</td>\n",
       "      <td>StackNexus Technologies India Pvt. Ltd</td>\n",
       "      <td>3-7 Yrs</td>\n",
       "      <td>Bangalore/Bengaluru</td>\n",
       "    </tr>\n",
       "  </tbody>\n",
       "</table>\n",
       "</div>"
      ],
      "text/plain": [
       "                                               title  \\\n",
       "0  Hiring -Data Analyst, Business Analyst, MIS An...   \n",
       "1                            Senior Data Analyst III   \n",
       "2  Business Analyst/ Data Analyst- Capital Market...   \n",
       "3                   Customer Data Management Analyst   \n",
       "4                                       Data Analyst   \n",
       "5  Assistant/deputy Manager - Geo-spatial Data An...   \n",
       "6                                Senior Data Analyst   \n",
       "7                                Senior Data Analyst   \n",
       "8                                Senior Data Analyst   \n",
       "9                      Openings For SQL Data Analyst   \n",
       "\n",
       "                                   company experience_required  \\\n",
       "0                                 Flipkart             1-6 Yrs   \n",
       "1                                 Flipkart             2-4 Yrs   \n",
       "2                                  Genpact            7-12 Yrs   \n",
       "3                                   Aspect             0-2 Yrs   \n",
       "4  GlaxoSmithKline Pharmaceuticals Limited             3-8 Yrs   \n",
       "5                      Maruti Suzuki India             3-5 Yrs   \n",
       "6                                   Rapido             1-6 Yrs   \n",
       "7       SYREN TECHNOLOGIES PRIVATE LIMITED             4-5 Yrs   \n",
       "8                                 Flipkart             0-2 Yrs   \n",
       "9   StackNexus Technologies India Pvt. Ltd             3-7 Yrs   \n",
       "\n",
       "                      location  \n",
       "0          Bangalore/Bengaluru  \n",
       "1          Bengaluru/Bangalore  \n",
       "2    Pune, Bangalore/Bengaluru  \n",
       "3          Bangalore/Bengaluru  \n",
       "4          Bangalore/Bengaluru  \n",
       "5  Gurgaon/Gurugram, bangalore  \n",
       "6          Bangalore/Bengaluru  \n",
       "7          Bengaluru/Bangalore  \n",
       "8          Bangalore/Bengaluru  \n",
       "9          Bangalore/Bengaluru  "
      ]
     },
     "execution_count": 10,
     "metadata": {},
     "output_type": "execute_result"
    }
   ],
   "source": [
    "jobs=pd.DataFrame({})\n",
    "jobs['title']=t\n",
    "jobs['company']=cnme\n",
    "jobs['experience_required']=exp\n",
    "jobs['location']=location\n",
    "\n",
    "jobs"
   ]
  },
  {
   "cell_type": "code",
   "execution_count": null,
   "id": "b27af2b9",
   "metadata": {},
   "outputs": [],
   "source": []
  },
  {
   "cell_type": "markdown",
   "id": "329a965a",
   "metadata": {},
   "source": [
    "# Q2: Write a python program to scrape data for “Data Scientist” Job position in “Bangalore” location. You \n",
    "have to scrape the job-title, job-location, company_name. You have to scrape first 10 jobs data. "
   ]
  },
  {
   "cell_type": "code",
   "execution_count": 18,
   "id": "16552446",
   "metadata": {},
   "outputs": [],
   "source": [
    "\n",
    "\n",
    "import warnings\n",
    "warnings.filterwarnings('ignore')\n",
    "\n",
    "\n",
    "import selenium\n",
    "import pandas as pd\n",
    "from selenium import webdriver\n",
    "\n",
    "driver = webdriver.Chrome(r\"C:/Users/Jay gawande/Downloads/chromedriver_win32/chromedriver.exe\")\n",
    "\n",
    "\n",
    "\n",
    "\n",
    "\n",
    "driver.get('https://www.naukri.com/')\n",
    "\n",
    "\n",
    "p = driver.find_element_by_id('qsb-keyword-sugg')\n",
    "p.send_keys(\"Data Scientist\")\n",
    "l = driver.find_element_by_xpath(\"//input[@id='qsb-location-sugg']\")\n",
    "l.send_keys(\"Bangalore\")\n",
    "\n",
    "s = driver.find_element_by_xpath(\"//div[@class='search-btn']/button\")\n",
    "\n",
    "s.click()"
   ]
  },
  {
   "cell_type": "code",
   "execution_count": 19,
   "id": "b5e2e244",
   "metadata": {},
   "outputs": [
    {
     "data": {
      "text/plain": [
       "['Lead / Principal Data Scientist',\n",
       " 'Data Scientist',\n",
       " 'Senior Data Scientist',\n",
       " 'Senior Data Scientist',\n",
       " 'Data Scientist - Credit Risk',\n",
       " 'Lead/Senior Data Scientist (NLP)',\n",
       " 'Data Scientist 2',\n",
       " 'Machine Learning AI Data Scientist',\n",
       " 'Sr. Associate Consultant Data Scientist',\n",
       " 'Senior Engineer - AIML - Data Scientist']"
      ]
     },
     "execution_count": 19,
     "metadata": {},
     "output_type": "execute_result"
    }
   ],
   "source": [
    "jt = []\n",
    "jl = []\n",
    "cn = []\n",
    "\n",
    "titles_tags = driver.find_elements_by_xpath(\"//a[@class='title fw500 ellipsis']\")\n",
    "\n",
    "for i in titles_tags:\n",
    "    title = i.text\n",
    "    jt.append(title)\n",
    "jt[0:10]\n",
    "t=jt[0:10]\n",
    "t#imp"
   ]
  },
  {
   "cell_type": "code",
   "execution_count": 21,
   "id": "513be29d",
   "metadata": {},
   "outputs": [
    {
     "data": {
      "text/plain": [
       "['Bangalore/Bengaluru',\n",
       " 'Bangalore/Bengaluru',\n",
       " 'Bangalore/Bengaluru',\n",
       " 'Bangalore/Bengaluru',\n",
       " 'Kolkata, Mumbai, Bangalore/Bengaluru',\n",
       " 'Bengaluru/Bangalore',\n",
       " 'Bangalore/Bengaluru',\n",
       " 'Bangalore/Bengaluru',\n",
       " 'Bangalore/Bengaluru',\n",
       " 'Hyderabad/Secunderabad, Bangalore/Bengaluru, Mumbai (All Areas)']"
      ]
     },
     "execution_count": 21,
     "metadata": {},
     "output_type": "execute_result"
    }
   ],
   "source": [
    "location_tags = driver.find_elements_by_xpath(\"//span[@class='ellipsis fleft fs12 lh16 ']\")\n",
    "for c in location_tags:\n",
    "    location= c.text\n",
    "    jl.append(location)\n",
    "jl\n",
    "l =jl[2::3]\n",
    "loc=l[24:34]\n",
    "loc#imp"
   ]
  },
  {
   "cell_type": "code",
   "execution_count": 22,
   "id": "35ced4cf",
   "metadata": {},
   "outputs": [
    {
     "data": {
      "text/plain": [
       "['Aviso Inc',\n",
       " 'Snaphunt',\n",
       " 'Ally-Executive',\n",
       " 'Visa',\n",
       " 'Scienaptic Systems',\n",
       " 'Samya.AI A FRACTAL Entity',\n",
       " 'ANI Technologies Pvt. Ltd.',\n",
       " 'EKO Infomatics Solutions Private Limited',\n",
       " 'Eli Lilly and Company',\n",
       " 'Unisys']"
      ]
     },
     "execution_count": 22,
     "metadata": {},
     "output_type": "execute_result"
    }
   ],
   "source": [
    "companies_tags = driver.find_elements_by_xpath(\"//a[@class='subTitle ellipsis fleft']\")\n",
    "\n",
    "companies_tags\n",
    "for c in companies_tags:\n",
    "    companies= c.text\n",
    "    cn.append(companies)\n",
    "cn\n",
    "cnme=cn[0:10]\n",
    "cnme"
   ]
  },
  {
   "cell_type": "code",
   "execution_count": 23,
   "id": "debef2f3",
   "metadata": {},
   "outputs": [
    {
     "data": {
      "text/html": [
       "<div>\n",
       "<style scoped>\n",
       "    .dataframe tbody tr th:only-of-type {\n",
       "        vertical-align: middle;\n",
       "    }\n",
       "\n",
       "    .dataframe tbody tr th {\n",
       "        vertical-align: top;\n",
       "    }\n",
       "\n",
       "    .dataframe thead th {\n",
       "        text-align: right;\n",
       "    }\n",
       "</style>\n",
       "<table border=\"1\" class=\"dataframe\">\n",
       "  <thead>\n",
       "    <tr style=\"text-align: right;\">\n",
       "      <th></th>\n",
       "      <th>title</th>\n",
       "      <th>company</th>\n",
       "      <th>location</th>\n",
       "    </tr>\n",
       "  </thead>\n",
       "  <tbody>\n",
       "    <tr>\n",
       "      <th>0</th>\n",
       "      <td>Lead / Principal Data Scientist</td>\n",
       "      <td>Aviso Inc</td>\n",
       "      <td>Bangalore/Bengaluru</td>\n",
       "    </tr>\n",
       "    <tr>\n",
       "      <th>1</th>\n",
       "      <td>Data Scientist</td>\n",
       "      <td>Snaphunt</td>\n",
       "      <td>Bangalore/Bengaluru</td>\n",
       "    </tr>\n",
       "    <tr>\n",
       "      <th>2</th>\n",
       "      <td>Senior Data Scientist</td>\n",
       "      <td>Ally-Executive</td>\n",
       "      <td>Bangalore/Bengaluru</td>\n",
       "    </tr>\n",
       "    <tr>\n",
       "      <th>3</th>\n",
       "      <td>Senior Data Scientist</td>\n",
       "      <td>Visa</td>\n",
       "      <td>Bangalore/Bengaluru</td>\n",
       "    </tr>\n",
       "    <tr>\n",
       "      <th>4</th>\n",
       "      <td>Data Scientist - Credit Risk</td>\n",
       "      <td>Scienaptic Systems</td>\n",
       "      <td>Kolkata, Mumbai, Bangalore/Bengaluru</td>\n",
       "    </tr>\n",
       "    <tr>\n",
       "      <th>5</th>\n",
       "      <td>Lead/Senior Data Scientist (NLP)</td>\n",
       "      <td>Samya.AI A FRACTAL Entity</td>\n",
       "      <td>Bengaluru/Bangalore</td>\n",
       "    </tr>\n",
       "    <tr>\n",
       "      <th>6</th>\n",
       "      <td>Data Scientist 2</td>\n",
       "      <td>ANI Technologies Pvt. Ltd.</td>\n",
       "      <td>Bangalore/Bengaluru</td>\n",
       "    </tr>\n",
       "    <tr>\n",
       "      <th>7</th>\n",
       "      <td>Machine Learning AI Data Scientist</td>\n",
       "      <td>EKO Infomatics Solutions Private Limited</td>\n",
       "      <td>Bangalore/Bengaluru</td>\n",
       "    </tr>\n",
       "    <tr>\n",
       "      <th>8</th>\n",
       "      <td>Sr. Associate Consultant Data Scientist</td>\n",
       "      <td>Eli Lilly and Company</td>\n",
       "      <td>Bangalore/Bengaluru</td>\n",
       "    </tr>\n",
       "    <tr>\n",
       "      <th>9</th>\n",
       "      <td>Senior Engineer - AIML - Data Scientist</td>\n",
       "      <td>Unisys</td>\n",
       "      <td>Hyderabad/Secunderabad, Bangalore/Bengaluru, M...</td>\n",
       "    </tr>\n",
       "  </tbody>\n",
       "</table>\n",
       "</div>"
      ],
      "text/plain": [
       "                                     title  \\\n",
       "0          Lead / Principal Data Scientist   \n",
       "1                           Data Scientist   \n",
       "2                    Senior Data Scientist   \n",
       "3                    Senior Data Scientist   \n",
       "4             Data Scientist - Credit Risk   \n",
       "5         Lead/Senior Data Scientist (NLP)   \n",
       "6                         Data Scientist 2   \n",
       "7       Machine Learning AI Data Scientist   \n",
       "8  Sr. Associate Consultant Data Scientist   \n",
       "9  Senior Engineer - AIML - Data Scientist   \n",
       "\n",
       "                                    company  \\\n",
       "0                                 Aviso Inc   \n",
       "1                                  Snaphunt   \n",
       "2                            Ally-Executive   \n",
       "3                                      Visa   \n",
       "4                        Scienaptic Systems   \n",
       "5                 Samya.AI A FRACTAL Entity   \n",
       "6                ANI Technologies Pvt. Ltd.   \n",
       "7  EKO Infomatics Solutions Private Limited   \n",
       "8                     Eli Lilly and Company   \n",
       "9                                    Unisys   \n",
       "\n",
       "                                            location  \n",
       "0                                Bangalore/Bengaluru  \n",
       "1                                Bangalore/Bengaluru  \n",
       "2                                Bangalore/Bengaluru  \n",
       "3                                Bangalore/Bengaluru  \n",
       "4               Kolkata, Mumbai, Bangalore/Bengaluru  \n",
       "5                                Bengaluru/Bangalore  \n",
       "6                                Bangalore/Bengaluru  \n",
       "7                                Bangalore/Bengaluru  \n",
       "8                                Bangalore/Bengaluru  \n",
       "9  Hyderabad/Secunderabad, Bangalore/Bengaluru, M...  "
      ]
     },
     "execution_count": 23,
     "metadata": {},
     "output_type": "execute_result"
    }
   ],
   "source": [
    "jobs=pd.DataFrame({})\n",
    "jobs['title']=t\n",
    "jobs['company']=cnme\n",
    "jobs['location']=loc\n",
    "\n",
    "jobs"
   ]
  },
  {
   "cell_type": "code",
   "execution_count": null,
   "id": "906d7e28",
   "metadata": {},
   "outputs": [],
   "source": []
  },
  {
   "cell_type": "markdown",
   "id": "cefd8911",
   "metadata": {},
   "source": [
    "# Q3: In this question you have to scrape data using the filters available on the webpage"
   ]
  },
  {
   "cell_type": "code",
   "execution_count": 24,
   "id": "8050747e",
   "metadata": {},
   "outputs": [],
   "source": [
    "\n",
    "import warnings\n",
    "warnings.filterwarnings('ignore')\n",
    "\n",
    "\n",
    "import selenium\n",
    "import pandas as pd\n",
    "from selenium import webdriver\n",
    "\n",
    "driver = webdriver.Chrome(r\"C:/Users/Jay gawande/Downloads/chromedriver_win32/chromedriver.exe\")\n",
    "\n",
    "\n",
    "\n",
    "driver.get('https://www.naukri.com/')\n",
    "\n",
    "\n",
    "p = driver.find_element_by_id('qsb-keyword-sugg')\n",
    "p.send_keys(\"Data Scientist\")\n",
    "l = driver.find_element_by_xpath(\"//input[@id='qsb-location-sugg']\")\n",
    "l.send_keys(\"Delhi/NCR\")\n",
    "\n",
    "s = driver.find_element_by_xpath(\"//div[@class='search-btn']/button\")\n",
    "\n",
    "s.click()\n",
    "\n"
   ]
  },
  {
   "cell_type": "code",
   "execution_count": 25,
   "id": "fc7b3b89",
   "metadata": {},
   "outputs": [],
   "source": [
    "f = driver.find_element_by_xpath(\"//span[@title='3-6 Lakhs']\")\n",
    "f.click()\n"
   ]
  },
  {
   "cell_type": "code",
   "execution_count": 26,
   "id": "cf8b3012",
   "metadata": {},
   "outputs": [],
   "source": [
    "loc = driver.find_element_by_xpath(\"//span[@title='Delhi / NCR']\")\n",
    "loc.click()"
   ]
  },
  {
   "cell_type": "code",
   "execution_count": 27,
   "id": "4e02bb82",
   "metadata": {},
   "outputs": [],
   "source": [
    "jt = []\n",
    "jl = []\n",
    "cn = []\n",
    "er = []\n"
   ]
  },
  {
   "cell_type": "code",
   "execution_count": 28,
   "id": "d345a19c",
   "metadata": {},
   "outputs": [
    {
     "data": {
      "text/plain": [
       "['Data Scientist',\n",
       " 'Data Scientist',\n",
       " 'Data Scientist/ Senior Data Scientist',\n",
       " 'Hiring For Data Scientist',\n",
       " 'Project Manager | Team Leader | Senior Data Scientist',\n",
       " 'Data Scientist',\n",
       " 'Senior Data Scientist',\n",
       " 'Data Scientist',\n",
       " 'NTT DATA_ Hiring For BIG DATA ,DATA Scientist, Devops',\n",
       " 'Data Scientist']"
      ]
     },
     "execution_count": 28,
     "metadata": {},
     "output_type": "execute_result"
    }
   ],
   "source": [
    "\n",
    "titles_tags = driver.find_elements_by_xpath(\"//a[@class='title fw500 ellipsis']\")\n",
    "\n",
    "for i in titles_tags:\n",
    "    title = i.text\n",
    "    jt.append(title)\n",
    "jt[0:10]\n",
    "t=jt[0:10]\n",
    "t#imp"
   ]
  },
  {
   "cell_type": "code",
   "execution_count": 29,
   "id": "cc8934d9",
   "metadata": {},
   "outputs": [
    {
     "data": {
      "text/plain": [
       "['LG Electronics India Pvt. Ltd.',\n",
       " 'Navikenz India Pvt Ltd',\n",
       " 'Newgen Software Technologies',\n",
       " 'Tata Consultancy Services Ltd.',\n",
       " 'Tidyquant (OPC) Private Limited',\n",
       " 'Teleperformance',\n",
       " 'iNICU',\n",
       " 'The Boston Consulting Group (India) Pvt Limited',\n",
       " 'NTT Data Business Solutions Pvt Ltd',\n",
       " 'BlackBuck']"
      ]
     },
     "execution_count": 29,
     "metadata": {},
     "output_type": "execute_result"
    }
   ],
   "source": [
    "companies_tags = driver.find_elements_by_xpath(\"//a[@class='subTitle ellipsis fleft']\")\n",
    "\n",
    "companies_tags\n",
    "for c in companies_tags:\n",
    "    companies= c.text\n",
    "    cn.append(companies)\n",
    "cn\n",
    "cnme=cn[0:10]\n",
    "cnme#imp"
   ]
  },
  {
   "cell_type": "code",
   "execution_count": 30,
   "id": "7059fd8f",
   "metadata": {},
   "outputs": [
    {
     "data": {
      "text/plain": [
       "['Delhi',\n",
       " 'Delhi',\n",
       " 'Delhi',\n",
       " 'Noida',\n",
       " 'Delhi',\n",
       " 'Noida, Ghaziabad, Delhi / NCR',\n",
       " 'Gurgaon/Gurugram',\n",
       " 'Noida(Sector-126 Noida)',\n",
       " 'Gurgaon/Gurugram',\n",
       " 'Noida, New Delhi, Faridabad, Gurgaon/Gurugram, Delhi / NCR']"
      ]
     },
     "execution_count": 30,
     "metadata": {},
     "output_type": "execute_result"
    }
   ],
   "source": [
    "location_tags = driver.find_elements_by_xpath(\"//span[@class='ellipsis fleft fs12 lh16 ']\")\n",
    "for c in location_tags:\n",
    "    location= c.text\n",
    "    jl.append(location)\n",
    "jl\n",
    "\n",
    "l =jl[27::3]\n",
    "l\n",
    "ln = jl[2]\n",
    "ln\n",
    "l.append(ln)\n",
    "l#imp"
   ]
  },
  {
   "cell_type": "code",
   "execution_count": 31,
   "id": "14515f2f",
   "metadata": {},
   "outputs": [
    {
     "data": {
      "text/plain": [
       "['2-7 Yrs',\n",
       " '2-6 Yrs',\n",
       " '2-6 Yrs',\n",
       " '3-6 Yrs',\n",
       " '1-5 Yrs',\n",
       " '0-0 Yrs',\n",
       " '3-7 Yrs',\n",
       " '4-6 Yrs',\n",
       " '1-3 Yrs',\n",
       " '0-2 Yrs']"
      ]
     },
     "execution_count": 31,
     "metadata": {},
     "output_type": "execute_result"
    }
   ],
   "source": [
    "e = jl[25::3]\n",
    "ex = jl[0]\n",
    "e.append(ex)\n",
    "e#imp"
   ]
  },
  {
   "cell_type": "code",
   "execution_count": 32,
   "id": "3e6eecb4",
   "metadata": {},
   "outputs": [
    {
     "data": {
      "text/html": [
       "<div>\n",
       "<style scoped>\n",
       "    .dataframe tbody tr th:only-of-type {\n",
       "        vertical-align: middle;\n",
       "    }\n",
       "\n",
       "    .dataframe tbody tr th {\n",
       "        vertical-align: top;\n",
       "    }\n",
       "\n",
       "    .dataframe thead th {\n",
       "        text-align: right;\n",
       "    }\n",
       "</style>\n",
       "<table border=\"1\" class=\"dataframe\">\n",
       "  <thead>\n",
       "    <tr style=\"text-align: right;\">\n",
       "      <th></th>\n",
       "      <th>title</th>\n",
       "      <th>company</th>\n",
       "      <th>experience_required</th>\n",
       "      <th>location</th>\n",
       "    </tr>\n",
       "  </thead>\n",
       "  <tbody>\n",
       "    <tr>\n",
       "      <th>0</th>\n",
       "      <td>Data Scientist</td>\n",
       "      <td>LG Electronics India Pvt. Ltd.</td>\n",
       "      <td>2-7 Yrs</td>\n",
       "      <td>Delhi</td>\n",
       "    </tr>\n",
       "    <tr>\n",
       "      <th>1</th>\n",
       "      <td>Data Scientist</td>\n",
       "      <td>Navikenz India Pvt Ltd</td>\n",
       "      <td>2-6 Yrs</td>\n",
       "      <td>Delhi</td>\n",
       "    </tr>\n",
       "    <tr>\n",
       "      <th>2</th>\n",
       "      <td>Data Scientist/ Senior Data Scientist</td>\n",
       "      <td>Newgen Software Technologies</td>\n",
       "      <td>2-6 Yrs</td>\n",
       "      <td>Delhi</td>\n",
       "    </tr>\n",
       "    <tr>\n",
       "      <th>3</th>\n",
       "      <td>Hiring For Data Scientist</td>\n",
       "      <td>Tata Consultancy Services Ltd.</td>\n",
       "      <td>3-6 Yrs</td>\n",
       "      <td>Noida</td>\n",
       "    </tr>\n",
       "    <tr>\n",
       "      <th>4</th>\n",
       "      <td>Project Manager | Team Leader | Senior Data Sc...</td>\n",
       "      <td>Tidyquant (OPC) Private Limited</td>\n",
       "      <td>1-5 Yrs</td>\n",
       "      <td>Delhi</td>\n",
       "    </tr>\n",
       "    <tr>\n",
       "      <th>5</th>\n",
       "      <td>Data Scientist</td>\n",
       "      <td>Teleperformance</td>\n",
       "      <td>0-0 Yrs</td>\n",
       "      <td>Noida, Ghaziabad, Delhi / NCR</td>\n",
       "    </tr>\n",
       "    <tr>\n",
       "      <th>6</th>\n",
       "      <td>Senior Data Scientist</td>\n",
       "      <td>iNICU</td>\n",
       "      <td>3-7 Yrs</td>\n",
       "      <td>Gurgaon/Gurugram</td>\n",
       "    </tr>\n",
       "    <tr>\n",
       "      <th>7</th>\n",
       "      <td>Data Scientist</td>\n",
       "      <td>The Boston Consulting Group (India) Pvt Limited</td>\n",
       "      <td>4-6 Yrs</td>\n",
       "      <td>Noida(Sector-126 Noida)</td>\n",
       "    </tr>\n",
       "    <tr>\n",
       "      <th>8</th>\n",
       "      <td>NTT DATA_ Hiring For BIG DATA ,DATA Scientist,...</td>\n",
       "      <td>NTT Data Business Solutions Pvt Ltd</td>\n",
       "      <td>1-3 Yrs</td>\n",
       "      <td>Gurgaon/Gurugram</td>\n",
       "    </tr>\n",
       "    <tr>\n",
       "      <th>9</th>\n",
       "      <td>Data Scientist</td>\n",
       "      <td>BlackBuck</td>\n",
       "      <td>0-2 Yrs</td>\n",
       "      <td>Noida, New Delhi, Faridabad, Gurgaon/Gurugram,...</td>\n",
       "    </tr>\n",
       "  </tbody>\n",
       "</table>\n",
       "</div>"
      ],
      "text/plain": [
       "                                               title  \\\n",
       "0                                     Data Scientist   \n",
       "1                                     Data Scientist   \n",
       "2              Data Scientist/ Senior Data Scientist   \n",
       "3                          Hiring For Data Scientist   \n",
       "4  Project Manager | Team Leader | Senior Data Sc...   \n",
       "5                                     Data Scientist   \n",
       "6                              Senior Data Scientist   \n",
       "7                                     Data Scientist   \n",
       "8  NTT DATA_ Hiring For BIG DATA ,DATA Scientist,...   \n",
       "9                                     Data Scientist   \n",
       "\n",
       "                                           company experience_required  \\\n",
       "0                   LG Electronics India Pvt. Ltd.             2-7 Yrs   \n",
       "1                           Navikenz India Pvt Ltd             2-6 Yrs   \n",
       "2                     Newgen Software Technologies             2-6 Yrs   \n",
       "3                   Tata Consultancy Services Ltd.             3-6 Yrs   \n",
       "4                  Tidyquant (OPC) Private Limited             1-5 Yrs   \n",
       "5                                  Teleperformance             0-0 Yrs   \n",
       "6                                            iNICU             3-7 Yrs   \n",
       "7  The Boston Consulting Group (India) Pvt Limited             4-6 Yrs   \n",
       "8              NTT Data Business Solutions Pvt Ltd             1-3 Yrs   \n",
       "9                                        BlackBuck             0-2 Yrs   \n",
       "\n",
       "                                            location  \n",
       "0                                              Delhi  \n",
       "1                                              Delhi  \n",
       "2                                              Delhi  \n",
       "3                                              Noida  \n",
       "4                                              Delhi  \n",
       "5                      Noida, Ghaziabad, Delhi / NCR  \n",
       "6                                   Gurgaon/Gurugram  \n",
       "7                            Noida(Sector-126 Noida)  \n",
       "8                                   Gurgaon/Gurugram  \n",
       "9  Noida, New Delhi, Faridabad, Gurgaon/Gurugram,...  "
      ]
     },
     "execution_count": 32,
     "metadata": {},
     "output_type": "execute_result"
    }
   ],
   "source": [
    "jobs=pd.DataFrame({})\n",
    "jobs['title']=t\n",
    "jobs['company']=cnme\n",
    "jobs['experience_required']=e\n",
    "jobs['location']=l\n",
    "\n",
    "jobs"
   ]
  },
  {
   "cell_type": "code",
   "execution_count": null,
   "id": "543922f9",
   "metadata": {},
   "outputs": [],
   "source": []
  },
  {
   "cell_type": "markdown",
   "id": "7b7a4a95",
   "metadata": {},
   "source": [
    "# Q4: Scrape data of first 100 sunglasses listings on flipkart.com. You have to scrape four attributes:"
   ]
  },
  {
   "cell_type": "code",
   "execution_count": null,
   "id": "2e7d24e7",
   "metadata": {},
   "outputs": [],
   "source": []
  },
  {
   "cell_type": "code",
   "execution_count": 87,
   "id": "7e070c96",
   "metadata": {},
   "outputs": [],
   "source": [
    "import warnings\n",
    "warnings.filterwarnings('ignore')\n",
    "\n",
    "\n",
    "import selenium\n",
    "import pandas as pd\n",
    "from selenium import webdriver\n",
    "\n",
    "driver = webdriver.Chrome(r\"C:/Users/Jay gawande/Downloads/chromedriver_win32/chromedriver.exe\")"
   ]
  },
  {
   "cell_type": "code",
   "execution_count": 88,
   "id": "0526677c",
   "metadata": {},
   "outputs": [],
   "source": [
    "driver.get('https://www.flipkart.com/')"
   ]
  },
  {
   "cell_type": "code",
   "execution_count": 89,
   "id": "c0ef15d1",
   "metadata": {},
   "outputs": [],
   "source": [
    "l = driver.find_element_by_xpath(\"//input[@title='Search for products, brands and more']\")\n",
    "l.send_keys(\"sunglasses\")\n"
   ]
  },
  {
   "cell_type": "code",
   "execution_count": 90,
   "id": "fdd62f03",
   "metadata": {},
   "outputs": [],
   "source": [
    "s = driver.find_element_by_xpath(\"//button[@type='submit']\")\n",
    "s.click()"
   ]
  },
  {
   "cell_type": "code",
   "execution_count": 91,
   "id": "9b853e2e",
   "metadata": {},
   "outputs": [],
   "source": [
    "jt = []\n",
    "jl = []\n",
    "cn = []\n",
    "er = []\n"
   ]
  },
  {
   "cell_type": "code",
   "execution_count": 92,
   "id": "739606a8",
   "metadata": {},
   "outputs": [
    {
     "data": {
      "text/plain": [
       "['VINCENT CHASE',\n",
       " 'ROYAL SON',\n",
       " 'SRPM',\n",
       " 'Elligator',\n",
       " 'PIRASO',\n",
       " 'New Specs',\n",
       " 'Fastrack',\n",
       " 'ROZZETTA CRAFT',\n",
       " 'PIRASO',\n",
       " 'kingsunglasses',\n",
       " 'kingsunglasses',\n",
       " 'ROYAL SON',\n",
       " 'SHAAH COLLECTIONS',\n",
       " 'PIRASO',\n",
       " 'ROZZETTA CRAFT',\n",
       " 'ROYAL SON',\n",
       " 'ROZZETTA CRAFT',\n",
       " 'ROYAL SON',\n",
       " 'kingsunglasses',\n",
       " 'VINCENT CHASE',\n",
       " 'SUNBEE',\n",
       " 'PHENOMENAL',\n",
       " 'PIRASO',\n",
       " 'VINCENT CHASE',\n",
       " 'New Specs',\n",
       " 'ROZZETTA CRAFT',\n",
       " 'ROYAL SON',\n",
       " 'VINCENT CHASE',\n",
       " 'PIRASO',\n",
       " 'SHAAH COLLECTIONS',\n",
       " 'Singco India',\n",
       " 'ROYAL SON',\n",
       " 'PHENOMENAL',\n",
       " 'PIRASO',\n",
       " 'Rich Club',\n",
       " 'VINCENT CHASE',\n",
       " 'Fastrack',\n",
       " 'Fastrack',\n",
       " 'hipe',\n",
       " 'ROYAL SON']"
      ]
     },
     "execution_count": 92,
     "metadata": {},
     "output_type": "execute_result"
    }
   ],
   "source": [
    "titles_tags = driver.find_elements_by_xpath(\"//div[@class='_2WkVRV']\")\n",
    "\n",
    "for i in titles_tags:\n",
    "    title = i.text\n",
    "    jt.append(title)\n",
    "    \n",
    "jt#imp\n"
   ]
  },
  {
   "cell_type": "code",
   "execution_count": 93,
   "id": "73809f49",
   "metadata": {},
   "outputs": [
    {
     "data": {
      "text/plain": [
       "['by Lenskart UV Protection Aviator Sunglasses (53)',\n",
       " 'Polarized, UV Protection Round Sunglasses (52)',\n",
       " 'UV Protection Wayfarer Sunglasses (56)',\n",
       " 'UV Protection Round Sunglasses (54)',\n",
       " 'UV Protection Aviator Sunglasses (54)',\n",
       " 'UV Protection Rectangular Sunglasses (Free Size)',\n",
       " 'UV Protection Wayfarer Sunglasses (Free Size)',\n",
       " 'Gradient, UV Protection Round Sunglasses (Free Size)',\n",
       " 'UV Protection Aviator Sunglasses (54)',\n",
       " 'Mirrored, UV Protection Wayfarer Sunglasses (53)',\n",
       " 'UV Protection Round Sunglasses (54)',\n",
       " 'UV Protection, Gradient Butterfly Sunglasses (60)',\n",
       " 'UV Protection, Polarized, Mirrored Rectangular Sunglass...',\n",
       " 'UV Protection Aviator Sunglasses (55)',\n",
       " 'UV Protection, Gradient Rectangular Sunglasses (Free Si...',\n",
       " 'UV Protection, Gradient Butterfly Sunglasses (60)',\n",
       " 'UV Protection Retro Square Sunglasses (Free Size)',\n",
       " 'Mirrored Aviator Sunglasses (55)',\n",
       " 'UV Protection, Riding Glasses, Mirrored Wayfarer Sungla...',\n",
       " 'by Lenskart UV Protection Aviator Sunglasses (Free Size...',\n",
       " 'UV Protection, Polarized, Mirrored Round Sunglasses (Fr...',\n",
       " 'UV Protection Retro Square Sunglasses (Free Size)',\n",
       " 'UV Protection Wayfarer Sunglasses (32)',\n",
       " 'by Lenskart Polarized, UV Protection Wayfarer Sunglasse...',\n",
       " 'Mirrored, UV Protection, Riding Glasses, Others Round S...',\n",
       " 'UV Protection Round Sunglasses (Free Size)',\n",
       " 'UV Protection Rectangular Sunglasses (58)',\n",
       " 'by Lenskart UV Protection Aviator Sunglasses (53)',\n",
       " 'UV Protection Aviator Sunglasses (54)',\n",
       " 'UV Protection, Polarized, Mirrored Rectangular Sunglass...',\n",
       " 'Mirrored, Riding Glasses, Others Sports Sunglasses (50)',\n",
       " 'UV Protection, Gradient Over-sized Sunglasses (59)',\n",
       " 'UV Protection, Mirrored Retro Square Sunglasses (53)',\n",
       " 'UV Protection Aviator Sunglasses (58)',\n",
       " 'Polarized Round Sunglasses (48)',\n",
       " 'by Lenskart UV Protection Aviator Sunglasses (Free Size...',\n",
       " 'UV Protection Rectangular Sunglasses (Free Size)',\n",
       " 'Gradient, UV Protection Wayfarer Sunglasses (Free Size)',\n",
       " 'UV Protection Sports Sunglasses (Free Size)',\n",
       " 'UV Protection, Gradient Over-sized Sunglasses (59)']"
      ]
     },
     "execution_count": 93,
     "metadata": {},
     "output_type": "execute_result"
    }
   ],
   "source": [
    "pd=[]\n",
    "\n",
    "product_desc = driver.find_elements_by_xpath(\"//a[@class='IRpwTa']\")\n",
    "\n",
    "for i in product_desc:\n",
    "    title = i.text\n",
    "    pd.append(title)\n",
    "pd\n"
   ]
  },
  {
   "cell_type": "code",
   "execution_count": 94,
   "id": "1b5ecd8a",
   "metadata": {},
   "outputs": [
    {
     "data": {
      "text/plain": [
       "list"
      ]
     },
     "execution_count": 94,
     "metadata": {},
     "output_type": "execute_result"
    }
   ],
   "source": [
    "type(pd)"
   ]
  },
  {
   "cell_type": "code",
   "execution_count": 95,
   "id": "4d771c65",
   "metadata": {},
   "outputs": [
    {
     "data": {
      "text/plain": [
       "['₹999',\n",
       " '₹759',\n",
       " '₹188',\n",
       " '₹248',\n",
       " '₹200',\n",
       " '₹259',\n",
       " '₹699',\n",
       " '₹426',\n",
       " '₹187',\n",
       " '₹274',\n",
       " '₹189',\n",
       " '₹664',\n",
       " '₹170',\n",
       " '₹179',\n",
       " '₹383',\n",
       " '₹664',\n",
       " '₹474',\n",
       " '₹359',\n",
       " '₹187',\n",
       " '₹999',\n",
       " '₹271',\n",
       " '₹319',\n",
       " '₹187',\n",
       " '₹1,415',\n",
       " '₹259',\n",
       " '₹426',\n",
       " '₹449',\n",
       " '₹999',\n",
       " '₹187',\n",
       " '₹181',\n",
       " '₹194',\n",
       " '₹664',\n",
       " '₹299',\n",
       " '₹299',\n",
       " '₹175',\n",
       " '₹999',\n",
       " '₹639',\n",
       " '₹599',\n",
       " '₹287',\n",
       " '₹664']"
      ]
     },
     "execution_count": 95,
     "metadata": {},
     "output_type": "execute_result"
    }
   ],
   "source": [
    "pr=[]\n",
    "\n",
    "price = driver.find_elements_by_xpath(\"//div[@class='_30jeq3']\")\n",
    "\n",
    "for i in price:\n",
    "    title = i.text\n",
    "    pr.append(title)\n",
    "    \n",
    "pr#imp"
   ]
  },
  {
   "cell_type": "code",
   "execution_count": 96,
   "id": "e3bf4af3",
   "metadata": {},
   "outputs": [
    {
     "data": {
      "text/plain": [
       "['50% off',\n",
       " '62% off',\n",
       " '85% off',\n",
       " '90% off',\n",
       " '87% off',\n",
       " '87% off',\n",
       " '22% off',\n",
       " '78% off',\n",
       " '88% off',\n",
       " '86% off',\n",
       " '82% off',\n",
       " '66% off',\n",
       " '89% off',\n",
       " '88% off',\n",
       " '80% off',\n",
       " '66% off',\n",
       " '78% off',\n",
       " '76% off',\n",
       " '84% off',\n",
       " '50% off',\n",
       " '84% off',\n",
       " '84% off',\n",
       " '88% off',\n",
       " '29% off',\n",
       " '81% off',\n",
       " '84% off',\n",
       " '70% off',\n",
       " '50% off',\n",
       " '88% off',\n",
       " '81% off',\n",
       " '87% off',\n",
       " '66% off',\n",
       " '85% off',\n",
       " '88% off',\n",
       " '64% off',\n",
       " '50% off',\n",
       " '20% off',\n",
       " '25% off',\n",
       " '84% off',\n",
       " '66% off']"
      ]
     },
     "execution_count": 96,
     "metadata": {},
     "output_type": "execute_result"
    }
   ],
   "source": [
    "d=[]\n",
    "\n",
    "discount = driver.find_elements_by_xpath(\"//div[@class='_3Ay6Sb']\")\n",
    "\n",
    "for i in discount:\n",
    "    title = i.text\n",
    "    d.append(title)\n",
    "    \n",
    "d"
   ]
  },
  {
   "cell_type": "code",
   "execution_count": 97,
   "id": "543d99a5",
   "metadata": {},
   "outputs": [],
   "source": [
    "p1 = driver.find_element_by_xpath(\"//a[@class='_1LKTO3']\")\n",
    "p1.click()\n"
   ]
  },
  {
   "cell_type": "code",
   "execution_count": 98,
   "id": "8d2db256",
   "metadata": {},
   "outputs": [
    {
     "data": {
      "text/plain": [
       "['Fastrack',\n",
       " 'Fastrack',\n",
       " 'PIRASO',\n",
       " 'VINCENT CHASE',\n",
       " 'kingsunglasses',\n",
       " 'PIRASO',\n",
       " 'Singco India',\n",
       " 'AISLIN',\n",
       " 'ROZZETTA CRAFT',\n",
       " 'ROYAL SON',\n",
       " 'SUNBEE',\n",
       " 'AISLIN',\n",
       " 'Rich Club',\n",
       " 'Lee Topper',\n",
       " 'PHENOMENAL',\n",
       " 'ROYAL SON',\n",
       " 'PIRASO',\n",
       " 'ROZZETTA CRAFT',\n",
       " 'ROYAL SON',\n",
       " 'ROYAL SON',\n",
       " 'ROYAL SON',\n",
       " 'kingsunglasses',\n",
       " 'ROYAL SON',\n",
       " 'VINCENT CHASE',\n",
       " 'kingsunglasses',\n",
       " 'ROYAL SON',\n",
       " 'SUNBEE',\n",
       " 'VINCENT CHASE',\n",
       " 'Elligator',\n",
       " 'PIRASO',\n",
       " 'DEIXELS',\n",
       " 'VINCENT CHASE',\n",
       " 'Fastrack',\n",
       " 'kingsunglasses',\n",
       " 'PIRASO',\n",
       " 'AISLIN',\n",
       " 'PHENOMENAL',\n",
       " 'PHENOMENAL',\n",
       " 'ROYAL SON',\n",
       " 'AISLIN']"
      ]
     },
     "execution_count": 98,
     "metadata": {},
     "output_type": "execute_result"
    }
   ],
   "source": [
    "titles_tag = driver.find_elements_by_xpath(\"//div[@class='_2WkVRV']\")\n",
    "\n",
    "for i in titles_tag:\n",
    "    title = i.text\n",
    "    jl.append(title)\n",
    "    \n",
    "jl"
   ]
  },
  {
   "cell_type": "code",
   "execution_count": 99,
   "id": "18d20ab3",
   "metadata": {},
   "outputs": [
    {
     "data": {
      "text/plain": [
       "['Gradient, UV Protection Wayfarer Sunglasses (Free Size)',\n",
       " 'UV Protection Rectangular Sunglasses (Free Size)',\n",
       " 'UV Protection Butterfly Sunglasses (65)',\n",
       " 'by Lenskart Polarized, UV Protection Aviator Sunglasses...',\n",
       " 'Mirrored, UV Protection Wayfarer Sunglasses (Free Size)',\n",
       " 'UV Protection, Polarized Aviator Sunglasses (32)',\n",
       " 'UV Protection, Riding Glasses, Others Aviator, Wayfarer...',\n",
       " 'UV Protection, Gradient Cat-eye, Oval Sunglasses (61)',\n",
       " 'UV Protection, Gradient Retro Square Sunglasses (Free S...',\n",
       " 'Mirrored Aviator Sunglasses (55)',\n",
       " 'UV Protection, Polarized, Mirrored Wayfarer Sunglasses ...',\n",
       " 'UV Protection, Gradient Oval Sunglasses (58)',\n",
       " 'UV Protection Round Sunglasses (50)',\n",
       " 'Riding Glasses, Night Vision Wrap-around Sunglasses (Fr...',\n",
       " 'UV Protection Clubmaster Sunglasses (Free Size)',\n",
       " 'Polarized, UV Protection Aviator Sunglasses (58)',\n",
       " 'UV Protection Aviator Sunglasses (Free Size)',\n",
       " 'UV Protection, Gradient Round Sunglasses (Free Size)',\n",
       " 'UV Protection, Gradient Butterfly Sunglasses (57)',\n",
       " 'UV Protection Over-sized Sunglasses (60)',\n",
       " 'Mirrored Aviator Sunglasses (55)',\n",
       " 'UV Protection Rectangular Sunglasses (Free Size)',\n",
       " 'UV Protection Round Sunglasses (50)',\n",
       " 'UV Protection, Mirrored Round Sunglasses (54)',\n",
       " 'UV Protection Retro Square Sunglasses (58)',\n",
       " 'UV Protection, Polarized Wayfarer Sunglasses (Free Size...',\n",
       " 'by Lenskart UV Protection Wayfarer Sunglasses (51)',\n",
       " 'UV Protection Round Sunglasses (55)',\n",
       " 'UV Protection Aviator Sunglasses (58)',\n",
       " 'UV Protection Aviator, Wayfarer Sunglasses (Free Size)',\n",
       " 'by Lenskart Polarized, UV Protection Aviator Sunglasses...',\n",
       " 'UV Protection Aviator Sunglasses (Free Size)',\n",
       " 'Mirrored, UV Protection Aviator Sunglasses (56)',\n",
       " 'UV Protection Aviator Sunglasses (54)',\n",
       " 'UV Protection, Gradient Round Sunglasses (58)',\n",
       " 'UV Protection, Mirrored Clubmaster Sunglasses (Free Siz...',\n",
       " 'UV Protection, Mirrored Round Sunglasses (Free Size)',\n",
       " 'Mirrored Aviator Sunglasses (58)',\n",
       " 'UV Protection Shield, Wayfarer Sunglasses (61)']"
      ]
     },
     "execution_count": 99,
     "metadata": {},
     "output_type": "execute_result"
    }
   ],
   "source": [
    "pda=[]\n",
    "\n",
    "product_desca = driver.find_elements_by_xpath(\"//a[@class='IRpwTa']\")\n",
    "\n",
    "for i in product_desca:\n",
    "    title = i.text\n",
    "    pda.append(title)\n",
    "    \n",
    "pda#imp"
   ]
  },
  {
   "cell_type": "code",
   "execution_count": 100,
   "id": "86822ad3",
   "metadata": {},
   "outputs": [
    {
     "data": {
      "text/plain": [
       "['₹599',\n",
       " '₹639',\n",
       " '₹359',\n",
       " '₹999',\n",
       " '₹259',\n",
       " '₹164',\n",
       " '₹229',\n",
       " '₹446',\n",
       " '₹349',\n",
       " '₹359',\n",
       " '₹258',\n",
       " '₹446',\n",
       " '₹383',\n",
       " '₹276',\n",
       " '₹287',\n",
       " '₹711',\n",
       " '₹261',\n",
       " '₹360',\n",
       " '₹664',\n",
       " '₹664',\n",
       " '₹359',\n",
       " '₹192',\n",
       " '₹359',\n",
       " '₹1,179',\n",
       " '₹211',\n",
       " '₹449',\n",
       " '₹276',\n",
       " '₹999',\n",
       " '₹239',\n",
       " '₹299',\n",
       " '₹202',\n",
       " '₹999',\n",
       " '₹649',\n",
       " '₹211',\n",
       " '₹187',\n",
       " '₹498',\n",
       " '₹287',\n",
       " '₹209',\n",
       " '₹359',\n",
       " '₹356']"
      ]
     },
     "execution_count": 100,
     "metadata": {},
     "output_type": "execute_result"
    }
   ],
   "source": [
    "pra=[]\n",
    "\n",
    "pricea = driver.find_elements_by_xpath(\"//div[@class='_30jeq3']\")\n",
    "\n",
    "for i in pricea:\n",
    "    title = i.text\n",
    "    pra.append(title)\n",
    "    \n",
    "pra#imp"
   ]
  },
  {
   "cell_type": "code",
   "execution_count": 101,
   "id": "96e24bb8",
   "metadata": {},
   "outputs": [
    {
     "data": {
      "text/plain": [
       "['25% off',\n",
       " '20% off',\n",
       " '86% off',\n",
       " '60% off',\n",
       " '87% off',\n",
       " '89% off',\n",
       " '67% off',\n",
       " '73% off',\n",
       " '82% off',\n",
       " '76% off',\n",
       " '80% off',\n",
       " '70% off',\n",
       " '61% off',\n",
       " '88% off',\n",
       " '85% off',\n",
       " '64% off',\n",
       " '83% off',\n",
       " '81% off',\n",
       " '66% off',\n",
       " '66% off',\n",
       " '76% off',\n",
       " '82% off',\n",
       " '76% off',\n",
       " '41% off',\n",
       " '82% off',\n",
       " '70% off',\n",
       " '78% off',\n",
       " '50% off',\n",
       " '88% off',\n",
       " '88% off',\n",
       " '83% off',\n",
       " '60% off',\n",
       " '27% off',\n",
       " '83% off',\n",
       " '88% off',\n",
       " '67% off',\n",
       " '85% off',\n",
       " '83% off',\n",
       " '76% off',\n",
       " '81% off']"
      ]
     },
     "execution_count": 101,
     "metadata": {},
     "output_type": "execute_result"
    }
   ],
   "source": [
    "da=[]\n",
    "\n",
    "discounta = driver.find_elements_by_xpath(\"//div[@class='_3Ay6Sb']\")\n",
    "\n",
    "for i in discounta:\n",
    "    title = i.text\n",
    "    da.append(title)\n",
    "    \n",
    "da"
   ]
  },
  {
   "cell_type": "code",
   "execution_count": 102,
   "id": "21cd8e48",
   "metadata": {},
   "outputs": [],
   "source": [
    "p2 = driver.find_element_by_link_text(\"3\")\n",
    "p2.click()\n"
   ]
  },
  {
   "cell_type": "code",
   "execution_count": 103,
   "id": "abb3d46c",
   "metadata": {},
   "outputs": [
    {
     "data": {
      "text/plain": [
       "['Elligator',\n",
       " 'Rich Club',\n",
       " 'SHAAH COLLECTIONS',\n",
       " 'AISLIN',\n",
       " 'PHENOMENAL',\n",
       " 'ROZZETTA CRAFT',\n",
       " 'Rich Club',\n",
       " 'VINCENT CHASE',\n",
       " 'Silver Kartz',\n",
       " 'Fastrack',\n",
       " 'Elligator',\n",
       " 'VINCENT CHASE',\n",
       " 'New Specs',\n",
       " 'SHAAH COLLECTIONS',\n",
       " 'kingsunglasses',\n",
       " 'ROZZETTA CRAFT',\n",
       " 'kingsunglasses',\n",
       " 'kingsunglasses',\n",
       " 'GANSTA',\n",
       " 'ROZZETTA CRAFT']"
      ]
     },
     "execution_count": 103,
     "metadata": {},
     "output_type": "execute_result"
    }
   ],
   "source": [
    "jlx= []\n",
    "\n",
    "titles_ta = driver.find_elements_by_xpath(\"//div[@class='_2WkVRV']\")\n",
    "\n",
    "for i in titles_ta:\n",
    "    title = i.text\n",
    "    jlx.append(title)\n",
    "    \n",
    "jlx\n",
    "jlxz=jlx[0:20]\n",
    "jlxz"
   ]
  },
  {
   "cell_type": "code",
   "execution_count": 104,
   "id": "42f9d9f0",
   "metadata": {},
   "outputs": [
    {
     "data": {
      "text/plain": [
       "100"
      ]
     },
     "execution_count": 104,
     "metadata": {},
     "output_type": "execute_result"
    }
   ],
   "source": [
    "brand= jt+jl+jlxz\n",
    "len(brand)"
   ]
  },
  {
   "cell_type": "code",
   "execution_count": 82,
   "id": "dc89746a",
   "metadata": {},
   "outputs": [
    {
     "data": {
      "text/plain": [
       "['UV Protection Retro Square, Round Sunglasses (54)',\n",
       " 'UV Protection, Gradient Rectangular Sunglasses (Free Si...',\n",
       " 'UV Protection, Others Round Sunglasses (48)',\n",
       " 'by Lenskart Polarized, UV Protection Aviator Sunglasses...',\n",
       " 'UV Protection, Gradient Oval Sunglasses (58)',\n",
       " 'UV Protection, Mirrored Aviator Sunglasses (Free Size)',\n",
       " 'UV Protection Round Sunglasses (Free Size)',\n",
       " 'UV Protection Aviator Sunglasses (Free Size)',\n",
       " 'UV Protection Aviator Sunglasses (57)',\n",
       " 'UV Protection, Polarized, Mirrored Wayfarer Sunglasses ...',\n",
       " 'UV Protection Round Sunglasses (Free Size)',\n",
       " 'Others Wayfarer Sunglasses (Free Size)',\n",
       " 'UV Protection, Night Vision Wayfarer Sunglasses (Free S...',\n",
       " 'UV Protection, Riding Glasses Wayfarer Sunglasses (53)',\n",
       " 'UV Protection, Mirrored Retro Square Sunglasses (53)',\n",
       " 'UV Protection, Gradient Round Sunglasses (58)',\n",
       " 'UV Protection Aviator Sunglasses (Free Size)',\n",
       " 'UV Protection, Gradient Oval Sunglasses (58)',\n",
       " 'Mirrored, UV Protection, Riding Glasses, Others Wrap-ar...',\n",
       " 'UV Protection Shield, Wayfarer Sunglasses (61)',\n",
       " 'UV Protection, Night Vision, Riding Glasses, Gradient, ...',\n",
       " 'Riding Glasses, UV Protection, Others Aviator Sunglasse...']"
      ]
     },
     "execution_count": 82,
     "metadata": {},
     "output_type": "execute_result"
    }
   ],
   "source": [
    "pdb=[]\n",
    "\n",
    "product_descb = driver.find_elements_by_xpath(\"//a[@class='IRpwTa']\")\n",
    "\n",
    "for i in product_descb:\n",
    "    title = i.text\n",
    "    pdb.append(title)\n",
    "    \n",
    "pdb#imp\n",
    "\n"
   ]
  },
  {
   "cell_type": "code",
   "execution_count": 105,
   "id": "deb74f05",
   "metadata": {},
   "outputs": [
    {
     "data": {
      "text/plain": [
       "['₹318',\n",
       " '₹284',\n",
       " '₹270',\n",
       " '₹698',\n",
       " '₹299',\n",
       " '₹396',\n",
       " '₹245',\n",
       " '₹1,533',\n",
       " '₹233',\n",
       " '₹599',\n",
       " '₹291',\n",
       " '₹1,179',\n",
       " '₹169',\n",
       " '₹276',\n",
       " '₹235',\n",
       " '₹426',\n",
       " '₹299',\n",
       " '₹279',\n",
       " '₹209',\n",
       " '₹426']"
      ]
     },
     "execution_count": 105,
     "metadata": {},
     "output_type": "execute_result"
    }
   ],
   "source": [
    "prb=[]\n",
    "\n",
    "priceb = driver.find_elements_by_xpath(\"//div[@class='_30jeq3']\")\n",
    "\n",
    "for i in priceb:\n",
    "    title = i.text\n",
    "    prb.append(title)\n",
    "    \n",
    "prb#imp\n"
   ]
  },
  {
   "cell_type": "code",
   "execution_count": 107,
   "id": "5bc7f365",
   "metadata": {},
   "outputs": [],
   "source": [
    "db=[]\n",
    "\n",
    "discountb = driver.find_elements_by_xpath(\"//div[@class='_3Ay6Sb']\")\n",
    "\n",
    "for i in discountb:\n",
    "    title = i.text\n",
    "    db.append(title)\n",
    "    \n",
    "db\n"
   ]
  },
  {
   "cell_type": "code",
   "execution_count": 108,
   "id": "ad34f176",
   "metadata": {},
   "outputs": [
    {
     "data": {
      "text/plain": [
       "list"
      ]
     },
     "execution_count": 108,
     "metadata": {},
     "output_type": "execute_result"
    }
   ],
   "source": [
    "type(pd)"
   ]
  },
  {
   "cell_type": "code",
   "execution_count": 114,
   "id": "796e866e",
   "metadata": {},
   "outputs": [
    {
     "data": {
      "text/plain": [
       "100"
      ]
     },
     "execution_count": 114,
     "metadata": {},
     "output_type": "execute_result"
    }
   ],
   "source": [
    "product_d = pd + pda + pdb\n",
    "\n",
    "p=product_d[0:100]\n",
    "len(p)"
   ]
  },
  {
   "cell_type": "code",
   "execution_count": 115,
   "id": "b02e76f4",
   "metadata": {},
   "outputs": [
    {
     "data": {
      "text/plain": [
       "100"
      ]
     },
     "execution_count": 115,
     "metadata": {},
     "output_type": "execute_result"
    }
   ],
   "source": [
    "pricee=pr+pra+prb\n",
    "price=pricee[0:100]\n",
    "len(price)"
   ]
  },
  {
   "cell_type": "code",
   "execution_count": 116,
   "id": "ce4e424a",
   "metadata": {},
   "outputs": [
    {
     "data": {
      "text/plain": [
       "100"
      ]
     },
     "execution_count": 116,
     "metadata": {},
     "output_type": "execute_result"
    }
   ],
   "source": [
    "discount=d+da+db\n",
    "d=discount[0:100]\n",
    "len(d)"
   ]
  },
  {
   "cell_type": "code",
   "execution_count": 117,
   "id": "788054e7",
   "metadata": {},
   "outputs": [
    {
     "data": {
      "text/html": [
       "<div>\n",
       "<style scoped>\n",
       "    .dataframe tbody tr th:only-of-type {\n",
       "        vertical-align: middle;\n",
       "    }\n",
       "\n",
       "    .dataframe tbody tr th {\n",
       "        vertical-align: top;\n",
       "    }\n",
       "\n",
       "    .dataframe thead th {\n",
       "        text-align: right;\n",
       "    }\n",
       "</style>\n",
       "<table border=\"1\" class=\"dataframe\">\n",
       "  <thead>\n",
       "    <tr style=\"text-align: right;\">\n",
       "      <th></th>\n",
       "      <th>brand</th>\n",
       "      <th>product dec</th>\n",
       "      <th>price</th>\n",
       "      <th>discount</th>\n",
       "    </tr>\n",
       "  </thead>\n",
       "  <tbody>\n",
       "    <tr>\n",
       "      <th>0</th>\n",
       "      <td>VINCENT CHASE</td>\n",
       "      <td>by Lenskart UV Protection Aviator Sunglasses (53)</td>\n",
       "      <td>₹999</td>\n",
       "      <td>50% off</td>\n",
       "    </tr>\n",
       "    <tr>\n",
       "      <th>1</th>\n",
       "      <td>ROYAL SON</td>\n",
       "      <td>Polarized, UV Protection Round Sunglasses (52)</td>\n",
       "      <td>₹759</td>\n",
       "      <td>62% off</td>\n",
       "    </tr>\n",
       "    <tr>\n",
       "      <th>2</th>\n",
       "      <td>SRPM</td>\n",
       "      <td>UV Protection Wayfarer Sunglasses (56)</td>\n",
       "      <td>₹188</td>\n",
       "      <td>85% off</td>\n",
       "    </tr>\n",
       "    <tr>\n",
       "      <th>3</th>\n",
       "      <td>Elligator</td>\n",
       "      <td>UV Protection Round Sunglasses (54)</td>\n",
       "      <td>₹248</td>\n",
       "      <td>90% off</td>\n",
       "    </tr>\n",
       "    <tr>\n",
       "      <th>4</th>\n",
       "      <td>PIRASO</td>\n",
       "      <td>UV Protection Aviator Sunglasses (54)</td>\n",
       "      <td>₹200</td>\n",
       "      <td>87% off</td>\n",
       "    </tr>\n",
       "    <tr>\n",
       "      <th>...</th>\n",
       "      <td>...</td>\n",
       "      <td>...</td>\n",
       "      <td>...</td>\n",
       "      <td>...</td>\n",
       "    </tr>\n",
       "    <tr>\n",
       "      <th>95</th>\n",
       "      <td>ROZZETTA CRAFT</td>\n",
       "      <td>UV Protection Aviator Sunglasses (Free Size)</td>\n",
       "      <td>₹426</td>\n",
       "      <td>85% off</td>\n",
       "    </tr>\n",
       "    <tr>\n",
       "      <th>96</th>\n",
       "      <td>kingsunglasses</td>\n",
       "      <td>UV Protection, Gradient Oval Sunglasses (58)</td>\n",
       "      <td>₹299</td>\n",
       "      <td>81% off</td>\n",
       "    </tr>\n",
       "    <tr>\n",
       "      <th>97</th>\n",
       "      <td>kingsunglasses</td>\n",
       "      <td>Mirrored, UV Protection, Riding Glasses, Other...</td>\n",
       "      <td>₹279</td>\n",
       "      <td>83% off</td>\n",
       "    </tr>\n",
       "    <tr>\n",
       "      <th>98</th>\n",
       "      <td>GANSTA</td>\n",
       "      <td>UV Protection Shield, Wayfarer Sunglasses (61)</td>\n",
       "      <td>₹209</td>\n",
       "      <td>88% off</td>\n",
       "    </tr>\n",
       "    <tr>\n",
       "      <th>99</th>\n",
       "      <td>ROZZETTA CRAFT</td>\n",
       "      <td>UV Protection, Night Vision, Riding Glasses, G...</td>\n",
       "      <td>₹426</td>\n",
       "      <td>78% off</td>\n",
       "    </tr>\n",
       "  </tbody>\n",
       "</table>\n",
       "<p>100 rows × 4 columns</p>\n",
       "</div>"
      ],
      "text/plain": [
       "             brand                                        product dec price  \\\n",
       "0    VINCENT CHASE  by Lenskart UV Protection Aviator Sunglasses (53)  ₹999   \n",
       "1        ROYAL SON     Polarized, UV Protection Round Sunglasses (52)  ₹759   \n",
       "2             SRPM             UV Protection Wayfarer Sunglasses (56)  ₹188   \n",
       "3        Elligator                UV Protection Round Sunglasses (54)  ₹248   \n",
       "4           PIRASO              UV Protection Aviator Sunglasses (54)  ₹200   \n",
       "..             ...                                                ...   ...   \n",
       "95  ROZZETTA CRAFT       UV Protection Aviator Sunglasses (Free Size)  ₹426   \n",
       "96  kingsunglasses       UV Protection, Gradient Oval Sunglasses (58)  ₹299   \n",
       "97  kingsunglasses  Mirrored, UV Protection, Riding Glasses, Other...  ₹279   \n",
       "98          GANSTA     UV Protection Shield, Wayfarer Sunglasses (61)  ₹209   \n",
       "99  ROZZETTA CRAFT  UV Protection, Night Vision, Riding Glasses, G...  ₹426   \n",
       "\n",
       "   discount  \n",
       "0   50% off  \n",
       "1   62% off  \n",
       "2   85% off  \n",
       "3   90% off  \n",
       "4   87% off  \n",
       "..      ...  \n",
       "95  85% off  \n",
       "96  81% off  \n",
       "97  83% off  \n",
       "98  88% off  \n",
       "99  78% off  \n",
       "\n",
       "[100 rows x 4 columns]"
      ]
     },
     "execution_count": 117,
     "metadata": {},
     "output_type": "execute_result"
    }
   ],
   "source": [
    "import pandas as pd\n",
    "\n",
    "sungl=pd.DataFrame({})\n",
    "sungl['brand']=brand\n",
    "sungl['product dec']=p\n",
    "sungl['price']=price\n",
    "sungl['discount']=d\n",
    "\n",
    "sungl"
   ]
  },
  {
   "cell_type": "code",
   "execution_count": null,
   "id": "a304327e",
   "metadata": {},
   "outputs": [],
   "source": []
  },
  {
   "cell_type": "markdown",
   "id": "74aeac31",
   "metadata": {},
   "source": [
    "# Q5: Scrape 100 reviews data from flipkart.com for iphone11 phone. You have to go the lin"
   ]
  },
  {
   "cell_type": "code",
   "execution_count": 153,
   "id": "88aa5cb9",
   "metadata": {},
   "outputs": [],
   "source": [
    "import warnings\n",
    "warnings.filterwarnings('ignore')\n",
    "\n",
    "\n",
    "import selenium\n",
    "import pandas as pd\n",
    "from selenium import webdriver\n",
    "\n",
    "driver = webdriver.Chrome(r\"C:/Users/Jay gawande/Downloads/chromedriver_win32/chromedriver.exe\")"
   ]
  },
  {
   "cell_type": "code",
   "execution_count": 154,
   "id": "22b6a6a6",
   "metadata": {},
   "outputs": [],
   "source": [
    "driver.get('https://www.flipkart.com/apple-iphone-11-black-64-gb/p/itm4e5041ba101fd?pid=MOBFWQ6BXGJCEYNY&lid=LSTMOBFWQ6BXGJCEYNYL0BETT&marketplace=FLIPKART&q=iphone+11&store=tyy%2F4io&srno=s_1_1&otracker=AS_QueryStore_OrganicAutoSuggest_2_7_na_na_na&otracker1=AS_QueryStore_OrganicAutoSuggest_2_7_na_na_na&fm=SEARCH&iid=de93aac8-198a-4959-8e26-845950d1b666.MOBFWQ6BXGJCEYNY.SEARCH&ppt=hp&ppn=homepage&ssid=d9xz9hx1k00000001639905478546&qH=f6cdfdaa9f3c23f3')"
   ]
  },
  {
   "cell_type": "code",
   "execution_count": 155,
   "id": "5d2b5a10",
   "metadata": {},
   "outputs": [],
   "source": [
    "review_btn = driver.find_element_by_xpath(\"//div[@class='_3UAT2v _16PBlm']\")"
   ]
  },
  {
   "cell_type": "code",
   "execution_count": 156,
   "id": "298c9e45",
   "metadata": {},
   "outputs": [],
   "source": [
    "review_btn.click()"
   ]
  },
  {
   "cell_type": "code",
   "execution_count": 157,
   "id": "561f06cb",
   "metadata": {},
   "outputs": [],
   "source": [
    "r=[]\n",
    "rs=[]\n",
    "fr=[]"
   ]
  },
  {
   "cell_type": "code",
   "execution_count": 158,
   "id": "efc488b2",
   "metadata": {},
   "outputs": [
    {
     "data": {
      "text/plain": [
       "['5', '5', '5', '5', '5', '5', '5', '5', '4', '5']"
      ]
     },
     "execution_count": 158,
     "metadata": {},
     "output_type": "execute_result"
    }
   ],
   "source": [
    "\n",
    "rating = driver.find_elements_by_xpath(\"//div[@class='_3LWZlK _1BLPMq']\")\n",
    "for i in rating:\n",
    "    title = i.text\n",
    "    r.append(title)\n",
    "r"
   ]
  },
  {
   "cell_type": "code",
   "execution_count": 159,
   "id": "94d802c0",
   "metadata": {},
   "outputs": [
    {
     "data": {
      "text/plain": [
       "['Brilliant',\n",
       " 'Simply awesome',\n",
       " 'Best in the market!',\n",
       " 'Perfect product!',\n",
       " 'Worth every penny',\n",
       " 'Fabulous!',\n",
       " 'Great product',\n",
       " 'Worth every penny',\n",
       " 'Good choice',\n",
       " 'Highly recommended']"
      ]
     },
     "execution_count": 159,
     "metadata": {},
     "output_type": "execute_result"
    }
   ],
   "source": [
    "review = driver.find_elements_by_xpath(\"//p[@class='_2-N8zT']\")\n",
    "for i in review:\n",
    "    title = i.text\n",
    "    rs.append(title)\n",
    "rs"
   ]
  },
  {
   "cell_type": "code",
   "execution_count": 160,
   "id": "af06eb46",
   "metadata": {},
   "outputs": [
    {
     "data": {
      "text/plain": [
       "['The Best Phone for the Money\\n\\nThe iPhone 11 offers superb cameras, a more durable design and excellent battery life for an affordable price.\\n\\nCompelling ultra-wide camera\\nNew Night mode is excellent\\nLong battery life',\n",
       " 'Really satisfied with the Product I received... It’s totally genuine and the packaging was also really good so if ur planning to buy just go for it.',\n",
       " 'Great iPhone very snappy experience as apple kind. Upgraded from iPhone 7.\\nPros\\n-Camera top class\\n- Battery top performed\\n-Chipset no need to say as apple kind\\n-Security as you expect from apple\\n- Display super bright industry leading colour\\naccuracy and super responsive\\n-Build quality as expect from apple sturdy\\npremium durable beautiful stylish.\\n-Os most stable os in smartphone industry\\n\\nCons\\n-No 5G\\n-Display is not based on OLED technology\\n-Charger headphones and 1 apple stic...\\nREAD MORE',\n",
       " 'Amazing phone with great cameras and better battery which gives you the best performance. I just love the camera .',\n",
       " 'Previously I was using one plus 3t it was a great phone\\nAnd then I decided to upgrade I am stuck between Samsung s10 plus or iPhone 11\\nI have seen the specs and everything were good except the display it’s somewhere between 720-1080 and it’s not even an amoled it’s an LCD display\\nBut I decided to go with iPhone because I have never used an IOS device I have Been an android user from the past 9 years I ordered IPhone 11 (128gb) product red\\nMy experience after using 3 weeks\\n1. The delivery ...\\nREAD MORE',\n",
       " 'This is my first iOS phone. I am very happy with this product. Very much satisfied with this. I love this phone.',\n",
       " 'Amazing Powerful and Durable Gadget.\\n\\nI’m am very happy with the camera picture quality, Amazing face id unlocked in dark room, Strong battery with perfect screen size as you can carry easily in pocket. This is my third iPhone.\\n\\nI shifted from android Samsung Note series to iPhone because of the strong build quality and peace of mind for next 3-4 years.\\n\\nDon’t think to much just go for it and I suggest you to go for minimum 128gb variant or more 256gb.\\n\\nI’ve attached my puppy pics and no fi...\\nREAD MORE',\n",
       " 'i11 is worthy to buy, too much happy with the product. Thank u flipkart I received the item on time..loved it..',\n",
       " 'So far it’s been an AMAZING experience coming back to iOS after nearly a decade but it’s not as versatile as android though phone is sturdy dropped it accidentally a couple of times and nothing happened fortunately camera is awesome',\n",
       " 'What a camera .....just awesome ..you can feel this iPhone just awesome . Good for gaming also ...try pubg in hd it’s just wow']"
      ]
     },
     "execution_count": 160,
     "metadata": {},
     "output_type": "execute_result"
    }
   ],
   "source": [
    "freview = driver.find_elements_by_xpath(\"//div[@class='t-ZTKy']\")\n",
    "for i in freview:\n",
    "    title = i.text\n",
    "    fr.append(title)    \n",
    "fr"
   ]
  },
  {
   "cell_type": "code",
   "execution_count": 161,
   "id": "95d85dfa",
   "metadata": {},
   "outputs": [],
   "source": [
    "p2 = driver.find_element_by_link_text(\"2\")\n",
    "p2.click()"
   ]
  },
  {
   "cell_type": "code",
   "execution_count": 162,
   "id": "a608ebcc",
   "metadata": {},
   "outputs": [],
   "source": [
    "rating = driver.find_elements_by_xpath(\"//div[@class='_3LWZlK _1BLPMq']\")\n",
    "for i in rating:\n",
    "    title = i.text\n",
    "    r.append(title)\n",
    "    \n",
    "review = driver.find_elements_by_xpath(\"//p[@class='_2-N8zT']\")\n",
    "for i in review:\n",
    "    title = i.text\n",
    "    rs.append(title)\n",
    "\n",
    "freview = driver.find_elements_by_xpath(\"//div[@class='t-ZTKy']\")\n",
    "for i in freview:\n",
    "    title = i.text\n",
    "    fr.append(title)"
   ]
  },
  {
   "cell_type": "code",
   "execution_count": 163,
   "id": "8569289e",
   "metadata": {},
   "outputs": [],
   "source": [
    "p3 = driver.find_element_by_link_text(\"3\")\n",
    "p3.click()"
   ]
  },
  {
   "cell_type": "code",
   "execution_count": 164,
   "id": "4711f240",
   "metadata": {},
   "outputs": [],
   "source": [
    "rating = driver.find_elements_by_xpath(\"//div[@class='_3LWZlK _1BLPMq']\")\n",
    "for i in rating:\n",
    "    title = i.text\n",
    "    r.append(title)\n",
    "    \n",
    "review = driver.find_elements_by_xpath(\"//p[@class='_2-N8zT']\")\n",
    "for i in review:\n",
    "    title = i.text\n",
    "    rs.append(title)\n",
    "\n",
    "freview = driver.find_elements_by_xpath(\"//div[@class='t-ZTKy']\")\n",
    "for i in freview:\n",
    "    title = i.text\n",
    "    fr.append(title)"
   ]
  },
  {
   "cell_type": "code",
   "execution_count": 165,
   "id": "1bead109",
   "metadata": {},
   "outputs": [],
   "source": [
    "p4 = driver.find_element_by_link_text(\"4\")\n",
    "p4.click()"
   ]
  },
  {
   "cell_type": "code",
   "execution_count": 166,
   "id": "8d7d2bbe",
   "metadata": {},
   "outputs": [],
   "source": [
    "rating = driver.find_elements_by_xpath(\"//div[@class='_3LWZlK _1BLPMq']\")\n",
    "for i in rating:\n",
    "    title = i.text\n",
    "    r.append(title)\n",
    "    \n",
    "review = driver.find_elements_by_xpath(\"//p[@class='_2-N8zT']\")\n",
    "for i in review:\n",
    "    title = i.text\n",
    "    rs.append(title)\n",
    "\n",
    "freview = driver.find_elements_by_xpath(\"//div[@class='t-ZTKy']\")\n",
    "for i in freview:\n",
    "    title = i.text\n",
    "    fr.append(title)"
   ]
  },
  {
   "cell_type": "code",
   "execution_count": 167,
   "id": "f0c7cefd",
   "metadata": {},
   "outputs": [],
   "source": [
    "p5 = driver.find_element_by_link_text(\"5\")\n",
    "p5.click()"
   ]
  },
  {
   "cell_type": "code",
   "execution_count": 168,
   "id": "8e8cd205",
   "metadata": {},
   "outputs": [],
   "source": [
    "rating = driver.find_elements_by_xpath(\"//div[@class='_3LWZlK _1BLPMq']\")\n",
    "for i in rating:\n",
    "    title = i.text\n",
    "    r.append(title)\n",
    "    \n",
    "review = driver.find_elements_by_xpath(\"//p[@class='_2-N8zT']\")\n",
    "for i in review:\n",
    "    title = i.text\n",
    "    rs.append(title)\n",
    "\n",
    "freview = driver.find_elements_by_xpath(\"//div[@class='t-ZTKy']\")\n",
    "for i in freview:\n",
    "    title = i.text\n",
    "    fr.append(title)"
   ]
  },
  {
   "cell_type": "code",
   "execution_count": 169,
   "id": "0193ff32",
   "metadata": {},
   "outputs": [],
   "source": [
    "p6 = driver.find_element_by_link_text(\"6\")\n",
    "p6.click()"
   ]
  },
  {
   "cell_type": "code",
   "execution_count": 170,
   "id": "e5179a4e",
   "metadata": {},
   "outputs": [],
   "source": [
    "rating = driver.find_elements_by_xpath(\"//div[@class='_3LWZlK _1BLPMq']\")\n",
    "for i in rating:\n",
    "    title = i.text\n",
    "    r.append(title)\n",
    "    \n",
    "review = driver.find_elements_by_xpath(\"//p[@class='_2-N8zT']\")\n",
    "for i in review:\n",
    "    title = i.text\n",
    "    rs.append(title)\n",
    "\n",
    "freview = driver.find_elements_by_xpath(\"//div[@class='t-ZTKy']\")\n",
    "for i in freview:\n",
    "    title = i.text\n",
    "    fr.append(title)"
   ]
  },
  {
   "cell_type": "code",
   "execution_count": 171,
   "id": "7873df40",
   "metadata": {},
   "outputs": [],
   "source": [
    "p7 = driver.find_element_by_link_text(\"7\")\n",
    "p7.click()"
   ]
  },
  {
   "cell_type": "code",
   "execution_count": 139,
   "id": "b42bd154",
   "metadata": {},
   "outputs": [],
   "source": [
    "rating = driver.find_elements_by_xpath(\"//div[@class='_3LWZlK _1BLPMq']\")\n",
    "for i in rating:\n",
    "    title = i.text\n",
    "    r.append(title)\n",
    "    \n",
    "review = driver.find_elements_by_xpath(\"//p[@class='_2-N8zT']\")\n",
    "for i in review:\n",
    "    title = i.text\n",
    "    rs.append(title)\n",
    "\n",
    "freview = driver.find_elements_by_xpath(\"//div[@class='t-ZTKy']\")\n",
    "for i in freview:\n",
    "    title = i.text\n",
    "    fr.append(title)"
   ]
  },
  {
   "cell_type": "code",
   "execution_count": 172,
   "id": "f7d17574",
   "metadata": {},
   "outputs": [],
   "source": [
    "p8 = driver.find_element_by_link_text(\"8\")\n",
    "p8.click()"
   ]
  },
  {
   "cell_type": "code",
   "execution_count": 173,
   "id": "b318c825",
   "metadata": {},
   "outputs": [],
   "source": [
    "rating = driver.find_elements_by_xpath(\"//div[@class='_3LWZlK _1BLPMq']\")\n",
    "for i in rating:\n",
    "    title = i.text\n",
    "    r.append(title)\n",
    "    \n",
    "review = driver.find_elements_by_xpath(\"//p[@class='_2-N8zT']\")\n",
    "for i in review:\n",
    "    title = i.text\n",
    "    rs.append(title)\n",
    "\n",
    "freview = driver.find_elements_by_xpath(\"//div[@class='t-ZTKy']\")\n",
    "for i in freview:\n",
    "    title = i.text\n",
    "    fr.append(title)"
   ]
  },
  {
   "cell_type": "code",
   "execution_count": 174,
   "id": "395cccc5",
   "metadata": {},
   "outputs": [],
   "source": [
    "p9 = driver.find_element_by_link_text(\"9\")\n",
    "p9.click()"
   ]
  },
  {
   "cell_type": "code",
   "execution_count": 175,
   "id": "b9c45049",
   "metadata": {},
   "outputs": [],
   "source": [
    "rating = driver.find_elements_by_xpath(\"//div[@class='_3LWZlK _1BLPMq']\")\n",
    "for i in rating:\n",
    "    title = i.text\n",
    "    r.append(title)\n",
    "    \n",
    "review = driver.find_elements_by_xpath(\"//p[@class='_2-N8zT']\")\n",
    "for i in review:\n",
    "    title = i.text\n",
    "    rs.append(title)\n",
    "\n",
    "freview = driver.find_elements_by_xpath(\"//div[@class='t-ZTKy']\")\n",
    "for i in freview:\n",
    "    title = i.text\n",
    "    fr.append(title)"
   ]
  },
  {
   "cell_type": "code",
   "execution_count": 176,
   "id": "b3dfa440",
   "metadata": {},
   "outputs": [],
   "source": [
    "p10 = driver.find_element_by_link_text(\"10\")\n",
    "p10.click()"
   ]
  },
  {
   "cell_type": "code",
   "execution_count": 177,
   "id": "9f6e28d7",
   "metadata": {},
   "outputs": [],
   "source": [
    "rating = driver.find_elements_by_xpath(\"//div[@class='_3LWZlK _1BLPMq']\")\n",
    "for i in rating:\n",
    "    title = i.text\n",
    "    r.append(title)\n",
    "    \n",
    "review = driver.find_elements_by_xpath(\"//p[@class='_2-N8zT']\")\n",
    "for i in review:\n",
    "    title = i.text\n",
    "    rs.append(title)\n",
    "\n",
    "freview = driver.find_elements_by_xpath(\"//div[@class='t-ZTKy']\")\n",
    "for i in freview:\n",
    "    title = i.text\n",
    "    fr.append(title)"
   ]
  },
  {
   "cell_type": "code",
   "execution_count": 184,
   "id": "f1683998",
   "metadata": {},
   "outputs": [],
   "source": [
    "p11 = driver.find_element_by_link_text(\"11\")\n",
    "p11.click()"
   ]
  },
  {
   "cell_type": "code",
   "execution_count": 185,
   "id": "c8179a66",
   "metadata": {},
   "outputs": [],
   "source": [
    "rating = driver.find_elements_by_xpath(\"//div[@class='_3LWZlK _1BLPMq']\")\n",
    "for i in rating:\n",
    "    title = i.text\n",
    "    r.append(title)\n",
    "    \n",
    "review = driver.find_elements_by_xpath(\"//p[@class='_2-N8zT']\")\n",
    "for i in review:\n",
    "    title = i.text\n",
    "    rs.append(title)\n",
    "\n",
    "freview = driver.find_elements_by_xpath(\"//div[@class='t-ZTKy']\")\n",
    "for i in freview:\n",
    "    title = i.text\n",
    "    fr.append(title)"
   ]
  },
  {
   "cell_type": "code",
   "execution_count": 186,
   "id": "4b7847ae",
   "metadata": {},
   "outputs": [],
   "source": [
    "p12 = driver.find_element_by_link_text(\"12\")\n",
    "p12.click()"
   ]
  },
  {
   "cell_type": "code",
   "execution_count": 187,
   "id": "84509b4b",
   "metadata": {},
   "outputs": [],
   "source": [
    "rating = driver.find_elements_by_xpath(\"//div[@class='_3LWZlK _1BLPMq']\")\n",
    "for i in rating:\n",
    "    title = i.text\n",
    "    r.append(title)\n",
    "    \n",
    "review = driver.find_elements_by_xpath(\"//p[@class='_2-N8zT']\")\n",
    "for i in review:\n",
    "    title = i.text\n",
    "    rs.append(title)\n",
    "\n",
    "freview = driver.find_elements_by_xpath(\"//div[@class='t-ZTKy']\")\n",
    "for i in freview:\n",
    "    title = i.text\n",
    "    fr.append(title)"
   ]
  },
  {
   "cell_type": "code",
   "execution_count": 188,
   "id": "d3794334",
   "metadata": {},
   "outputs": [],
   "source": [
    "rating=r[0:100]\n",
    "resu=rs[0:100]\n",
    "fure=fr[0:100]"
   ]
  },
  {
   "cell_type": "code",
   "execution_count": null,
   "id": "a2ecadf7",
   "metadata": {},
   "outputs": [],
   "source": [
    "\n"
   ]
  },
  {
   "cell_type": "code",
   "execution_count": null,
   "id": "31adba3d",
   "metadata": {},
   "outputs": [],
   "source": []
  },
  {
   "cell_type": "code",
   "execution_count": 190,
   "id": "5c84fd71",
   "metadata": {},
   "outputs": [
    {
     "data": {
      "text/html": [
       "<div>\n",
       "<style scoped>\n",
       "    .dataframe tbody tr th:only-of-type {\n",
       "        vertical-align: middle;\n",
       "    }\n",
       "\n",
       "    .dataframe tbody tr th {\n",
       "        vertical-align: top;\n",
       "    }\n",
       "\n",
       "    .dataframe thead th {\n",
       "        text-align: right;\n",
       "    }\n",
       "</style>\n",
       "<table border=\"1\" class=\"dataframe\">\n",
       "  <thead>\n",
       "    <tr style=\"text-align: right;\">\n",
       "      <th></th>\n",
       "      <th>rating</th>\n",
       "      <th>review_summary</th>\n",
       "      <th>full_review</th>\n",
       "    </tr>\n",
       "  </thead>\n",
       "  <tbody>\n",
       "    <tr>\n",
       "      <th>0</th>\n",
       "      <td>5</td>\n",
       "      <td>Brilliant</td>\n",
       "      <td>The Best Phone for the Money\\n\\nThe iPhone 11 ...</td>\n",
       "    </tr>\n",
       "    <tr>\n",
       "      <th>1</th>\n",
       "      <td>5</td>\n",
       "      <td>Simply awesome</td>\n",
       "      <td>Really satisfied with the Product I received.....</td>\n",
       "    </tr>\n",
       "    <tr>\n",
       "      <th>2</th>\n",
       "      <td>5</td>\n",
       "      <td>Best in the market!</td>\n",
       "      <td>Great iPhone very snappy experience as apple k...</td>\n",
       "    </tr>\n",
       "    <tr>\n",
       "      <th>3</th>\n",
       "      <td>5</td>\n",
       "      <td>Perfect product!</td>\n",
       "      <td>Amazing phone with great cameras and better ba...</td>\n",
       "    </tr>\n",
       "    <tr>\n",
       "      <th>4</th>\n",
       "      <td>5</td>\n",
       "      <td>Worth every penny</td>\n",
       "      <td>Previously I was using one plus 3t it was a gr...</td>\n",
       "    </tr>\n",
       "    <tr>\n",
       "      <th>...</th>\n",
       "      <td>...</td>\n",
       "      <td>...</td>\n",
       "      <td>...</td>\n",
       "    </tr>\n",
       "    <tr>\n",
       "      <th>95</th>\n",
       "      <td>5</td>\n",
       "      <td>Terrific purchase</td>\n",
       "      <td>I use a Note10+ and have been using both iOS a...</td>\n",
       "    </tr>\n",
       "    <tr>\n",
       "      <th>96</th>\n",
       "      <td>3</td>\n",
       "      <td>Awesome</td>\n",
       "      <td>The phone is completely good\\nAs far as camera...</td>\n",
       "    </tr>\n",
       "    <tr>\n",
       "      <th>97</th>\n",
       "      <td>5</td>\n",
       "      <td>Decent product</td>\n",
       "      <td>Everything u ll like it when u use this iPhone...</td>\n",
       "    </tr>\n",
       "    <tr>\n",
       "      <th>98</th>\n",
       "      <td>3</td>\n",
       "      <td>Awesome</td>\n",
       "      <td>Can’t beat the software and hardware integrati...</td>\n",
       "    </tr>\n",
       "    <tr>\n",
       "      <th>99</th>\n",
       "      <td>4</td>\n",
       "      <td>Does the job</td>\n",
       "      <td>phone is good but in display is 720p lcd in th...</td>\n",
       "    </tr>\n",
       "  </tbody>\n",
       "</table>\n",
       "<p>100 rows × 3 columns</p>\n",
       "</div>"
      ],
      "text/plain": [
       "   rating       review_summary  \\\n",
       "0       5            Brilliant   \n",
       "1       5       Simply awesome   \n",
       "2       5  Best in the market!   \n",
       "3       5     Perfect product!   \n",
       "4       5    Worth every penny   \n",
       "..    ...                  ...   \n",
       "95      5    Terrific purchase   \n",
       "96      3              Awesome   \n",
       "97      5       Decent product   \n",
       "98      3              Awesome   \n",
       "99      4         Does the job   \n",
       "\n",
       "                                          full_review  \n",
       "0   The Best Phone for the Money\\n\\nThe iPhone 11 ...  \n",
       "1   Really satisfied with the Product I received.....  \n",
       "2   Great iPhone very snappy experience as apple k...  \n",
       "3   Amazing phone with great cameras and better ba...  \n",
       "4   Previously I was using one plus 3t it was a gr...  \n",
       "..                                                ...  \n",
       "95  I use a Note10+ and have been using both iOS a...  \n",
       "96  The phone is completely good\\nAs far as camera...  \n",
       "97  Everything u ll like it when u use this iPhone...  \n",
       "98  Can’t beat the software and hardware integrati...  \n",
       "99  phone is good but in display is 720p lcd in th...  \n",
       "\n",
       "[100 rows x 3 columns]"
      ]
     },
     "execution_count": 190,
     "metadata": {},
     "output_type": "execute_result"
    }
   ],
   "source": [
    "import pandas as pd\n",
    "\n",
    "i11=pd.DataFrame({})\n",
    "i11['rating']=rating\n",
    "i11['review_summary']=resu\n",
    "i11['full_review']=fure\n",
    "\n",
    "i11"
   ]
  },
  {
   "cell_type": "code",
   "execution_count": null,
   "id": "42316543",
   "metadata": {},
   "outputs": [],
   "source": []
  },
  {
   "cell_type": "markdown",
   "id": "d3528bea",
   "metadata": {},
   "source": [
    "# Q6: Scrape data for first 100 sneakers you find when you visit flipkart.com and search for “sneakers” in the \n",
    "search field. "
   ]
  },
  {
   "cell_type": "code",
   "execution_count": null,
   "id": "62c04493",
   "metadata": {},
   "outputs": [],
   "source": []
  },
  {
   "cell_type": "code",
   "execution_count": 195,
   "id": "bbcdbdb6",
   "metadata": {},
   "outputs": [],
   "source": [
    "import warnings\n",
    "warnings.filterwarnings('ignore')\n",
    "\n",
    "\n",
    "import selenium\n",
    "import pandas as pd\n",
    "from selenium import webdriver\n",
    "\n",
    "driver = webdriver.Chrome(r\"C:/Users/Jay gawande/Downloads/chromedriver_win32/chromedriver.exe\")\n",
    "\n",
    "\n",
    "driver.get('https://www.flipkart.com/')"
   ]
  },
  {
   "cell_type": "code",
   "execution_count": 196,
   "id": "e54fdd1f",
   "metadata": {},
   "outputs": [],
   "source": [
    "l = driver.find_element_by_xpath(\"//input[@title='Search for products, brands and more']\")\n",
    "l.send_keys(\"sneakers\")"
   ]
  },
  {
   "cell_type": "code",
   "execution_count": 197,
   "id": "ea6fd786",
   "metadata": {},
   "outputs": [],
   "source": [
    "s = driver.find_element_by_xpath(\"//button[@type='submit']\")\n",
    "s.click()"
   ]
  },
  {
   "cell_type": "code",
   "execution_count": 198,
   "id": "84068f0a",
   "metadata": {},
   "outputs": [],
   "source": [
    "b=[]\n",
    "pd=[]\n",
    "pr=[]\n",
    "d=[]\n"
   ]
  },
  {
   "cell_type": "code",
   "execution_count": 199,
   "id": "de3621be",
   "metadata": {},
   "outputs": [],
   "source": [
    "brand = driver.find_elements_by_xpath(\"//div[@class='_2WkVRV']\")\n",
    "\n",
    "for i in brand:\n",
    "    title = i.text\n",
    "    b.append(title)    \n",
    "\n",
    "product_desc = driver.find_elements_by_xpath(\"//a[@class='IRpwTa']\")\n",
    "\n",
    "for i in product_desc:\n",
    "    title = i.text\n",
    "    pd.append(title)\n",
    "\n",
    "price = driver.find_elements_by_xpath(\"//div[@class='_30jeq3']\")\n",
    "\n",
    "for i in price:\n",
    "    title = i.text\n",
    "    pr.append(title)\n",
    "\n",
    "discount = driver.find_elements_by_xpath(\"//div[@class='_3Ay6Sb']\")\n",
    "\n",
    "for i in discount:\n",
    "    title = i.text\n",
    "    d.append(title)"
   ]
  },
  {
   "cell_type": "code",
   "execution_count": 200,
   "id": "889803cc",
   "metadata": {},
   "outputs": [],
   "source": [
    "p2 = driver.find_element_by_link_text(\"2\")\n",
    "p2.click()"
   ]
  },
  {
   "cell_type": "code",
   "execution_count": 203,
   "id": "8a61c3e3",
   "metadata": {},
   "outputs": [],
   "source": [
    "brand = driver.find_elements_by_xpath(\"//div[@class='_2WkVRV']\")\n",
    "\n",
    "for i in brand:\n",
    "    title = i.text\n",
    "    b.append(title)    \n",
    "\n",
    "product_desc = driver.find_elements_by_xpath(\"//a[@class='IRpwTa']\")\n",
    "\n",
    "for i in product_desc:\n",
    "    title = i.text\n",
    "    pd.append(title)\n",
    "\n",
    "price = driver.find_elements_by_xpath(\"//div[@class='_30jeq3']\")\n",
    "\n",
    "for i in price:\n",
    "    title = i.text\n",
    "    pr.append(title)\n",
    "\n",
    "discount = driver.find_elements_by_xpath(\"//div[@class='_3Ay6Sb']\")\n",
    "\n",
    "for i in discount:\n",
    "    title = i.text\n",
    "    d.append(title)"
   ]
  },
  {
   "cell_type": "code",
   "execution_count": 204,
   "id": "892fea09",
   "metadata": {},
   "outputs": [],
   "source": [
    "p3 = driver.find_element_by_link_text(\"3\")\n",
    "p3.click()"
   ]
  },
  {
   "cell_type": "code",
   "execution_count": 205,
   "id": "34d8a295",
   "metadata": {},
   "outputs": [],
   "source": [
    "brand = driver.find_elements_by_xpath(\"//div[@class='_2WkVRV']\")\n",
    "\n",
    "for i in brand:\n",
    "    title = i.text\n",
    "    b.append(title)    \n",
    "\n",
    "product_desc = driver.find_elements_by_xpath(\"//a[@class='IRpwTa']\")\n",
    "\n",
    "for i in product_desc:\n",
    "    title = i.text\n",
    "    pd.append(title)\n",
    "\n",
    "price = driver.find_elements_by_xpath(\"//div[@class='_30jeq3']\")\n",
    "\n",
    "for i in price:\n",
    "    title = i.text\n",
    "    pr.append(title)\n",
    "\n",
    "discount = driver.find_elements_by_xpath(\"//div[@class='_3Ay6Sb']\")\n",
    "\n",
    "for i in discount:\n",
    "    title = i.text\n",
    "    d.append(title)"
   ]
  },
  {
   "cell_type": "code",
   "execution_count": 206,
   "id": "2df80865",
   "metadata": {},
   "outputs": [],
   "source": [
    "br=b[0:100]\n",
    "prd=pd[0:100]\n",
    "pri=pr[0:100]\n",
    "dis=d[0:100]"
   ]
  },
  {
   "cell_type": "code",
   "execution_count": 207,
   "id": "c19b2b2f",
   "metadata": {},
   "outputs": [
    {
     "data": {
      "text/html": [
       "<div>\n",
       "<style scoped>\n",
       "    .dataframe tbody tr th:only-of-type {\n",
       "        vertical-align: middle;\n",
       "    }\n",
       "\n",
       "    .dataframe tbody tr th {\n",
       "        vertical-align: top;\n",
       "    }\n",
       "\n",
       "    .dataframe thead th {\n",
       "        text-align: right;\n",
       "    }\n",
       "</style>\n",
       "<table border=\"1\" class=\"dataframe\">\n",
       "  <thead>\n",
       "    <tr style=\"text-align: right;\">\n",
       "      <th></th>\n",
       "      <th>brand</th>\n",
       "      <th>product_decription</th>\n",
       "      <th>price</th>\n",
       "      <th>discount</th>\n",
       "    </tr>\n",
       "  </thead>\n",
       "  <tbody>\n",
       "    <tr>\n",
       "      <th>0</th>\n",
       "      <td>BRUTON</td>\n",
       "      <td>Modern Trendy Sneakers Shoes Sneakers For Men</td>\n",
       "      <td>₹299</td>\n",
       "      <td>76% off</td>\n",
       "    </tr>\n",
       "    <tr>\n",
       "      <th>1</th>\n",
       "      <td>URBANBOX</td>\n",
       "      <td>White Sneaker For Men's/Boy's Sneakers For Men</td>\n",
       "      <td>₹220</td>\n",
       "      <td>77% off</td>\n",
       "    </tr>\n",
       "    <tr>\n",
       "      <th>2</th>\n",
       "      <td>Shoes Bank</td>\n",
       "      <td>Synthetic Leather Casual Partywear Wedding Sne...</td>\n",
       "      <td>₹331</td>\n",
       "      <td>66% off</td>\n",
       "    </tr>\n",
       "    <tr>\n",
       "      <th>3</th>\n",
       "      <td>T-ROCK</td>\n",
       "      <td>Sports Running Shoes Sneakers For Men</td>\n",
       "      <td>₹379</td>\n",
       "      <td>62% off</td>\n",
       "    </tr>\n",
       "    <tr>\n",
       "      <th>4</th>\n",
       "      <td>BIRDE</td>\n",
       "      <td>Sneakers For Men</td>\n",
       "      <td>₹299</td>\n",
       "      <td>40% off</td>\n",
       "    </tr>\n",
       "    <tr>\n",
       "      <th>...</th>\n",
       "      <td>...</td>\n",
       "      <td>...</td>\n",
       "      <td>...</td>\n",
       "      <td>...</td>\n",
       "    </tr>\n",
       "    <tr>\n",
       "      <th>95</th>\n",
       "      <td>PUMA</td>\n",
       "      <td>men's black sneakers lace-up trendy casual Sne...</td>\n",
       "      <td>₹3,799</td>\n",
       "      <td>62% off</td>\n",
       "    </tr>\n",
       "    <tr>\n",
       "      <th>96</th>\n",
       "      <td>India hub</td>\n",
       "      <td>Casual Shoes Slip On Sneakers For Men Sneakers...</td>\n",
       "      <td>₹449</td>\n",
       "      <td>77% off</td>\n",
       "    </tr>\n",
       "    <tr>\n",
       "      <th>97</th>\n",
       "      <td>Strollin</td>\n",
       "      <td>Fashion Outdoor Canvas Casual Light Weight Lac...</td>\n",
       "      <td>₹415</td>\n",
       "      <td>58% off</td>\n",
       "    </tr>\n",
       "    <tr>\n",
       "      <th>98</th>\n",
       "      <td>BRUTON</td>\n",
       "      <td>Combo Pack of 3 Casual Shoes (Sneakers Shoes) ...</td>\n",
       "      <td>₹536</td>\n",
       "      <td>78% off</td>\n",
       "    </tr>\n",
       "    <tr>\n",
       "      <th>99</th>\n",
       "      <td>PUMA</td>\n",
       "      <td>Sneakers For Men</td>\n",
       "      <td>₹1,047</td>\n",
       "      <td>62% off</td>\n",
       "    </tr>\n",
       "  </tbody>\n",
       "</table>\n",
       "<p>100 rows × 4 columns</p>\n",
       "</div>"
      ],
      "text/plain": [
       "         brand                                 product_decription   price  \\\n",
       "0       BRUTON      Modern Trendy Sneakers Shoes Sneakers For Men    ₹299   \n",
       "1     URBANBOX     White Sneaker For Men's/Boy's Sneakers For Men    ₹220   \n",
       "2   Shoes Bank  Synthetic Leather Casual Partywear Wedding Sne...    ₹331   \n",
       "3       T-ROCK              Sports Running Shoes Sneakers For Men    ₹379   \n",
       "4        BIRDE                                   Sneakers For Men    ₹299   \n",
       "..         ...                                                ...     ...   \n",
       "95        PUMA  men's black sneakers lace-up trendy casual Sne...  ₹3,799   \n",
       "96   India hub  Casual Shoes Slip On Sneakers For Men Sneakers...    ₹449   \n",
       "97    Strollin  Fashion Outdoor Canvas Casual Light Weight Lac...    ₹415   \n",
       "98      BRUTON  Combo Pack of 3 Casual Shoes (Sneakers Shoes) ...    ₹536   \n",
       "99        PUMA                                   Sneakers For Men  ₹1,047   \n",
       "\n",
       "   discount  \n",
       "0   76% off  \n",
       "1   77% off  \n",
       "2   66% off  \n",
       "3   62% off  \n",
       "4   40% off  \n",
       "..      ...  \n",
       "95  62% off  \n",
       "96  77% off  \n",
       "97  58% off  \n",
       "98  78% off  \n",
       "99  62% off  \n",
       "\n",
       "[100 rows x 4 columns]"
      ]
     },
     "execution_count": 207,
     "metadata": {},
     "output_type": "execute_result"
    }
   ],
   "source": [
    "import pandas as pd\n",
    "\n",
    "sn=pd.DataFrame({})\n",
    "sn['brand']=br\n",
    "sn['product_decription']=prd\n",
    "sn['price']=pri\n",
    "sn['discount']=dis\n",
    "sn"
   ]
  },
  {
   "cell_type": "code",
   "execution_count": null,
   "id": "4e485077",
   "metadata": {},
   "outputs": [],
   "source": []
  },
  {
   "cell_type": "markdown",
   "id": "0175931a",
   "metadata": {},
   "source": [
    "# Q7: Go to the link - https://www.myntra.com/shoes \n",
    "Set Price filter to “Rs. 6649 to Rs. 13099” , Color filter to “Black”, as shown in the below image"
   ]
  },
  {
   "cell_type": "code",
   "execution_count": 208,
   "id": "176f6163",
   "metadata": {},
   "outputs": [],
   "source": [
    "import warnings\n",
    "warnings.filterwarnings('ignore')\n",
    "\n",
    "\n",
    "import selenium\n",
    "import pandas as pd\n",
    "from selenium import webdriver"
   ]
  },
  {
   "cell_type": "code",
   "execution_count": 209,
   "id": "a281f0c1",
   "metadata": {},
   "outputs": [],
   "source": [
    "driver=webdriver.Chrome(r\"C:/Users/Jay gawande/Downloads/chromedriver_win32/chromedriver.exe\")"
   ]
  },
  {
   "cell_type": "code",
   "execution_count": 210,
   "id": "c50a28ac",
   "metadata": {},
   "outputs": [],
   "source": [
    "driver.get(\"https://www.myntra.com/shoes\")"
   ]
  },
  {
   "cell_type": "code",
   "execution_count": 212,
   "id": "642bdd6e",
   "metadata": {},
   "outputs": [],
   "source": [
    "src=driver.find_element_by_xpath(\"//ul//li[@class='colour-listItem']\")\n",
    "\n",
    "srcp=driver.find_element_by_xpath(\"//ul[@class='price-list']/li[2]\")"
   ]
  },
  {
   "cell_type": "code",
   "execution_count": null,
   "id": "e26b0803",
   "metadata": {},
   "outputs": [],
   "source": []
  },
  {
   "cell_type": "code",
   "execution_count": 213,
   "id": "dd061fa4",
   "metadata": {},
   "outputs": [],
   "source": [
    "src.click()"
   ]
  },
  {
   "cell_type": "code",
   "execution_count": 214,
   "id": "09c400b7",
   "metadata": {},
   "outputs": [],
   "source": [
    "srcp.click()"
   ]
  },
  {
   "cell_type": "code",
   "execution_count": 215,
   "id": "17c91a05",
   "metadata": {},
   "outputs": [],
   "source": [
    "next_btnmm=driver.find_element_by_xpath(\"//a[@rel='next']\")"
   ]
  },
  {
   "cell_type": "code",
   "execution_count": 216,
   "id": "5535ab67",
   "metadata": {},
   "outputs": [],
   "source": [
    "Brand_Shoee=[]\n",
    "Prodct_Dess=[]\n",
    "Price_shoee=[]"
   ]
  },
  {
   "cell_type": "code",
   "execution_count": 217,
   "id": "5c759c90",
   "metadata": {},
   "outputs": [],
   "source": [
    "shoebb=driver.find_elements_by_xpath(\"//h3[@class='product-brand']\")\n",
    "\n",
    "shoepp=driver.find_elements_by_xpath(\"//h4[@class='product-product']\")\n",
    "\n",
    "shoepric=driver.find_elements_by_xpath(\"//div[@class='product-price']/span[1]\")"
   ]
  },
  {
   "cell_type": "code",
   "execution_count": 218,
   "id": "4107f182",
   "metadata": {},
   "outputs": [],
   "source": [
    "for bb in shoebb:\n",
    "    bb1=bb.text\n",
    "    Brand_Shoee.append(bb1)\n",
    "    \n",
    "for pp in shoepp:\n",
    "    pp1=pp.text\n",
    "    Prodct_Dess.append(pp1)\n",
    "    \n",
    "for ic in shoepric:\n",
    "    ic1=ic.text\n",
    "    Price_shoee.append(ic1)"
   ]
  },
  {
   "cell_type": "code",
   "execution_count": 219,
   "id": "fb5494a5",
   "metadata": {},
   "outputs": [],
   "source": [
    "next_btnmm.click()"
   ]
  },
  {
   "cell_type": "code",
   "execution_count": 220,
   "id": "956f53dd",
   "metadata": {},
   "outputs": [],
   "source": [
    "Brand_Shoee1=[]\n",
    "Prodct_Dess1=[]\n",
    "Price_shoee1=[]"
   ]
  },
  {
   "cell_type": "code",
   "execution_count": 221,
   "id": "8778b954",
   "metadata": {},
   "outputs": [],
   "source": [
    "shoebb1=driver.find_elements_by_xpath(\"//h3[@class='product-brand']\")\n",
    "\n",
    "shoepp1=driver.find_elements_by_xpath(\"//h4[@class='product-product']\")\n",
    "\n",
    "shoepric1=driver.find_elements_by_xpath(\"//div[@class='product-price']/span[1]\")"
   ]
  },
  {
   "cell_type": "code",
   "execution_count": 222,
   "id": "ecb0981c",
   "metadata": {},
   "outputs": [],
   "source": [
    "for o in shoebb1:\n",
    "    o1=o.text\n",
    "    Brand_Shoee1.append(o1)"
   ]
  },
  {
   "cell_type": "code",
   "execution_count": 224,
   "id": "5b788e64",
   "metadata": {},
   "outputs": [],
   "source": [
    "for e in shoepp1:\n",
    "    e1=e.text\n",
    "    Prodct_Dess1.append(e1)"
   ]
  },
  {
   "cell_type": "code",
   "execution_count": 225,
   "id": "3bf22c73",
   "metadata": {},
   "outputs": [],
   "source": [
    "for p in shoepric1:\n",
    "    p1=p.text\n",
    "    Price_shoee1.append(p1)"
   ]
  },
  {
   "cell_type": "code",
   "execution_count": 228,
   "id": "a21a5ecc",
   "metadata": {},
   "outputs": [
    {
     "name": "stdout",
     "output_type": "stream",
     "text": [
      "100 150 100\n"
     ]
    }
   ],
   "source": []
  },
  {
   "cell_type": "code",
   "execution_count": 226,
   "id": "b0da7efc",
   "metadata": {},
   "outputs": [],
   "source": [
    "fb=Brand_Shoee+Brand_Shoee1\n",
    "fpd=Prodct_Dess+Prodct_Dess1\n",
    "fpric=Price_shoee+Price_shoee1"
   ]
  },
  {
   "cell_type": "code",
   "execution_count": 230,
   "id": "62a3aaee",
   "metadata": {},
   "outputs": [
    {
     "name": "stdout",
     "output_type": "stream",
     "text": [
      "100 100 100\n"
     ]
    }
   ],
   "source": [
    "fba=fb[0:100]\n",
    "fpda=fpd[0:100]\n",
    "fprica=fpric[0:100]\n",
    "print(len(fba),len(fpda),len(fprica))"
   ]
  },
  {
   "cell_type": "code",
   "execution_count": 231,
   "id": "a5759437",
   "metadata": {},
   "outputs": [
    {
     "data": {
      "text/html": [
       "<div>\n",
       "<style scoped>\n",
       "    .dataframe tbody tr th:only-of-type {\n",
       "        vertical-align: middle;\n",
       "    }\n",
       "\n",
       "    .dataframe tbody tr th {\n",
       "        vertical-align: top;\n",
       "    }\n",
       "\n",
       "    .dataframe thead th {\n",
       "        text-align: right;\n",
       "    }\n",
       "</style>\n",
       "<table border=\"1\" class=\"dataframe\">\n",
       "  <thead>\n",
       "    <tr style=\"text-align: right;\">\n",
       "      <th></th>\n",
       "      <th>Brand</th>\n",
       "      <th>Product Des</th>\n",
       "      <th>Price</th>\n",
       "    </tr>\n",
       "  </thead>\n",
       "  <tbody>\n",
       "    <tr>\n",
       "      <th>0</th>\n",
       "      <td>ASICS</td>\n",
       "      <td>Men GEL-KAYANO 27 Shoes</td>\n",
       "      <td>Rs. 10499Rs. 14999</td>\n",
       "    </tr>\n",
       "    <tr>\n",
       "      <th>1</th>\n",
       "      <td>Puma</td>\n",
       "      <td>Men Deviate Nitro Running Shoe</td>\n",
       "      <td>Rs. 8249Rs. 14999</td>\n",
       "    </tr>\n",
       "    <tr>\n",
       "      <th>2</th>\n",
       "      <td>Puma</td>\n",
       "      <td>Men Running Shoes</td>\n",
       "      <td>Rs. 6499Rs. 12999</td>\n",
       "    </tr>\n",
       "    <tr>\n",
       "      <th>3</th>\n",
       "      <td>Puma</td>\n",
       "      <td>Men Magnify Nitro Running</td>\n",
       "      <td>Rs. 7799Rs. 12999</td>\n",
       "    </tr>\n",
       "    <tr>\n",
       "      <th>4</th>\n",
       "      <td>Nike</td>\n",
       "      <td>Men Waffle One SE Sneakers</td>\n",
       "      <td>Rs. 8295</td>\n",
       "    </tr>\n",
       "    <tr>\n",
       "      <th>...</th>\n",
       "      <td>...</td>\n",
       "      <td>...</td>\n",
       "      <td>...</td>\n",
       "    </tr>\n",
       "    <tr>\n",
       "      <th>95</th>\n",
       "      <td>ASICS</td>\n",
       "      <td>Men Gel-Excite 8 Running Shoes</td>\n",
       "      <td>Rs. 6499</td>\n",
       "    </tr>\n",
       "    <tr>\n",
       "      <th>96</th>\n",
       "      <td>ASICS</td>\n",
       "      <td>Men GEL-Game 8 Tennis Shoes</td>\n",
       "      <td>Rs. 6999</td>\n",
       "    </tr>\n",
       "    <tr>\n",
       "      <th>97</th>\n",
       "      <td>DAVINCHI</td>\n",
       "      <td>Solid Slip On Shoes</td>\n",
       "      <td>Rs. 7990</td>\n",
       "    </tr>\n",
       "    <tr>\n",
       "      <th>98</th>\n",
       "      <td>DAVINCHI</td>\n",
       "      <td>Men Formal Leather Slip-Ons</td>\n",
       "      <td>Rs. 8990</td>\n",
       "    </tr>\n",
       "    <tr>\n",
       "      <th>99</th>\n",
       "      <td>Pavers England</td>\n",
       "      <td>Men Textured Leather Loafers</td>\n",
       "      <td>Rs. 10999</td>\n",
       "    </tr>\n",
       "  </tbody>\n",
       "</table>\n",
       "<p>100 rows × 3 columns</p>\n",
       "</div>"
      ],
      "text/plain": [
       "             Brand                     Product Des               Price\n",
       "0            ASICS         Men GEL-KAYANO 27 Shoes  Rs. 10499Rs. 14999\n",
       "1             Puma  Men Deviate Nitro Running Shoe   Rs. 8249Rs. 14999\n",
       "2             Puma               Men Running Shoes   Rs. 6499Rs. 12999\n",
       "3             Puma       Men Magnify Nitro Running   Rs. 7799Rs. 12999\n",
       "4             Nike      Men Waffle One SE Sneakers            Rs. 8295\n",
       "..             ...                             ...                 ...\n",
       "95           ASICS  Men Gel-Excite 8 Running Shoes            Rs. 6499\n",
       "96           ASICS     Men GEL-Game 8 Tennis Shoes            Rs. 6999\n",
       "97        DAVINCHI             Solid Slip On Shoes            Rs. 7990\n",
       "98        DAVINCHI     Men Formal Leather Slip-Ons            Rs. 8990\n",
       "99  Pavers England    Men Textured Leather Loafers           Rs. 10999\n",
       "\n",
       "[100 rows x 3 columns]"
      ]
     },
     "execution_count": 231,
     "metadata": {},
     "output_type": "execute_result"
    }
   ],
   "source": [
    "df=pd.DataFrame({'Brand':fba,'Product Des':fpda,'Price':fprica})\n",
    "df"
   ]
  },
  {
   "cell_type": "code",
   "execution_count": null,
   "id": "3194407a",
   "metadata": {},
   "outputs": [],
   "source": []
  },
  {
   "cell_type": "markdown",
   "id": "73290f46",
   "metadata": {},
   "source": [
    "# Q8: Go to webpage https://www.amazon.in/ \n",
    "Enter “Laptop” in the search field and then click the search icon. \n",
    "Then set CPU Type filter to “Intel Core i7” and “Intel Core i9” as shown in the below image: "
   ]
  },
  {
   "cell_type": "code",
   "execution_count": null,
   "id": "7aaccf65",
   "metadata": {},
   "outputs": [],
   "source": []
  },
  {
   "cell_type": "code",
   "execution_count": 272,
   "id": "d88a1d97",
   "metadata": {},
   "outputs": [],
   "source": [
    "import warnings\n",
    "warnings.filterwarnings('ignore')\n",
    "\n",
    "\n",
    "import selenium\n",
    "import pandas as pd\n",
    "from selenium import webdriver"
   ]
  },
  {
   "cell_type": "code",
   "execution_count": 273,
   "id": "1391983d",
   "metadata": {},
   "outputs": [],
   "source": [
    "driver=webdriver.Chrome(r\"C:/Users/Jay gawande/Downloads/chromedriver_win32/chromedriver.exe\")"
   ]
  },
  {
   "cell_type": "code",
   "execution_count": 274,
   "id": "1e3c63dc",
   "metadata": {},
   "outputs": [],
   "source": [
    "driver.get('https://www.amazon.in/?tag=msndeskabkin-21&hvadid=72705384051703&hvqmt=e&hvbmt=be&hvdev=c&ref=pd_sl_7qhce485bd_e')"
   ]
  },
  {
   "cell_type": "code",
   "execution_count": 275,
   "id": "9609da4b",
   "metadata": {},
   "outputs": [],
   "source": [
    "scrht=driver.find_element_by_id('twotabsearchtextbox')\n",
    "scrht.send_keys('Laptop')"
   ]
  },
  {
   "cell_type": "code",
   "execution_count": 276,
   "id": "00e23939",
   "metadata": {},
   "outputs": [],
   "source": [
    "srchb=driver.find_element_by_id('nav-search-submit-button')\n",
    "srchb.click()"
   ]
  },
  {
   "cell_type": "code",
   "execution_count": 277,
   "id": "0cc200be",
   "metadata": {},
   "outputs": [],
   "source": [
    "tbuton=driver.find_element_by_xpath(\"//ul[@class='a-unordered-list a-nostyle a-vertical a-spacing-medium']/li[10]/span/a/div/label/input\")"
   ]
  },
  {
   "cell_type": "code",
   "execution_count": 279,
   "id": "94940633",
   "metadata": {},
   "outputs": [],
   "source": [
    "i7btn=driver.find_element_by_xpath(\"//li[@id='p_n_feature_thirteen_browse-bin/12598163031']/span/a\")"
   ]
  },
  {
   "cell_type": "code",
   "execution_count": 280,
   "id": "cbf3d637",
   "metadata": {},
   "outputs": [],
   "source": [
    "i9btn=driver.find_element_by_xpath(\"//ul[@class='a-unordered-list a-nostyle a-vertical a-spacing-medium']/li[11]/span/a\")"
   ]
  },
  {
   "cell_type": "code",
   "execution_count": 281,
   "id": "63070bb9",
   "metadata": {},
   "outputs": [],
   "source": [
    "i7btn.click()"
   ]
  },
  {
   "cell_type": "code",
   "execution_count": 282,
   "id": "51487628",
   "metadata": {},
   "outputs": [],
   "source": [
    "i7titu=[]\n",
    "i7rati=[]\n",
    "i7pric=[]"
   ]
  },
  {
   "cell_type": "code",
   "execution_count": 283,
   "id": "8bb2f6a6",
   "metadata": {},
   "outputs": [],
   "source": [
    "#i7titu.clear()"
   ]
  },
  {
   "cell_type": "code",
   "execution_count": 285,
   "id": "82b90bdf",
   "metadata": {},
   "outputs": [],
   "source": [
    "shoebb=driver.find_elements_by_xpath(\"//h2[@class='a-size-mini a-spacing-none a-color-base s-line-clamp-2']/a/span\")"
   ]
  },
  {
   "cell_type": "code",
   "execution_count": 286,
   "id": "70a23431",
   "metadata": {},
   "outputs": [
    {
     "data": {
      "text/plain": [
       "['Lenovo ThinkBook Yoga 14s Intel Core i7 ',\n",
       " 'Fujitsu UH-X 11th Gen Intel i7 Core 13.3',\n",
       " 'Mi Notebook Horizon Edition 14 Intel Cor',\n",
       " 'Mi Notebook Pro QHD+ IPS Anti Glare Disp',\n",
       " 'HP Pavilion (2021) Intel 11th Gen Core i',\n",
       " 'Lenovo ThinkBook 15 Intel 11th Gen Core ',\n",
       " 'Mi Notebook Ultra 3.2K resolution displa',\n",
       " 'HP Pavilion 13, 11th Gen Intel Core i7, ',\n",
       " 'ASUS TUF Dash F15 (2021), 15.6-inch (39.',\n",
       " 'Lenovo Legion 5 11th Gen Intel Core i7 1']"
      ]
     },
     "execution_count": 286,
     "metadata": {},
     "output_type": "execute_result"
    }
   ],
   "source": [
    "for ti in shoebb[:10]:\n",
    "    ti1=ti.text[:40]\n",
    "    i7titu.append(ti1)\n",
    "i7titu"
   ]
  },
  {
   "cell_type": "code",
   "execution_count": 309,
   "id": "f33fe456",
   "metadata": {},
   "outputs": [],
   "source": [
    "Ratings=[]\n",
    "urls=driver.find_elements_by_xpath(\"//a[@class='a-link-normal a-text-normal']\")\n",
    "UR=[]\n",
    "for i in urls[:10]:\n",
    "    UR.append(i.get_attribute('href'))\n",
    "for url in UR:\n",
    "    driver.get(url)\n",
    "    try:                                                                    \n",
    "        rating=driver.find_element_by_xpath(\"//span[@class='a-size-base a-nowrap']//span\")\n",
    "        Ratings.append(rating.text)\n",
    "        \n",
    "    except NoSuchElementException:\n",
    "        Ratings.append(\"NO rating\")"
   ]
  },
  {
   "cell_type": "code",
   "execution_count": 310,
   "id": "e497f89e",
   "metadata": {},
   "outputs": [],
   "source": [
    "shoeppr=driver.find_elements_by_xpath(\"//span[@class='a-price-whole']\")"
   ]
  },
  {
   "cell_type": "code",
   "execution_count": 311,
   "id": "01f426fd",
   "metadata": {},
   "outputs": [
    {
     "data": {
      "text/plain": [
       "['',\n",
       " '',\n",
       " '',\n",
       " '',\n",
       " '59,990.',\n",
       " '68,990.',\n",
       " '66,490.',\n",
       " '74,710.',\n",
       " '68,989.',\n",
       " '58,990']"
      ]
     },
     "execution_count": 311,
     "metadata": {},
     "output_type": "execute_result"
    }
   ],
   "source": [
    "pric=[]\n",
    "for pp in shoeppr[:10]:\n",
    "    pp1=pp.text\n",
    "    pric.append(pp1)\n",
    "pric"
   ]
  },
  {
   "cell_type": "code",
   "execution_count": 312,
   "id": "de72bb5c",
   "metadata": {},
   "outputs": [
    {
     "data": {
      "text/html": [
       "<div>\n",
       "<style scoped>\n",
       "    .dataframe tbody tr th:only-of-type {\n",
       "        vertical-align: middle;\n",
       "    }\n",
       "\n",
       "    .dataframe tbody tr th {\n",
       "        vertical-align: top;\n",
       "    }\n",
       "\n",
       "    .dataframe thead th {\n",
       "        text-align: right;\n",
       "    }\n",
       "</style>\n",
       "<table border=\"1\" class=\"dataframe\">\n",
       "  <thead>\n",
       "    <tr style=\"text-align: right;\">\n",
       "      <th></th>\n",
       "      <th>Title</th>\n",
       "      <th>Rating</th>\n",
       "      <th>Price</th>\n",
       "    </tr>\n",
       "  </thead>\n",
       "  <tbody>\n",
       "    <tr>\n",
       "      <th>0</th>\n",
       "      <td>Lenovo ThinkBook Yoga 14s Intel Core i7</td>\n",
       "      <td>4.3 out of 5</td>\n",
       "      <td></td>\n",
       "    </tr>\n",
       "    <tr>\n",
       "      <th>1</th>\n",
       "      <td>Fujitsu UH-X 11th Gen Intel i7 Core 13.3</td>\n",
       "      <td>4.1 out of 5</td>\n",
       "      <td></td>\n",
       "    </tr>\n",
       "    <tr>\n",
       "      <th>2</th>\n",
       "      <td>Mi Notebook Horizon Edition 14 Intel Cor</td>\n",
       "      <td>4.1 out of 5</td>\n",
       "      <td></td>\n",
       "    </tr>\n",
       "    <tr>\n",
       "      <th>3</th>\n",
       "      <td>Mi Notebook Pro QHD+ IPS Anti Glare Disp</td>\n",
       "      <td>4.5 out of 5</td>\n",
       "      <td></td>\n",
       "    </tr>\n",
       "    <tr>\n",
       "      <th>4</th>\n",
       "      <td>HP Pavilion (2021) Intel 11th Gen Core i</td>\n",
       "      <td>4.5 out of 5</td>\n",
       "      <td>59,990.</td>\n",
       "    </tr>\n",
       "    <tr>\n",
       "      <th>5</th>\n",
       "      <td>Lenovo ThinkBook 15 Intel 11th Gen Core</td>\n",
       "      <td>4.6 out of 5</td>\n",
       "      <td>68,990.</td>\n",
       "    </tr>\n",
       "    <tr>\n",
       "      <th>6</th>\n",
       "      <td>Mi Notebook Ultra 3.2K resolution displa</td>\n",
       "      <td>4.6 out of 5</td>\n",
       "      <td>66,490.</td>\n",
       "    </tr>\n",
       "    <tr>\n",
       "      <th>7</th>\n",
       "      <td>HP Pavilion 13, 11th Gen Intel Core i7,</td>\n",
       "      <td>5 out of 5</td>\n",
       "      <td>74,710.</td>\n",
       "    </tr>\n",
       "    <tr>\n",
       "      <th>8</th>\n",
       "      <td>ASUS TUF Dash F15 (2021), 15.6-inch (39.</td>\n",
       "      <td>5 out of 5</td>\n",
       "      <td>68,989.</td>\n",
       "    </tr>\n",
       "    <tr>\n",
       "      <th>9</th>\n",
       "      <td>Lenovo Legion 5 11th Gen Intel Core i7 1</td>\n",
       "      <td>4.5 out of 5</td>\n",
       "      <td>58,990</td>\n",
       "    </tr>\n",
       "  </tbody>\n",
       "</table>\n",
       "</div>"
      ],
      "text/plain": [
       "                                      Title        Rating    Price\n",
       "0  Lenovo ThinkBook Yoga 14s Intel Core i7   4.3 out of 5         \n",
       "1  Fujitsu UH-X 11th Gen Intel i7 Core 13.3  4.1 out of 5         \n",
       "2  Mi Notebook Horizon Edition 14 Intel Cor  4.1 out of 5         \n",
       "3  Mi Notebook Pro QHD+ IPS Anti Glare Disp  4.5 out of 5         \n",
       "4  HP Pavilion (2021) Intel 11th Gen Core i  4.5 out of 5  59,990.\n",
       "5  Lenovo ThinkBook 15 Intel 11th Gen Core   4.6 out of 5  68,990.\n",
       "6  Mi Notebook Ultra 3.2K resolution displa  4.6 out of 5  66,490.\n",
       "7  HP Pavilion 13, 11th Gen Intel Core i7,     5 out of 5  74,710.\n",
       "8  ASUS TUF Dash F15 (2021), 15.6-inch (39.    5 out of 5  68,989.\n",
       "9  Lenovo Legion 5 11th Gen Intel Core i7 1  4.5 out of 5   58,990"
      ]
     },
     "execution_count": 312,
     "metadata": {},
     "output_type": "execute_result"
    }
   ],
   "source": [
    "df2=pd.DataFrame({'Title':i7titu,'Rating':Ratings,'Price':pric})\n",
    "df2"
   ]
  },
  {
   "cell_type": "code",
   "execution_count": null,
   "id": "f9d14f41",
   "metadata": {},
   "outputs": [],
   "source": []
  },
  {
   "cell_type": "markdown",
   "id": "f7e9fe8e",
   "metadata": {},
   "source": [
    "# Q9: Write a python program to scrape data for first 10 job results for Data Scientist Designation in Noida \n",
    "location. You have to scrape company name, No. of days ago when job was posted, Rating of the company. \n",
    "This task will be done in following steps:"
   ]
  },
  {
   "cell_type": "code",
   "execution_count": 313,
   "id": "7ea30107",
   "metadata": {},
   "outputs": [],
   "source": [
    "import warnings\n",
    "warnings.filterwarnings('ignore')\n",
    "\n",
    "\n",
    "import selenium\n",
    "import pandas as pd\n",
    "from selenium import webdriver"
   ]
  },
  {
   "cell_type": "code",
   "execution_count": 320,
   "id": "e2fff241",
   "metadata": {},
   "outputs": [],
   "source": [
    "driver=webdriver.Chrome(r\"C:/Users/Jay gawande/Downloads/chromedriver_win32/chromedriver.exe\")"
   ]
  },
  {
   "cell_type": "code",
   "execution_count": 321,
   "id": "73f9a23e",
   "metadata": {},
   "outputs": [],
   "source": [
    "driver.get(\"https://www.ambitionbox.com/\")"
   ]
  },
  {
   "cell_type": "code",
   "execution_count": 322,
   "id": "b6fa7d00",
   "metadata": {},
   "outputs": [],
   "source": [
    "jobtn=driver.find_element_by_xpath(\"//a[@class='link jobs']\")"
   ]
  },
  {
   "cell_type": "code",
   "execution_count": 323,
   "id": "471e16eb",
   "metadata": {},
   "outputs": [],
   "source": [
    "jobtn.click()"
   ]
  },
  {
   "cell_type": "code",
   "execution_count": 324,
   "id": "f0591b8c",
   "metadata": {},
   "outputs": [],
   "source": [
    "srchjob=driver.find_element_by_xpath(\"//input[@class='input tt-input']\")\n",
    "srchjob.send_keys(\"Data Scientist\")"
   ]
  },
  {
   "cell_type": "code",
   "execution_count": 325,
   "id": "49d7037b",
   "metadata": {},
   "outputs": [],
   "source": [
    "srchbtn=driver.find_element_by_xpath(\"//button[@class='ab_btn search-btn round']\")"
   ]
  },
  {
   "cell_type": "code",
   "execution_count": 326,
   "id": "9c90bdbf",
   "metadata": {},
   "outputs": [],
   "source": [
    "srchbtn.click()"
   ]
  },
  {
   "cell_type": "code",
   "execution_count": 327,
   "id": "a3f8f8fb",
   "metadata": {},
   "outputs": [],
   "source": [
    "srchlocc=driver.find_element_by_xpath(\"//div[2][@class='filter-item']\")"
   ]
  },
  {
   "cell_type": "code",
   "execution_count": 328,
   "id": "d30c9240",
   "metadata": {},
   "outputs": [],
   "source": [
    "srchlocc.click()"
   ]
  },
  {
   "cell_type": "code",
   "execution_count": 329,
   "id": "44302862",
   "metadata": {},
   "outputs": [],
   "source": [
    "srchinput=driver.find_element_by_xpath(\"//input[@placeholder='Search locations']\")\n",
    "srchinput.send_keys(\"Noida\")"
   ]
  },
  {
   "cell_type": "code",
   "execution_count": 330,
   "id": "87f8e625",
   "metadata": {},
   "outputs": [],
   "source": [
    "clicjbtn=driver.find_element_by_xpath(\"//input[@id='location_Noida']\")"
   ]
  },
  {
   "cell_type": "code",
   "execution_count": 331,
   "id": "92551b0e",
   "metadata": {},
   "outputs": [],
   "source": [
    "clicjbtn.click()"
   ]
  },
  {
   "cell_type": "code",
   "execution_count": 332,
   "id": "36245e85",
   "metadata": {},
   "outputs": [],
   "source": [
    "shoebb11=driver.find_elements_by_xpath(\"//p[@class='company body-medium']\")\n",
    "\n",
    "shoerat=driver.find_elements_by_xpath(\"//span[@class='body-small']\")\n",
    "\n",
    "shoepot=driver.find_elements_by_xpath(\"//div[@class='other-info']/span[1]\")"
   ]
  },
  {
   "cell_type": "code",
   "execution_count": 333,
   "id": "e930e266",
   "metadata": {},
   "outputs": [
    {
     "data": {
      "text/plain": [
       "['LG Electronics India Pvt. Ltd.',\n",
       " 'GENPACT India Private Limited',\n",
       " 'GENPACT India Private Limited',\n",
       " 'NTT Data Business Solutions Pvt Ltd',\n",
       " 'GENPACT India Private Limited',\n",
       " 'Paytm',\n",
       " 'GI Group',\n",
       " 'GI Group',\n",
       " 'GI Group',\n",
       " 'Steria India Ltd']"
      ]
     },
     "execution_count": 333,
     "metadata": {},
     "output_type": "execute_result"
    }
   ],
   "source": [
    "gh=[]\n",
    "for i in shoebb11:\n",
    "    i1=i.text\n",
    "    gh.append(i1)\n",
    "gh"
   ]
  },
  {
   "cell_type": "code",
   "execution_count": 334,
   "id": "87e08f98",
   "metadata": {},
   "outputs": [
    {
     "data": {
      "text/plain": [
       "['4.1', '4.0', '4.0', '3.8', '4.0', '3.7', '4.0', '4.0', '4.0', '4.1']"
      ]
     },
     "execution_count": 334,
     "metadata": {},
     "output_type": "execute_result"
    }
   ],
   "source": [
    "rat=[]\n",
    "for rat1 in shoerat:\n",
    "    rat2=rat1.text\n",
    "    rat.append(rat2)\n",
    "rat"
   ]
  },
  {
   "cell_type": "code",
   "execution_count": 335,
   "id": "77a3d7e9",
   "metadata": {},
   "outputs": [
    {
     "data": {
      "text/plain": [
       "['10d ago',\n",
       " '16d ago',\n",
       " '17d ago',\n",
       " '18d ago',\n",
       " '18d ago',\n",
       " '3d ago',\n",
       " '3d ago',\n",
       " '3d ago',\n",
       " '3d ago',\n",
       " '1mon ago']"
      ]
     },
     "execution_count": 335,
     "metadata": {},
     "output_type": "execute_result"
    }
   ],
   "source": [
    "post=[]\n",
    "for po in shoepot:\n",
    "    po1=po.text\n",
    "    post.append(po1)\n",
    "post"
   ]
  },
  {
   "cell_type": "code",
   "execution_count": 336,
   "id": "88391965",
   "metadata": {},
   "outputs": [
    {
     "data": {
      "text/html": [
       "<div>\n",
       "<style scoped>\n",
       "    .dataframe tbody tr th:only-of-type {\n",
       "        vertical-align: middle;\n",
       "    }\n",
       "\n",
       "    .dataframe tbody tr th {\n",
       "        vertical-align: top;\n",
       "    }\n",
       "\n",
       "    .dataframe thead th {\n",
       "        text-align: right;\n",
       "    }\n",
       "</style>\n",
       "<table border=\"1\" class=\"dataframe\">\n",
       "  <thead>\n",
       "    <tr style=\"text-align: right;\">\n",
       "      <th></th>\n",
       "      <th>Compny Name</th>\n",
       "      <th>Rating Of Company</th>\n",
       "      <th>No Of Days Job Posted</th>\n",
       "    </tr>\n",
       "  </thead>\n",
       "  <tbody>\n",
       "    <tr>\n",
       "      <th>0</th>\n",
       "      <td>LG Electronics India Pvt. Ltd.</td>\n",
       "      <td>4.1</td>\n",
       "      <td>10d ago</td>\n",
       "    </tr>\n",
       "    <tr>\n",
       "      <th>1</th>\n",
       "      <td>GENPACT India Private Limited</td>\n",
       "      <td>4.0</td>\n",
       "      <td>16d ago</td>\n",
       "    </tr>\n",
       "    <tr>\n",
       "      <th>2</th>\n",
       "      <td>GENPACT India Private Limited</td>\n",
       "      <td>4.0</td>\n",
       "      <td>17d ago</td>\n",
       "    </tr>\n",
       "    <tr>\n",
       "      <th>3</th>\n",
       "      <td>NTT Data Business Solutions Pvt Ltd</td>\n",
       "      <td>3.8</td>\n",
       "      <td>18d ago</td>\n",
       "    </tr>\n",
       "    <tr>\n",
       "      <th>4</th>\n",
       "      <td>GENPACT India Private Limited</td>\n",
       "      <td>4.0</td>\n",
       "      <td>18d ago</td>\n",
       "    </tr>\n",
       "    <tr>\n",
       "      <th>5</th>\n",
       "      <td>Paytm</td>\n",
       "      <td>3.7</td>\n",
       "      <td>3d ago</td>\n",
       "    </tr>\n",
       "    <tr>\n",
       "      <th>6</th>\n",
       "      <td>GI Group</td>\n",
       "      <td>4.0</td>\n",
       "      <td>3d ago</td>\n",
       "    </tr>\n",
       "    <tr>\n",
       "      <th>7</th>\n",
       "      <td>GI Group</td>\n",
       "      <td>4.0</td>\n",
       "      <td>3d ago</td>\n",
       "    </tr>\n",
       "    <tr>\n",
       "      <th>8</th>\n",
       "      <td>GI Group</td>\n",
       "      <td>4.0</td>\n",
       "      <td>3d ago</td>\n",
       "    </tr>\n",
       "    <tr>\n",
       "      <th>9</th>\n",
       "      <td>Steria India Ltd</td>\n",
       "      <td>4.1</td>\n",
       "      <td>1mon ago</td>\n",
       "    </tr>\n",
       "  </tbody>\n",
       "</table>\n",
       "</div>"
      ],
      "text/plain": [
       "                           Compny Name Rating Of Company No Of Days Job Posted\n",
       "0       LG Electronics India Pvt. Ltd.               4.1               10d ago\n",
       "1        GENPACT India Private Limited               4.0               16d ago\n",
       "2        GENPACT India Private Limited               4.0               17d ago\n",
       "3  NTT Data Business Solutions Pvt Ltd               3.8               18d ago\n",
       "4        GENPACT India Private Limited               4.0               18d ago\n",
       "5                                Paytm               3.7                3d ago\n",
       "6                             GI Group               4.0                3d ago\n",
       "7                             GI Group               4.0                3d ago\n",
       "8                             GI Group               4.0                3d ago\n",
       "9                     Steria India Ltd               4.1              1mon ago"
      ]
     },
     "execution_count": 336,
     "metadata": {},
     "output_type": "execute_result"
    }
   ],
   "source": [
    "df=pd.DataFrame({'Compny Name':gh,'Rating Of Company':rat,'No Of Days Job Posted':post})\n",
    "df"
   ]
  },
  {
   "cell_type": "code",
   "execution_count": null,
   "id": "65f76973",
   "metadata": {},
   "outputs": [],
   "source": []
  },
  {
   "cell_type": "markdown",
   "id": "d73936c8",
   "metadata": {},
   "source": [
    "# Q10: Write a python program to scrape the salary data for Data Scientist designation. \n",
    "You have to scrape Company name, Number of salaries, Average salary, Min salary, Max Salary. "
   ]
  },
  {
   "cell_type": "code",
   "execution_count": 352,
   "id": "d9a9c1a9",
   "metadata": {},
   "outputs": [],
   "source": [
    "import warnings\n",
    "warnings.filterwarnings('ignore')\n",
    "\n",
    "\n",
    "import selenium\n",
    "import pandas as pd\n",
    "from selenium import webdriver"
   ]
  },
  {
   "cell_type": "code",
   "execution_count": 353,
   "id": "cd2703cc",
   "metadata": {},
   "outputs": [],
   "source": [
    "driver=webdriver.Chrome(r\"C:/Users/Jay gawande/Downloads/chromedriver_win32/chromedriver.exe\")"
   ]
  },
  {
   "cell_type": "code",
   "execution_count": 354,
   "id": "e629ac54",
   "metadata": {},
   "outputs": [],
   "source": [
    "driver.get(\"https://www.ambitionbox.com/\")"
   ]
  },
  {
   "cell_type": "code",
   "execution_count": 355,
   "id": "bcd3222a",
   "metadata": {},
   "outputs": [],
   "source": [
    "sal=driver.find_element_by_xpath(\"//a[@class='link salaries']\")"
   ]
  },
  {
   "cell_type": "code",
   "execution_count": 356,
   "id": "a763725e",
   "metadata": {},
   "outputs": [],
   "source": [
    "sal.click()"
   ]
  },
  {
   "cell_type": "code",
   "execution_count": 357,
   "id": "0e07d5b1",
   "metadata": {},
   "outputs": [],
   "source": [
    "srchnm=driver.find_element_by_xpath(\"//input[@class='tt-input']\")\n",
    "srchnm.send_keys(\"Data Scientist\")"
   ]
  },
  {
   "cell_type": "code",
   "execution_count": 360,
   "id": "0ba7d6cc",
   "metadata": {},
   "outputs": [],
   "source": [
    "dept=driver.find_element_by_xpath(\"//i[1][@class='icon-search']\")"
   ]
  },
  {
   "cell_type": "code",
   "execution_count": 361,
   "id": "d9d59a63",
   "metadata": {},
   "outputs": [],
   "source": [
    "dept.click()"
   ]
  },
  {
   "cell_type": "code",
   "execution_count": 362,
   "id": "40bb1471",
   "metadata": {},
   "outputs": [],
   "source": [
    "srchbtn=driver.find_element_by_xpath(\"//div[@class='ab_chip active sbold-list-header']\")"
   ]
  },
  {
   "cell_type": "code",
   "execution_count": 363,
   "id": "b63d4cca",
   "metadata": {},
   "outputs": [],
   "source": [
    "srchbtn.click()"
   ]
  },
  {
   "cell_type": "code",
   "execution_count": 364,
   "id": "43594ed1",
   "metadata": {},
   "outputs": [],
   "source": [
    "shoepnam=driver.find_elements_by_xpath(\"//div[@class='name']/a\")"
   ]
  },
  {
   "cell_type": "code",
   "execution_count": 365,
   "id": "3b64a883",
   "metadata": {},
   "outputs": [
    {
     "data": {
      "text/plain": [
       "['Tekion',\n",
       " 'Microsoft Corporation',\n",
       " 'Goldman Sachs',\n",
       " 'Flipkart',\n",
       " 'Amazon',\n",
       " 'Arcesium',\n",
       " 'Servicenow Software Development India',\n",
       " 'ServiceNow',\n",
       " 'Walmart',\n",
       " 'PayPal']"
      ]
     },
     "execution_count": 365,
     "metadata": {},
     "output_type": "execute_result"
    }
   ],
   "source": [
    "comnam=[]\n",
    "for am in shoepnam:\n",
    "    am1=am.text\n",
    "    comnam.append(am1)\n",
    "comnam"
   ]
  },
  {
   "cell_type": "code",
   "execution_count": 366,
   "id": "048a7412",
   "metadata": {},
   "outputs": [],
   "source": [
    "shoeprec=driver.find_elements_by_xpath(\"//div[@class='name']/span\")"
   ]
  },
  {
   "cell_type": "code",
   "execution_count": 367,
   "id": "efc50c3c",
   "metadata": {},
   "outputs": [
    {
     "data": {
      "text/plain": [
       "['based on 10 salaries',\n",
       " 'based on 218 salaries',\n",
       " 'based on 11 salaries',\n",
       " 'based on 53 salaries',\n",
       " 'based on 80 salaries',\n",
       " 'based on 35 salaries',\n",
       " 'based on 27 salaries',\n",
       " 'based on 15 salaries',\n",
       " 'based on 77 salaries',\n",
       " 'based on 12 salaries']"
      ]
     },
     "execution_count": 367,
     "metadata": {},
     "output_type": "execute_result"
    }
   ],
   "source": [
    "rec=[]\n",
    "for ec in shoeprec:\n",
    "    ec1=ec.text\n",
    "    rec.append(ec1)\n",
    "rec"
   ]
  },
  {
   "cell_type": "code",
   "execution_count": 369,
   "id": "07cdd11f",
   "metadata": {},
   "outputs": [],
   "source": [
    "shoemin=driver.find_elements_by_xpath(\"//div[@class='salary-values']/div[1]\")"
   ]
  },
  {
   "cell_type": "code",
   "execution_count": 370,
   "id": "95823139",
   "metadata": {},
   "outputs": [
    {
     "data": {
      "text/plain": [
       "['₹ 14.0L',\n",
       " '₹ 12.0L',\n",
       " '₹ 16.0L',\n",
       " '₹ 7.0L',\n",
       " '₹ 8.0L',\n",
       " '₹ 12.0L',\n",
       " '₹ 12.0L',\n",
       " '₹ 12.7L',\n",
       " '₹ 10.0L',\n",
       " '₹ 12.0L']"
      ]
     },
     "execution_count": 370,
     "metadata": {},
     "output_type": "execute_result"
    }
   ],
   "source": [
    "min1=[]\n",
    "for mi in shoemin:\n",
    "    mi1=mi.text\n",
    "    min1.append(mi1)\n",
    "min1"
   ]
  },
  {
   "cell_type": "code",
   "execution_count": 371,
   "id": "b5d7bdf0",
   "metadata": {},
   "outputs": [],
   "source": [
    "shoemax=driver.find_elements_by_xpath(\"//div[@class='salary-values']/div[2]\")"
   ]
  },
  {
   "cell_type": "code",
   "execution_count": 372,
   "id": "ebfdb812",
   "metadata": {},
   "outputs": [
    {
     "data": {
      "text/plain": [
       "['₹ 32.0L',\n",
       " '₹ 45.0L',\n",
       " '₹ 30.0L',\n",
       " '₹ 30.0L',\n",
       " '₹ 40.0L',\n",
       " '₹ 30.0L',\n",
       " '₹ 25.0L',\n",
       " '₹ 23.0L',\n",
       " '₹ 32.0L',\n",
       " '₹ 23.0L']"
      ]
     },
     "execution_count": 372,
     "metadata": {},
     "output_type": "execute_result"
    }
   ],
   "source": [
    "max1=[]\n",
    "for ax in shoemax:\n",
    "    ax1=ax.text\n",
    "    max1.append(ax1)\n",
    "max1"
   ]
  },
  {
   "cell_type": "code",
   "execution_count": 373,
   "id": "dcfb56cc",
   "metadata": {},
   "outputs": [],
   "source": [
    "shoeavg=driver.find_elements_by_xpath(\"//div[@class='average-indicator-wrapper']/p\")"
   ]
  },
  {
   "cell_type": "code",
   "execution_count": 374,
   "id": "8e69962e",
   "metadata": {},
   "outputs": [
    {
     "data": {
      "text/plain": [
       "['₹ 23.3L',\n",
       " '₹ 22.4L',\n",
       " '₹ 21.9L',\n",
       " '₹ 20.6L',\n",
       " '₹ 19.1L',\n",
       " '₹ 18.4L',\n",
       " '₹ 18.2L',\n",
       " '₹ 18.2L',\n",
       " '₹ 17.9L',\n",
       " '₹ 17.6L']"
      ]
     },
     "execution_count": 374,
     "metadata": {},
     "output_type": "execute_result"
    }
   ],
   "source": [
    "avg=[]\n",
    "for vg in shoeavg:\n",
    "    vg1=vg.text\n",
    "    avg.append(vg1)\n",
    "avg"
   ]
  },
  {
   "cell_type": "code",
   "execution_count": 375,
   "id": "558faa8f",
   "metadata": {},
   "outputs": [],
   "source": [
    "shoeexp=driver.find_elements_by_xpath(\"//div[@class='salaries sbold-list-header']\")"
   ]
  },
  {
   "cell_type": "code",
   "execution_count": 376,
   "id": "b7659c62",
   "metadata": {},
   "outputs": [
    {
     "data": {
      "text/plain": [
       "['4 yrs exp',\n",
       " '1-4 yrs exp',\n",
       " '2 yrs exp',\n",
       " '1-4 yrs exp',\n",
       " '1-4 yrs exp',\n",
       " '1 yr exp',\n",
       " '2-3 yrs exp',\n",
       " '3 yrs exp',\n",
       " '1-4 yrs exp',\n",
       " '1 yr exp']"
      ]
     },
     "execution_count": 376,
     "metadata": {},
     "output_type": "execute_result"
    }
   ],
   "source": [
    "exp=[]\n",
    "for xp in shoeexp:\n",
    "    xp1=xp.text.split('\\n')\n",
    "    exp.append(xp1[2])\n",
    "exp"
   ]
  },
  {
   "cell_type": "code",
   "execution_count": 377,
   "id": "1d12318b",
   "metadata": {},
   "outputs": [
    {
     "data": {
      "text/html": [
       "<div>\n",
       "<style scoped>\n",
       "    .dataframe tbody tr th:only-of-type {\n",
       "        vertical-align: middle;\n",
       "    }\n",
       "\n",
       "    .dataframe tbody tr th {\n",
       "        vertical-align: top;\n",
       "    }\n",
       "\n",
       "    .dataframe thead th {\n",
       "        text-align: right;\n",
       "    }\n",
       "</style>\n",
       "<table border=\"1\" class=\"dataframe\">\n",
       "  <thead>\n",
       "    <tr style=\"text-align: right;\">\n",
       "      <th></th>\n",
       "      <th>Company Name</th>\n",
       "      <th>Experience</th>\n",
       "      <th>Salary Record</th>\n",
       "      <th>Min Sal</th>\n",
       "      <th>Avg Sal</th>\n",
       "      <th>Max Sal</th>\n",
       "    </tr>\n",
       "  </thead>\n",
       "  <tbody>\n",
       "    <tr>\n",
       "      <th>0</th>\n",
       "      <td>Tekion</td>\n",
       "      <td>4 yrs exp</td>\n",
       "      <td>based on 10 salaries</td>\n",
       "      <td>₹ 14.0L</td>\n",
       "      <td>₹ 23.3L</td>\n",
       "      <td>₹ 32.0L</td>\n",
       "    </tr>\n",
       "    <tr>\n",
       "      <th>1</th>\n",
       "      <td>Microsoft Corporation</td>\n",
       "      <td>1-4 yrs exp</td>\n",
       "      <td>based on 218 salaries</td>\n",
       "      <td>₹ 12.0L</td>\n",
       "      <td>₹ 22.4L</td>\n",
       "      <td>₹ 45.0L</td>\n",
       "    </tr>\n",
       "    <tr>\n",
       "      <th>2</th>\n",
       "      <td>Goldman Sachs</td>\n",
       "      <td>2 yrs exp</td>\n",
       "      <td>based on 11 salaries</td>\n",
       "      <td>₹ 16.0L</td>\n",
       "      <td>₹ 21.9L</td>\n",
       "      <td>₹ 30.0L</td>\n",
       "    </tr>\n",
       "    <tr>\n",
       "      <th>3</th>\n",
       "      <td>Flipkart</td>\n",
       "      <td>1-4 yrs exp</td>\n",
       "      <td>based on 53 salaries</td>\n",
       "      <td>₹ 7.0L</td>\n",
       "      <td>₹ 20.6L</td>\n",
       "      <td>₹ 30.0L</td>\n",
       "    </tr>\n",
       "    <tr>\n",
       "      <th>4</th>\n",
       "      <td>Amazon</td>\n",
       "      <td>1-4 yrs exp</td>\n",
       "      <td>based on 80 salaries</td>\n",
       "      <td>₹ 8.0L</td>\n",
       "      <td>₹ 19.1L</td>\n",
       "      <td>₹ 40.0L</td>\n",
       "    </tr>\n",
       "    <tr>\n",
       "      <th>5</th>\n",
       "      <td>Arcesium</td>\n",
       "      <td>1 yr exp</td>\n",
       "      <td>based on 35 salaries</td>\n",
       "      <td>₹ 12.0L</td>\n",
       "      <td>₹ 18.4L</td>\n",
       "      <td>₹ 30.0L</td>\n",
       "    </tr>\n",
       "    <tr>\n",
       "      <th>6</th>\n",
       "      <td>Servicenow Software Development India</td>\n",
       "      <td>2-3 yrs exp</td>\n",
       "      <td>based on 27 salaries</td>\n",
       "      <td>₹ 12.0L</td>\n",
       "      <td>₹ 18.2L</td>\n",
       "      <td>₹ 25.0L</td>\n",
       "    </tr>\n",
       "    <tr>\n",
       "      <th>7</th>\n",
       "      <td>ServiceNow</td>\n",
       "      <td>3 yrs exp</td>\n",
       "      <td>based on 15 salaries</td>\n",
       "      <td>₹ 12.7L</td>\n",
       "      <td>₹ 18.2L</td>\n",
       "      <td>₹ 23.0L</td>\n",
       "    </tr>\n",
       "    <tr>\n",
       "      <th>8</th>\n",
       "      <td>Walmart</td>\n",
       "      <td>1-4 yrs exp</td>\n",
       "      <td>based on 77 salaries</td>\n",
       "      <td>₹ 10.0L</td>\n",
       "      <td>₹ 17.9L</td>\n",
       "      <td>₹ 32.0L</td>\n",
       "    </tr>\n",
       "    <tr>\n",
       "      <th>9</th>\n",
       "      <td>PayPal</td>\n",
       "      <td>1 yr exp</td>\n",
       "      <td>based on 12 salaries</td>\n",
       "      <td>₹ 12.0L</td>\n",
       "      <td>₹ 17.6L</td>\n",
       "      <td>₹ 23.0L</td>\n",
       "    </tr>\n",
       "  </tbody>\n",
       "</table>\n",
       "</div>"
      ],
      "text/plain": [
       "                            Company Name   Experience          Salary Record  \\\n",
       "0                                 Tekion    4 yrs exp   based on 10 salaries   \n",
       "1                  Microsoft Corporation  1-4 yrs exp  based on 218 salaries   \n",
       "2                          Goldman Sachs    2 yrs exp   based on 11 salaries   \n",
       "3                               Flipkart  1-4 yrs exp   based on 53 salaries   \n",
       "4                                 Amazon  1-4 yrs exp   based on 80 salaries   \n",
       "5                               Arcesium     1 yr exp   based on 35 salaries   \n",
       "6  Servicenow Software Development India  2-3 yrs exp   based on 27 salaries   \n",
       "7                             ServiceNow    3 yrs exp   based on 15 salaries   \n",
       "8                                Walmart  1-4 yrs exp   based on 77 salaries   \n",
       "9                                 PayPal     1 yr exp   based on 12 salaries   \n",
       "\n",
       "   Min Sal  Avg Sal  Max Sal  \n",
       "0  ₹ 14.0L  ₹ 23.3L  ₹ 32.0L  \n",
       "1  ₹ 12.0L  ₹ 22.4L  ₹ 45.0L  \n",
       "2  ₹ 16.0L  ₹ 21.9L  ₹ 30.0L  \n",
       "3   ₹ 7.0L  ₹ 20.6L  ₹ 30.0L  \n",
       "4   ₹ 8.0L  ₹ 19.1L  ₹ 40.0L  \n",
       "5  ₹ 12.0L  ₹ 18.4L  ₹ 30.0L  \n",
       "6  ₹ 12.0L  ₹ 18.2L  ₹ 25.0L  \n",
       "7  ₹ 12.7L  ₹ 18.2L  ₹ 23.0L  \n",
       "8  ₹ 10.0L  ₹ 17.9L  ₹ 32.0L  \n",
       "9  ₹ 12.0L  ₹ 17.6L  ₹ 23.0L  "
      ]
     },
     "execution_count": 377,
     "metadata": {},
     "output_type": "execute_result"
    }
   ],
   "source": [
    "df1=pd.DataFrame({'Company Name':comnam,'Experience':exp,'Salary Record':rec,'Min Sal':min1,'Avg Sal':avg,'Max Sal':max1})\n",
    "df1"
   ]
  },
  {
   "cell_type": "code",
   "execution_count": null,
   "id": "c5cc009c",
   "metadata": {},
   "outputs": [],
   "source": []
  },
  {
   "cell_type": "code",
   "execution_count": null,
   "id": "58dde19c",
   "metadata": {},
   "outputs": [],
   "source": []
  },
  {
   "cell_type": "code",
   "execution_count": null,
   "id": "4769d10d",
   "metadata": {},
   "outputs": [],
   "source": []
  },
  {
   "cell_type": "code",
   "execution_count": null,
   "id": "384893ce",
   "metadata": {},
   "outputs": [],
   "source": []
  },
  {
   "cell_type": "code",
   "execution_count": null,
   "id": "39e5dd38",
   "metadata": {},
   "outputs": [],
   "source": []
  },
  {
   "cell_type": "code",
   "execution_count": null,
   "id": "c3397a7a",
   "metadata": {},
   "outputs": [],
   "source": []
  },
  {
   "cell_type": "code",
   "execution_count": null,
   "id": "e78255b8",
   "metadata": {},
   "outputs": [],
   "source": []
  },
  {
   "cell_type": "code",
   "execution_count": null,
   "id": "19913ba9",
   "metadata": {},
   "outputs": [],
   "source": []
  },
  {
   "cell_type": "code",
   "execution_count": null,
   "id": "94140283",
   "metadata": {},
   "outputs": [],
   "source": []
  },
  {
   "cell_type": "code",
   "execution_count": null,
   "id": "301024d9",
   "metadata": {},
   "outputs": [],
   "source": []
  },
  {
   "cell_type": "code",
   "execution_count": null,
   "id": "390db9a4",
   "metadata": {},
   "outputs": [],
   "source": []
  },
  {
   "cell_type": "code",
   "execution_count": null,
   "id": "fcab5e6b",
   "metadata": {},
   "outputs": [],
   "source": []
  },
  {
   "cell_type": "code",
   "execution_count": null,
   "id": "8c6d6951",
   "metadata": {},
   "outputs": [],
   "source": []
  },
  {
   "cell_type": "code",
   "execution_count": null,
   "id": "6c8d1a99",
   "metadata": {},
   "outputs": [],
   "source": []
  },
  {
   "cell_type": "code",
   "execution_count": null,
   "id": "1bb0c69d",
   "metadata": {},
   "outputs": [],
   "source": []
  },
  {
   "cell_type": "code",
   "execution_count": null,
   "id": "22aaf2a5",
   "metadata": {},
   "outputs": [],
   "source": []
  },
  {
   "cell_type": "code",
   "execution_count": null,
   "id": "82892360",
   "metadata": {},
   "outputs": [],
   "source": []
  }
 ],
 "metadata": {
  "kernelspec": {
   "display_name": "Python 3",
   "language": "python",
   "name": "python3"
  },
  "language_info": {
   "codemirror_mode": {
    "name": "ipython",
    "version": 3
   },
   "file_extension": ".py",
   "mimetype": "text/x-python",
   "name": "python",
   "nbconvert_exporter": "python",
   "pygments_lexer": "ipython3",
   "version": "3.8.8"
  }
 },
 "nbformat": 4,
 "nbformat_minor": 5
}
