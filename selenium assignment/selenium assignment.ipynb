{
 "cells": [
  {
   "cell_type": "markdown",
   "id": "42485df2",
   "metadata": {},
   "source": [
    "# Q1: Write a python program to scrape data for “Data Analyst” Job position in “Bangalore” location. You \n",
    "have to scrape the job-title, job-location, company_name, experience_required. You have to scrape first 10 \n",
    "jobs data. "
   ]
  },
  {
   "cell_type": "code",
   "execution_count": 1,
   "id": "01ab723c",
   "metadata": {},
   "outputs": [
    {
     "name": "stdout",
     "output_type": "stream",
     "text": [
      "Requirement already satisfied: selenium in c:\\users\\jay gawande\\anaconda3\\lib\\site-packages (4.1.0)\n",
      "Requirement already satisfied: trio~=0.17 in c:\\users\\jay gawande\\anaconda3\\lib\\site-packages (from selenium) (0.19.0)\n",
      "Requirement already satisfied: urllib3[secure]~=1.26 in c:\\users\\jay gawande\\anaconda3\\lib\\site-packages (from selenium) (1.26.4)\n",
      "Requirement already satisfied: trio-websocket~=0.9 in c:\\users\\jay gawande\\anaconda3\\lib\\site-packages (from selenium) (0.9.2)\n",
      "Requirement already satisfied: sortedcontainers in c:\\users\\jay gawande\\anaconda3\\lib\\site-packages (from trio~=0.17->selenium) (2.3.0)\n",
      "Requirement already satisfied: sniffio in c:\\users\\jay gawande\\anaconda3\\lib\\site-packages (from trio~=0.17->selenium) (1.2.0)\n",
      "Requirement already satisfied: outcome in c:\\users\\jay gawande\\anaconda3\\lib\\site-packages (from trio~=0.17->selenium) (1.1.0)\n",
      "Requirement already satisfied: async-generator>=1.9 in c:\\users\\jay gawande\\anaconda3\\lib\\site-packages (from trio~=0.17->selenium) (1.10)\n",
      "Requirement already satisfied: attrs>=19.2.0 in c:\\users\\jay gawande\\anaconda3\\lib\\site-packages (from trio~=0.17->selenium) (20.3.0)\n",
      "Requirement already satisfied: cffi>=1.14 in c:\\users\\jay gawande\\anaconda3\\lib\\site-packages (from trio~=0.17->selenium) (1.14.5)\n",
      "Requirement already satisfied: idna in c:\\users\\jay gawande\\anaconda3\\lib\\site-packages (from trio~=0.17->selenium) (2.10)\n",
      "Requirement already satisfied: pycparser in c:\\users\\jay gawande\\anaconda3\\lib\\site-packages (from cffi>=1.14->trio~=0.17->selenium) (2.20)\n",
      "Requirement already satisfied: wsproto>=0.14 in c:\\users\\jay gawande\\anaconda3\\lib\\site-packages (from trio-websocket~=0.9->selenium) (1.0.0)\n",
      "Requirement already satisfied: cryptography>=1.3.4 in c:\\users\\jay gawande\\anaconda3\\lib\\site-packages (from urllib3[secure]~=1.26->selenium) (3.4.7)\n",
      "Requirement already satisfied: pyOpenSSL>=0.14 in c:\\users\\jay gawande\\anaconda3\\lib\\site-packages (from urllib3[secure]~=1.26->selenium) (20.0.1)\n",
      "Requirement already satisfied: certifi in c:\\users\\jay gawande\\anaconda3\\lib\\site-packages (from urllib3[secure]~=1.26->selenium) (2020.12.5)\n",
      "Requirement already satisfied: six>=1.5.2 in c:\\users\\jay gawande\\anaconda3\\lib\\site-packages (from pyOpenSSL>=0.14->urllib3[secure]~=1.26->selenium) (1.15.0)\n",
      "Requirement already satisfied: h11<1,>=0.9.0 in c:\\users\\jay gawande\\anaconda3\\lib\\site-packages (from wsproto>=0.14->trio-websocket~=0.9->selenium) (0.12.0)\n"
     ]
    }
   ],
   "source": [
    "!pip install selenium"
   ]
  },
  {
   "cell_type": "code",
   "execution_count": 2,
   "id": "68deadc9",
   "metadata": {},
   "outputs": [],
   "source": [
    "import warnings\n",
    "warnings.filterwarnings('ignore')\n",
    "\n",
    "\n",
    "import selenium\n",
    "import pandas as pd\n",
    "from selenium import webdriver\n",
    "\n",
    "driver = webdriver.Chrome(r\"C:/Users/Jay gawande/Downloads/chromedriver_win32/chromedriver.exe\")\n",
    "\n",
    "\n",
    "driver.get('https://www.naukri.com/')\n",
    "\n",
    "\n",
    "p = driver.find_element_by_id('qsb-keyword-sugg')\n",
    "p.send_keys(\"Data Analyst\")\n",
    "l = driver.find_element_by_xpath(\"//input[@id='qsb-location-sugg']\")\n",
    "l.send_keys(\"Bangalore\")\n",
    "\n",
    "s = driver.find_element_by_xpath(\"//div[@class='search-btn']/button\")\n",
    "\n",
    "s.click()\n",
    "\n",
    "\n",
    "\n"
   ]
  },
  {
   "cell_type": "code",
   "execution_count": 6,
   "id": "3de39a20",
   "metadata": {},
   "outputs": [
    {
     "data": {
      "text/plain": [
       "['Hiring -Data Analyst, Business Analyst, MIS Analyst -3rd Party Payroll',\n",
       " 'Senior Data Analyst III',\n",
       " 'Business Analyst/ Data Analyst- Capital Market & SQL (Mandatory)',\n",
       " 'Customer Data Management Analyst',\n",
       " 'Data Analyst',\n",
       " 'Assistant/deputy Manager - Geo-spatial Data Analyst',\n",
       " 'Senior Data Analyst',\n",
       " 'Senior Data Analyst',\n",
       " 'Senior Data Analyst',\n",
       " 'Openings For SQL Data Analyst']"
      ]
     },
     "execution_count": 6,
     "metadata": {},
     "output_type": "execute_result"
    }
   ],
   "source": [
    "jt = []\n",
    "jl = []\n",
    "cn = []\n",
    "er = []\n",
    "\n",
    "titles_tags = driver.find_elements_by_xpath(\"//a[@class='title fw500 ellipsis']\")\n",
    "\n",
    "for i in titles_tags:\n",
    "    title = i.text\n",
    "    jt.append(title)\n",
    "jt\n",
    "jt[0:10]\n",
    "t=jt[0:10]\n",
    "t\n"
   ]
  },
  {
   "cell_type": "code",
   "execution_count": 7,
   "id": "6ef8024c",
   "metadata": {},
   "outputs": [
    {
     "data": {
      "text/plain": [
       "['Bangalore/Bengaluru',\n",
       " 'Bengaluru/Bangalore',\n",
       " 'Pune, Bangalore/Bengaluru',\n",
       " 'Bangalore/Bengaluru',\n",
       " 'Bangalore/Bengaluru',\n",
       " 'Gurgaon/Gurugram, bangalore',\n",
       " 'Bangalore/Bengaluru',\n",
       " 'Bengaluru/Bangalore',\n",
       " 'Bangalore/Bengaluru',\n",
       " 'Bangalore/Bengaluru']"
      ]
     },
     "execution_count": 7,
     "metadata": {},
     "output_type": "execute_result"
    }
   ],
   "source": [
    "location_tags = driver.find_elements_by_xpath(\"//span[@class='ellipsis fleft fs12 lh16 ']\")\n",
    "location_tags\n",
    "for c in location_tags:\n",
    "    location= c.text\n",
    "    jl.append(location)\n",
    "l =jl[2::3]\n",
    "l\n",
    "lc=l[0:7]\n",
    "lc\n",
    "lcn =jl[24::4]\n",
    "lcns = lcn[0:2]\n",
    "lcnsx= lcn[4]\n",
    "lcnsx\n",
    "location = lc+lcns\n",
    "location.append(lcnsx)\n",
    "location#imp"
   ]
  },
  {
   "cell_type": "code",
   "execution_count": 8,
   "id": "c7be7d5d",
   "metadata": {},
   "outputs": [
    {
     "data": {
      "text/plain": [
       "['1-6 Yrs',\n",
       " '2-4 Yrs',\n",
       " '7-12 Yrs',\n",
       " '0-2 Yrs',\n",
       " '3-8 Yrs',\n",
       " '3-5 Yrs',\n",
       " '1-6 Yrs',\n",
       " '4-5 Yrs',\n",
       " '0-2 Yrs',\n",
       " '3-7 Yrs']"
      ]
     },
     "execution_count": 8,
     "metadata": {},
     "output_type": "execute_result"
    }
   ],
   "source": [
    "#experience\n",
    "\n",
    "ex=jl[0::3]\n",
    "\n",
    "e=ex[0:7]\n",
    "e\n",
    "\n",
    "\n",
    "ez=jl[22::4]\n",
    "ezx=ez[0:2]\n",
    "ezxp=ez[4]\n",
    "\n",
    "exp=e+ezx\n",
    "exp.append(ezxp)\n",
    "\n",
    "exp#imp"
   ]
  },
  {
   "cell_type": "code",
   "execution_count": 9,
   "id": "49d27738",
   "metadata": {},
   "outputs": [
    {
     "data": {
      "text/plain": [
       "['Flipkart',\n",
       " 'Flipkart',\n",
       " 'Genpact',\n",
       " 'Aspect',\n",
       " 'GlaxoSmithKline Pharmaceuticals Limited',\n",
       " 'Maruti Suzuki India',\n",
       " 'Rapido',\n",
       " 'SYREN TECHNOLOGIES PRIVATE LIMITED',\n",
       " 'Flipkart',\n",
       " 'StackNexus Technologies India Pvt. Ltd']"
      ]
     },
     "execution_count": 9,
     "metadata": {},
     "output_type": "execute_result"
    }
   ],
   "source": [
    "companies_tags = driver.find_elements_by_xpath(\"//a[@class='subTitle ellipsis fleft']\")\n",
    "\n",
    "companies_tags\n",
    "for c in companies_tags:\n",
    "    companies= c.text\n",
    "    cn.append(companies)\n",
    "cn\n",
    "cnme=cn[0:10]\n",
    "cnme"
   ]
  },
  {
   "cell_type": "code",
   "execution_count": 10,
   "id": "e03f687d",
   "metadata": {},
   "outputs": [
    {
     "data": {
      "text/html": [
       "<div>\n",
       "<style scoped>\n",
       "    .dataframe tbody tr th:only-of-type {\n",
       "        vertical-align: middle;\n",
       "    }\n",
       "\n",
       "    .dataframe tbody tr th {\n",
       "        vertical-align: top;\n",
       "    }\n",
       "\n",
       "    .dataframe thead th {\n",
       "        text-align: right;\n",
       "    }\n",
       "</style>\n",
       "<table border=\"1\" class=\"dataframe\">\n",
       "  <thead>\n",
       "    <tr style=\"text-align: right;\">\n",
       "      <th></th>\n",
       "      <th>title</th>\n",
       "      <th>company</th>\n",
       "      <th>experience_required</th>\n",
       "      <th>location</th>\n",
       "    </tr>\n",
       "  </thead>\n",
       "  <tbody>\n",
       "    <tr>\n",
       "      <th>0</th>\n",
       "      <td>Hiring -Data Analyst, Business Analyst, MIS An...</td>\n",
       "      <td>Flipkart</td>\n",
       "      <td>1-6 Yrs</td>\n",
       "      <td>Bangalore/Bengaluru</td>\n",
       "    </tr>\n",
       "    <tr>\n",
       "      <th>1</th>\n",
       "      <td>Senior Data Analyst III</td>\n",
       "      <td>Flipkart</td>\n",
       "      <td>2-4 Yrs</td>\n",
       "      <td>Bengaluru/Bangalore</td>\n",
       "    </tr>\n",
       "    <tr>\n",
       "      <th>2</th>\n",
       "      <td>Business Analyst/ Data Analyst- Capital Market...</td>\n",
       "      <td>Genpact</td>\n",
       "      <td>7-12 Yrs</td>\n",
       "      <td>Pune, Bangalore/Bengaluru</td>\n",
       "    </tr>\n",
       "    <tr>\n",
       "      <th>3</th>\n",
       "      <td>Customer Data Management Analyst</td>\n",
       "      <td>Aspect</td>\n",
       "      <td>0-2 Yrs</td>\n",
       "      <td>Bangalore/Bengaluru</td>\n",
       "    </tr>\n",
       "    <tr>\n",
       "      <th>4</th>\n",
       "      <td>Data Analyst</td>\n",
       "      <td>GlaxoSmithKline Pharmaceuticals Limited</td>\n",
       "      <td>3-8 Yrs</td>\n",
       "      <td>Bangalore/Bengaluru</td>\n",
       "    </tr>\n",
       "    <tr>\n",
       "      <th>5</th>\n",
       "      <td>Assistant/deputy Manager - Geo-spatial Data An...</td>\n",
       "      <td>Maruti Suzuki India</td>\n",
       "      <td>3-5 Yrs</td>\n",
       "      <td>Gurgaon/Gurugram, bangalore</td>\n",
       "    </tr>\n",
       "    <tr>\n",
       "      <th>6</th>\n",
       "      <td>Senior Data Analyst</td>\n",
       "      <td>Rapido</td>\n",
       "      <td>1-6 Yrs</td>\n",
       "      <td>Bangalore/Bengaluru</td>\n",
       "    </tr>\n",
       "    <tr>\n",
       "      <th>7</th>\n",
       "      <td>Senior Data Analyst</td>\n",
       "      <td>SYREN TECHNOLOGIES PRIVATE LIMITED</td>\n",
       "      <td>4-5 Yrs</td>\n",
       "      <td>Bengaluru/Bangalore</td>\n",
       "    </tr>\n",
       "    <tr>\n",
       "      <th>8</th>\n",
       "      <td>Senior Data Analyst</td>\n",
       "      <td>Flipkart</td>\n",
       "      <td>0-2 Yrs</td>\n",
       "      <td>Bangalore/Bengaluru</td>\n",
       "    </tr>\n",
       "    <tr>\n",
       "      <th>9</th>\n",
       "      <td>Openings For SQL Data Analyst</td>\n",
       "      <td>StackNexus Technologies India Pvt. Ltd</td>\n",
       "      <td>3-7 Yrs</td>\n",
       "      <td>Bangalore/Bengaluru</td>\n",
       "    </tr>\n",
       "  </tbody>\n",
       "</table>\n",
       "</div>"
      ],
      "text/plain": [
       "                                               title  \\\n",
       "0  Hiring -Data Analyst, Business Analyst, MIS An...   \n",
       "1                            Senior Data Analyst III   \n",
       "2  Business Analyst/ Data Analyst- Capital Market...   \n",
       "3                   Customer Data Management Analyst   \n",
       "4                                       Data Analyst   \n",
       "5  Assistant/deputy Manager - Geo-spatial Data An...   \n",
       "6                                Senior Data Analyst   \n",
       "7                                Senior Data Analyst   \n",
       "8                                Senior Data Analyst   \n",
       "9                      Openings For SQL Data Analyst   \n",
       "\n",
       "                                   company experience_required  \\\n",
       "0                                 Flipkart             1-6 Yrs   \n",
       "1                                 Flipkart             2-4 Yrs   \n",
       "2                                  Genpact            7-12 Yrs   \n",
       "3                                   Aspect             0-2 Yrs   \n",
       "4  GlaxoSmithKline Pharmaceuticals Limited             3-8 Yrs   \n",
       "5                      Maruti Suzuki India             3-5 Yrs   \n",
       "6                                   Rapido             1-6 Yrs   \n",
       "7       SYREN TECHNOLOGIES PRIVATE LIMITED             4-5 Yrs   \n",
       "8                                 Flipkart             0-2 Yrs   \n",
       "9   StackNexus Technologies India Pvt. Ltd             3-7 Yrs   \n",
       "\n",
       "                      location  \n",
       "0          Bangalore/Bengaluru  \n",
       "1          Bengaluru/Bangalore  \n",
       "2    Pune, Bangalore/Bengaluru  \n",
       "3          Bangalore/Bengaluru  \n",
       "4          Bangalore/Bengaluru  \n",
       "5  Gurgaon/Gurugram, bangalore  \n",
       "6          Bangalore/Bengaluru  \n",
       "7          Bengaluru/Bangalore  \n",
       "8          Bangalore/Bengaluru  \n",
       "9          Bangalore/Bengaluru  "
      ]
     },
     "execution_count": 10,
     "metadata": {},
     "output_type": "execute_result"
    }
   ],
   "source": [
    "jobs=pd.DataFrame({})\n",
    "jobs['title']=t\n",
    "jobs['company']=cnme\n",
    "jobs['experience_required']=exp\n",
    "jobs['location']=location\n",
    "\n",
    "jobs"
   ]
  },
  {
   "cell_type": "code",
   "execution_count": null,
   "id": "b27af2b9",
   "metadata": {},
   "outputs": [],
   "source": []
  },
  {
   "cell_type": "markdown",
   "id": "329a965a",
   "metadata": {},
   "source": [
    "# Q2: Write a python program to scrape data for “Data Scientist” Job position in “Bangalore” location. You \n",
    "have to scrape the job-title, job-location, company_name. You have to scrape first 10 jobs data. "
   ]
  },
  {
   "cell_type": "code",
   "execution_count": 18,
   "id": "16552446",
   "metadata": {},
   "outputs": [],
   "source": [
    "\n",
    "\n",
    "import warnings\n",
    "warnings.filterwarnings('ignore')\n",
    "\n",
    "\n",
    "import selenium\n",
    "import pandas as pd\n",
    "from selenium import webdriver\n",
    "\n",
    "driver = webdriver.Chrome(r\"C:/Users/Jay gawande/Downloads/chromedriver_win32/chromedriver.exe\")\n",
    "\n",
    "\n",
    "\n",
    "\n",
    "\n",
    "driver.get('https://www.naukri.com/')\n",
    "\n",
    "\n",
    "p = driver.find_element_by_id('qsb-keyword-sugg')\n",
    "p.send_keys(\"Data Scientist\")\n",
    "l = driver.find_element_by_xpath(\"//input[@id='qsb-location-sugg']\")\n",
    "l.send_keys(\"Bangalore\")\n",
    "\n",
    "s = driver.find_element_by_xpath(\"//div[@class='search-btn']/button\")\n",
    "\n",
    "s.click()"
   ]
  },
  {
   "cell_type": "code",
   "execution_count": 19,
   "id": "b5e2e244",
   "metadata": {},
   "outputs": [
    {
     "data": {
      "text/plain": [
       "['Lead / Principal Data Scientist',\n",
       " 'Data Scientist',\n",
       " 'Senior Data Scientist',\n",
       " 'Senior Data Scientist',\n",
       " 'Data Scientist - Credit Risk',\n",
       " 'Lead/Senior Data Scientist (NLP)',\n",
       " 'Data Scientist 2',\n",
       " 'Machine Learning AI Data Scientist',\n",
       " 'Sr. Associate Consultant Data Scientist',\n",
       " 'Senior Engineer - AIML - Data Scientist']"
      ]
     },
     "execution_count": 19,
     "metadata": {},
     "output_type": "execute_result"
    }
   ],
   "source": [
    "jt = []\n",
    "jl = []\n",
    "cn = []\n",
    "\n",
    "titles_tags = driver.find_elements_by_xpath(\"//a[@class='title fw500 ellipsis']\")\n",
    "\n",
    "for i in titles_tags:\n",
    "    title = i.text\n",
    "    jt.append(title)\n",
    "jt[0:10]\n",
    "t=jt[0:10]\n",
    "t#imp"
   ]
  },
  {
   "cell_type": "code",
   "execution_count": 21,
   "id": "513be29d",
   "metadata": {},
   "outputs": [
    {
     "data": {
      "text/plain": [
       "['Bangalore/Bengaluru',\n",
       " 'Bangalore/Bengaluru',\n",
       " 'Bangalore/Bengaluru',\n",
       " 'Bangalore/Bengaluru',\n",
       " 'Kolkata, Mumbai, Bangalore/Bengaluru',\n",
       " 'Bengaluru/Bangalore',\n",
       " 'Bangalore/Bengaluru',\n",
       " 'Bangalore/Bengaluru',\n",
       " 'Bangalore/Bengaluru',\n",
       " 'Hyderabad/Secunderabad, Bangalore/Bengaluru, Mumbai (All Areas)']"
      ]
     },
     "execution_count": 21,
     "metadata": {},
     "output_type": "execute_result"
    }
   ],
   "source": [
    "location_tags = driver.find_elements_by_xpath(\"//span[@class='ellipsis fleft fs12 lh16 ']\")\n",
    "for c in location_tags:\n",
    "    location= c.text\n",
    "    jl.append(location)\n",
    "jl\n",
    "l =jl[2::3]\n",
    "loc=l[24:34]\n",
    "loc#imp"
   ]
  },
  {
   "cell_type": "code",
   "execution_count": 22,
   "id": "35ced4cf",
   "metadata": {},
   "outputs": [
    {
     "data": {
      "text/plain": [
       "['Aviso Inc',\n",
       " 'Snaphunt',\n",
       " 'Ally-Executive',\n",
       " 'Visa',\n",
       " 'Scienaptic Systems',\n",
       " 'Samya.AI A FRACTAL Entity',\n",
       " 'ANI Technologies Pvt. Ltd.',\n",
       " 'EKO Infomatics Solutions Private Limited',\n",
       " 'Eli Lilly and Company',\n",
       " 'Unisys']"
      ]
     },
     "execution_count": 22,
     "metadata": {},
     "output_type": "execute_result"
    }
   ],
   "source": [
    "companies_tags = driver.find_elements_by_xpath(\"//a[@class='subTitle ellipsis fleft']\")\n",
    "\n",
    "companies_tags\n",
    "for c in companies_tags:\n",
    "    companies= c.text\n",
    "    cn.append(companies)\n",
    "cn\n",
    "cnme=cn[0:10]\n",
    "cnme"
   ]
  },
  {
   "cell_type": "code",
   "execution_count": 23,
   "id": "debef2f3",
   "metadata": {},
   "outputs": [
    {
     "data": {
      "text/html": [
       "<div>\n",
       "<style scoped>\n",
       "    .dataframe tbody tr th:only-of-type {\n",
       "        vertical-align: middle;\n",
       "    }\n",
       "\n",
       "    .dataframe tbody tr th {\n",
       "        vertical-align: top;\n",
       "    }\n",
       "\n",
       "    .dataframe thead th {\n",
       "        text-align: right;\n",
       "    }\n",
       "</style>\n",
       "<table border=\"1\" class=\"dataframe\">\n",
       "  <thead>\n",
       "    <tr style=\"text-align: right;\">\n",
       "      <th></th>\n",
       "      <th>title</th>\n",
       "      <th>company</th>\n",
       "      <th>location</th>\n",
       "    </tr>\n",
       "  </thead>\n",
       "  <tbody>\n",
       "    <tr>\n",
       "      <th>0</th>\n",
       "      <td>Lead / Principal Data Scientist</td>\n",
       "      <td>Aviso Inc</td>\n",
       "      <td>Bangalore/Bengaluru</td>\n",
       "    </tr>\n",
       "    <tr>\n",
       "      <th>1</th>\n",
       "      <td>Data Scientist</td>\n",
       "      <td>Snaphunt</td>\n",
       "      <td>Bangalore/Bengaluru</td>\n",
       "    </tr>\n",
       "    <tr>\n",
       "      <th>2</th>\n",
       "      <td>Senior Data Scientist</td>\n",
       "      <td>Ally-Executive</td>\n",
       "      <td>Bangalore/Bengaluru</td>\n",
       "    </tr>\n",
       "    <tr>\n",
       "      <th>3</th>\n",
       "      <td>Senior Data Scientist</td>\n",
       "      <td>Visa</td>\n",
       "      <td>Bangalore/Bengaluru</td>\n",
       "    </tr>\n",
       "    <tr>\n",
       "      <th>4</th>\n",
       "      <td>Data Scientist - Credit Risk</td>\n",
       "      <td>Scienaptic Systems</td>\n",
       "      <td>Kolkata, Mumbai, Bangalore/Bengaluru</td>\n",
       "    </tr>\n",
       "    <tr>\n",
       "      <th>5</th>\n",
       "      <td>Lead/Senior Data Scientist (NLP)</td>\n",
       "      <td>Samya.AI A FRACTAL Entity</td>\n",
       "      <td>Bengaluru/Bangalore</td>\n",
       "    </tr>\n",
       "    <tr>\n",
       "      <th>6</th>\n",
       "      <td>Data Scientist 2</td>\n",
       "      <td>ANI Technologies Pvt. Ltd.</td>\n",
       "      <td>Bangalore/Bengaluru</td>\n",
       "    </tr>\n",
       "    <tr>\n",
       "      <th>7</th>\n",
       "      <td>Machine Learning AI Data Scientist</td>\n",
       "      <td>EKO Infomatics Solutions Private Limited</td>\n",
       "      <td>Bangalore/Bengaluru</td>\n",
       "    </tr>\n",
       "    <tr>\n",
       "      <th>8</th>\n",
       "      <td>Sr. Associate Consultant Data Scientist</td>\n",
       "      <td>Eli Lilly and Company</td>\n",
       "      <td>Bangalore/Bengaluru</td>\n",
       "    </tr>\n",
       "    <tr>\n",
       "      <th>9</th>\n",
       "      <td>Senior Engineer - AIML - Data Scientist</td>\n",
       "      <td>Unisys</td>\n",
       "      <td>Hyderabad/Secunderabad, Bangalore/Bengaluru, M...</td>\n",
       "    </tr>\n",
       "  </tbody>\n",
       "</table>\n",
       "</div>"
      ],
      "text/plain": [
       "                                     title  \\\n",
       "0          Lead / Principal Data Scientist   \n",
       "1                           Data Scientist   \n",
       "2                    Senior Data Scientist   \n",
       "3                    Senior Data Scientist   \n",
       "4             Data Scientist - Credit Risk   \n",
       "5         Lead/Senior Data Scientist (NLP)   \n",
       "6                         Data Scientist 2   \n",
       "7       Machine Learning AI Data Scientist   \n",
       "8  Sr. Associate Consultant Data Scientist   \n",
       "9  Senior Engineer - AIML - Data Scientist   \n",
       "\n",
       "                                    company  \\\n",
       "0                                 Aviso Inc   \n",
       "1                                  Snaphunt   \n",
       "2                            Ally-Executive   \n",
       "3                                      Visa   \n",
       "4                        Scienaptic Systems   \n",
       "5                 Samya.AI A FRACTAL Entity   \n",
       "6                ANI Technologies Pvt. Ltd.   \n",
       "7  EKO Infomatics Solutions Private Limited   \n",
       "8                     Eli Lilly and Company   \n",
       "9                                    Unisys   \n",
       "\n",
       "                                            location  \n",
       "0                                Bangalore/Bengaluru  \n",
       "1                                Bangalore/Bengaluru  \n",
       "2                                Bangalore/Bengaluru  \n",
       "3                                Bangalore/Bengaluru  \n",
       "4               Kolkata, Mumbai, Bangalore/Bengaluru  \n",
       "5                                Bengaluru/Bangalore  \n",
       "6                                Bangalore/Bengaluru  \n",
       "7                                Bangalore/Bengaluru  \n",
       "8                                Bangalore/Bengaluru  \n",
       "9  Hyderabad/Secunderabad, Bangalore/Bengaluru, M...  "
      ]
     },
     "execution_count": 23,
     "metadata": {},
     "output_type": "execute_result"
    }
   ],
   "source": [
    "jobs=pd.DataFrame({})\n",
    "jobs['title']=t\n",
    "jobs['company']=cnme\n",
    "jobs['location']=loc\n",
    "\n",
    "jobs"
   ]
  },
  {
   "cell_type": "code",
   "execution_count": null,
   "id": "906d7e28",
   "metadata": {},
   "outputs": [],
   "source": []
  },
  {
   "cell_type": "markdown",
   "id": "cefd8911",
   "metadata": {},
   "source": [
    "# Q3: In this question you have to scrape data using the filters available on the webpage"
   ]
  },
  {
   "cell_type": "code",
   "execution_count": 24,
   "id": "8050747e",
   "metadata": {},
   "outputs": [],
   "source": [
    "\n",
    "import warnings\n",
    "warnings.filterwarnings('ignore')\n",
    "\n",
    "\n",
    "import selenium\n",
    "import pandas as pd\n",
    "from selenium import webdriver\n",
    "\n",
    "driver = webdriver.Chrome(r\"C:/Users/Jay gawande/Downloads/chromedriver_win32/chromedriver.exe\")\n",
    "\n",
    "\n",
    "\n",
    "driver.get('https://www.naukri.com/')\n",
    "\n",
    "\n",
    "p = driver.find_element_by_id('qsb-keyword-sugg')\n",
    "p.send_keys(\"Data Scientist\")\n",
    "l = driver.find_element_by_xpath(\"//input[@id='qsb-location-sugg']\")\n",
    "l.send_keys(\"Delhi/NCR\")\n",
    "\n",
    "s = driver.find_element_by_xpath(\"//div[@class='search-btn']/button\")\n",
    "\n",
    "s.click()\n",
    "\n"
   ]
  },
  {
   "cell_type": "code",
   "execution_count": 25,
   "id": "fc7b3b89",
   "metadata": {},
   "outputs": [],
   "source": [
    "f = driver.find_element_by_xpath(\"//span[@title='3-6 Lakhs']\")\n",
    "f.click()\n"
   ]
  },
  {
   "cell_type": "code",
   "execution_count": 26,
   "id": "cf8b3012",
   "metadata": {},
   "outputs": [],
   "source": [
    "loc = driver.find_element_by_xpath(\"//span[@title='Delhi / NCR']\")\n",
    "loc.click()"
   ]
  },
  {
   "cell_type": "code",
   "execution_count": 27,
   "id": "4e02bb82",
   "metadata": {},
   "outputs": [],
   "source": [
    "jt = []\n",
    "jl = []\n",
    "cn = []\n",
    "er = []\n"
   ]
  },
  {
   "cell_type": "code",
   "execution_count": 28,
   "id": "d345a19c",
   "metadata": {},
   "outputs": [
    {
     "data": {
      "text/plain": [
       "['Data Scientist',\n",
       " 'Data Scientist',\n",
       " 'Data Scientist/ Senior Data Scientist',\n",
       " 'Hiring For Data Scientist',\n",
       " 'Project Manager | Team Leader | Senior Data Scientist',\n",
       " 'Data Scientist',\n",
       " 'Senior Data Scientist',\n",
       " 'Data Scientist',\n",
       " 'NTT DATA_ Hiring For BIG DATA ,DATA Scientist, Devops',\n",
       " 'Data Scientist']"
      ]
     },
     "execution_count": 28,
     "metadata": {},
     "output_type": "execute_result"
    }
   ],
   "source": [
    "\n",
    "titles_tags = driver.find_elements_by_xpath(\"//a[@class='title fw500 ellipsis']\")\n",
    "\n",
    "for i in titles_tags:\n",
    "    title = i.text\n",
    "    jt.append(title)\n",
    "jt[0:10]\n",
    "t=jt[0:10]\n",
    "t#imp"
   ]
  },
  {
   "cell_type": "code",
   "execution_count": 29,
   "id": "cc8934d9",
   "metadata": {},
   "outputs": [
    {
     "data": {
      "text/plain": [
       "['LG Electronics India Pvt. Ltd.',\n",
       " 'Navikenz India Pvt Ltd',\n",
       " 'Newgen Software Technologies',\n",
       " 'Tata Consultancy Services Ltd.',\n",
       " 'Tidyquant (OPC) Private Limited',\n",
       " 'Teleperformance',\n",
       " 'iNICU',\n",
       " 'The Boston Consulting Group (India) Pvt Limited',\n",
       " 'NTT Data Business Solutions Pvt Ltd',\n",
       " 'BlackBuck']"
      ]
     },
     "execution_count": 29,
     "metadata": {},
     "output_type": "execute_result"
    }
   ],
   "source": [
    "companies_tags = driver.find_elements_by_xpath(\"//a[@class='subTitle ellipsis fleft']\")\n",
    "\n",
    "companies_tags\n",
    "for c in companies_tags:\n",
    "    companies= c.text\n",
    "    cn.append(companies)\n",
    "cn\n",
    "cnme=cn[0:10]\n",
    "cnme#imp"
   ]
  },
  {
   "cell_type": "code",
   "execution_count": 30,
   "id": "7059fd8f",
   "metadata": {},
   "outputs": [
    {
     "data": {
      "text/plain": [
       "['Delhi',\n",
       " 'Delhi',\n",
       " 'Delhi',\n",
       " 'Noida',\n",
       " 'Delhi',\n",
       " 'Noida, Ghaziabad, Delhi / NCR',\n",
       " 'Gurgaon/Gurugram',\n",
       " 'Noida(Sector-126 Noida)',\n",
       " 'Gurgaon/Gurugram',\n",
       " 'Noida, New Delhi, Faridabad, Gurgaon/Gurugram, Delhi / NCR']"
      ]
     },
     "execution_count": 30,
     "metadata": {},
     "output_type": "execute_result"
    }
   ],
   "source": [
    "location_tags = driver.find_elements_by_xpath(\"//span[@class='ellipsis fleft fs12 lh16 ']\")\n",
    "for c in location_tags:\n",
    "    location= c.text\n",
    "    jl.append(location)\n",
    "jl\n",
    "\n",
    "l =jl[27::3]\n",
    "l\n",
    "ln = jl[2]\n",
    "ln\n",
    "l.append(ln)\n",
    "l#imp"
   ]
  },
  {
   "cell_type": "code",
   "execution_count": 31,
   "id": "14515f2f",
   "metadata": {},
   "outputs": [
    {
     "data": {
      "text/plain": [
       "['2-7 Yrs',\n",
       " '2-6 Yrs',\n",
       " '2-6 Yrs',\n",
       " '3-6 Yrs',\n",
       " '1-5 Yrs',\n",
       " '0-0 Yrs',\n",
       " '3-7 Yrs',\n",
       " '4-6 Yrs',\n",
       " '1-3 Yrs',\n",
       " '0-2 Yrs']"
      ]
     },
     "execution_count": 31,
     "metadata": {},
     "output_type": "execute_result"
    }
   ],
   "source": [
    "e = jl[25::3]\n",
    "ex = jl[0]\n",
    "e.append(ex)\n",
    "e#imp"
   ]
  },
  {
   "cell_type": "code",
   "execution_count": 32,
   "id": "3e6eecb4",
   "metadata": {},
   "outputs": [
    {
     "data": {
      "text/html": [
       "<div>\n",
       "<style scoped>\n",
       "    .dataframe tbody tr th:only-of-type {\n",
       "        vertical-align: middle;\n",
       "    }\n",
       "\n",
       "    .dataframe tbody tr th {\n",
       "        vertical-align: top;\n",
       "    }\n",
       "\n",
       "    .dataframe thead th {\n",
       "        text-align: right;\n",
       "    }\n",
       "</style>\n",
       "<table border=\"1\" class=\"dataframe\">\n",
       "  <thead>\n",
       "    <tr style=\"text-align: right;\">\n",
       "      <th></th>\n",
       "      <th>title</th>\n",
       "      <th>company</th>\n",
       "      <th>experience_required</th>\n",
       "      <th>location</th>\n",
       "    </tr>\n",
       "  </thead>\n",
       "  <tbody>\n",
       "    <tr>\n",
       "      <th>0</th>\n",
       "      <td>Data Scientist</td>\n",
       "      <td>LG Electronics India Pvt. Ltd.</td>\n",
       "      <td>2-7 Yrs</td>\n",
       "      <td>Delhi</td>\n",
       "    </tr>\n",
       "    <tr>\n",
       "      <th>1</th>\n",
       "      <td>Data Scientist</td>\n",
       "      <td>Navikenz India Pvt Ltd</td>\n",
       "      <td>2-6 Yrs</td>\n",
       "      <td>Delhi</td>\n",
       "    </tr>\n",
       "    <tr>\n",
       "      <th>2</th>\n",
       "      <td>Data Scientist/ Senior Data Scientist</td>\n",
       "      <td>Newgen Software Technologies</td>\n",
       "      <td>2-6 Yrs</td>\n",
       "      <td>Delhi</td>\n",
       "    </tr>\n",
       "    <tr>\n",
       "      <th>3</th>\n",
       "      <td>Hiring For Data Scientist</td>\n",
       "      <td>Tata Consultancy Services Ltd.</td>\n",
       "      <td>3-6 Yrs</td>\n",
       "      <td>Noida</td>\n",
       "    </tr>\n",
       "    <tr>\n",
       "      <th>4</th>\n",
       "      <td>Project Manager | Team Leader | Senior Data Sc...</td>\n",
       "      <td>Tidyquant (OPC) Private Limited</td>\n",
       "      <td>1-5 Yrs</td>\n",
       "      <td>Delhi</td>\n",
       "    </tr>\n",
       "    <tr>\n",
       "      <th>5</th>\n",
       "      <td>Data Scientist</td>\n",
       "      <td>Teleperformance</td>\n",
       "      <td>0-0 Yrs</td>\n",
       "      <td>Noida, Ghaziabad, Delhi / NCR</td>\n",
       "    </tr>\n",
       "    <tr>\n",
       "      <th>6</th>\n",
       "      <td>Senior Data Scientist</td>\n",
       "      <td>iNICU</td>\n",
       "      <td>3-7 Yrs</td>\n",
       "      <td>Gurgaon/Gurugram</td>\n",
       "    </tr>\n",
       "    <tr>\n",
       "      <th>7</th>\n",
       "      <td>Data Scientist</td>\n",
       "      <td>The Boston Consulting Group (India) Pvt Limited</td>\n",
       "      <td>4-6 Yrs</td>\n",
       "      <td>Noida(Sector-126 Noida)</td>\n",
       "    </tr>\n",
       "    <tr>\n",
       "      <th>8</th>\n",
       "      <td>NTT DATA_ Hiring For BIG DATA ,DATA Scientist,...</td>\n",
       "      <td>NTT Data Business Solutions Pvt Ltd</td>\n",
       "      <td>1-3 Yrs</td>\n",
       "      <td>Gurgaon/Gurugram</td>\n",
       "    </tr>\n",
       "    <tr>\n",
       "      <th>9</th>\n",
       "      <td>Data Scientist</td>\n",
       "      <td>BlackBuck</td>\n",
       "      <td>0-2 Yrs</td>\n",
       "      <td>Noida, New Delhi, Faridabad, Gurgaon/Gurugram,...</td>\n",
       "    </tr>\n",
       "  </tbody>\n",
       "</table>\n",
       "</div>"
      ],
      "text/plain": [
       "                                               title  \\\n",
       "0                                     Data Scientist   \n",
       "1                                     Data Scientist   \n",
       "2              Data Scientist/ Senior Data Scientist   \n",
       "3                          Hiring For Data Scientist   \n",
       "4  Project Manager | Team Leader | Senior Data Sc...   \n",
       "5                                     Data Scientist   \n",
       "6                              Senior Data Scientist   \n",
       "7                                     Data Scientist   \n",
       "8  NTT DATA_ Hiring For BIG DATA ,DATA Scientist,...   \n",
       "9                                     Data Scientist   \n",
       "\n",
       "                                           company experience_required  \\\n",
       "0                   LG Electronics India Pvt. Ltd.             2-7 Yrs   \n",
       "1                           Navikenz India Pvt Ltd             2-6 Yrs   \n",
       "2                     Newgen Software Technologies             2-6 Yrs   \n",
       "3                   Tata Consultancy Services Ltd.             3-6 Yrs   \n",
       "4                  Tidyquant (OPC) Private Limited             1-5 Yrs   \n",
       "5                                  Teleperformance             0-0 Yrs   \n",
       "6                                            iNICU             3-7 Yrs   \n",
       "7  The Boston Consulting Group (India) Pvt Limited             4-6 Yrs   \n",
       "8              NTT Data Business Solutions Pvt Ltd             1-3 Yrs   \n",
       "9                                        BlackBuck             0-2 Yrs   \n",
       "\n",
       "                                            location  \n",
       "0                                              Delhi  \n",
       "1                                              Delhi  \n",
       "2                                              Delhi  \n",
       "3                                              Noida  \n",
       "4                                              Delhi  \n",
       "5                      Noida, Ghaziabad, Delhi / NCR  \n",
       "6                                   Gurgaon/Gurugram  \n",
       "7                            Noida(Sector-126 Noida)  \n",
       "8                                   Gurgaon/Gurugram  \n",
       "9  Noida, New Delhi, Faridabad, Gurgaon/Gurugram,...  "
      ]
     },
     "execution_count": 32,
     "metadata": {},
     "output_type": "execute_result"
    }
   ],
   "source": [
    "jobs=pd.DataFrame({})\n",
    "jobs['title']=t\n",
    "jobs['company']=cnme\n",
    "jobs['experience_required']=e\n",
    "jobs['location']=l\n",
    "\n",
    "jobs"
   ]
  },
  {
   "cell_type": "code",
   "execution_count": null,
   "id": "543922f9",
   "metadata": {},
   "outputs": [],
   "source": []
  },
  {
   "cell_type": "markdown",
   "id": "7b7a4a95",
   "metadata": {},
   "source": [
    "# Q4: Scrape data of first 100 sunglasses listings on flipkart.com. You have to scrape four attributes:"
   ]
  },
  {
   "cell_type": "code",
   "execution_count": null,
   "id": "2e7d24e7",
   "metadata": {},
   "outputs": [],
   "source": []
  },
  {
   "cell_type": "code",
   "execution_count": null,
   "id": "7e070c96",
   "metadata": {},
   "outputs": [],
   "source": [
    "import warnings\n",
    "warnings.filterwarnings('ignore')\n",
    "\n",
    "\n",
    "import selenium\n",
    "import pandas as pd\n",
    "from selenium import webdriver\n",
    "\n",
    "driver = webdriver.Chrome(r\"C:/Users/Jay gawande/Downloads/chromedriver_win32/chromedriver.exe\")"
   ]
  },
  {
   "cell_type": "code",
   "execution_count": null,
   "id": "0526677c",
   "metadata": {},
   "outputs": [],
   "source": [
    "driver.get('https://www.flipkart.com/')"
   ]
  },
  {
   "cell_type": "code",
   "execution_count": null,
   "id": "c0ef15d1",
   "metadata": {},
   "outputs": [],
   "source": [
    "l = driver.find_element_by_xpath(\"//input[@title='Search for products, brands and more']\")\n",
    "l.send_keys(\"sunglasses\")\n"
   ]
  },
  {
   "cell_type": "code",
   "execution_count": null,
   "id": "fdd62f03",
   "metadata": {},
   "outputs": [],
   "source": [
    "s = driver.find_element_by_xpath(\"//button[@type='submit']\")\n",
    "s.click()"
   ]
  },
  {
   "cell_type": "code",
   "execution_count": null,
   "id": "9b853e2e",
   "metadata": {},
   "outputs": [],
   "source": [
    "jt = []\n",
    "jl = []\n",
    "cn = []\n",
    "er = []\n"
   ]
  },
  {
   "cell_type": "code",
   "execution_count": null,
   "id": "739606a8",
   "metadata": {},
   "outputs": [],
   "source": [
    "titles_tags = driver.find_elements_by_xpath(\"//div[@class='_2WkVRV']\")\n",
    "\n",
    "for i in titles_tags:\n",
    "    title = i.text\n",
    "    jt.append(title)\n",
    "    \n",
    "jt#imp\n"
   ]
  },
  {
   "cell_type": "code",
   "execution_count": null,
   "id": "73809f49",
   "metadata": {},
   "outputs": [],
   "source": [
    "pd=[]\n",
    "\n",
    "product_desc = driver.find_elements_by_xpath(\"//a[@class='IRpwTa']\")\n",
    "\n",
    "for i in product_desc:\n",
    "    title = i.text\n",
    "    pd.append(title)\n",
    "    \n",
    "pd#imp"
   ]
  },
  {
   "cell_type": "code",
   "execution_count": null,
   "id": "4d771c65",
   "metadata": {},
   "outputs": [],
   "source": [
    "pr=[]\n",
    "\n",
    "price = driver.find_elements_by_xpath(\"//div[@class='_30jeq3']\")\n",
    "\n",
    "for i in price:\n",
    "    title = i.text\n",
    "    pr.append(title)\n",
    "    \n",
    "pr#imp"
   ]
  },
  {
   "cell_type": "code",
   "execution_count": null,
   "id": "e3bf4af3",
   "metadata": {},
   "outputs": [],
   "source": [
    "d=[]\n",
    "\n",
    "discount = driver.find_elements_by_xpath(\"//div[@class='_3Ay6Sb']\")\n",
    "\n",
    "for i in discount:\n",
    "    title = i.text\n",
    "    d.append(title)\n",
    "    \n",
    "d"
   ]
  },
  {
   "cell_type": "code",
   "execution_count": null,
   "id": "543d99a5",
   "metadata": {},
   "outputs": [],
   "source": [
    "p1 = driver.find_element_by_xpath(\"//a[@class='_1LKTO3']\")\n",
    "p1.click()\n"
   ]
  },
  {
   "cell_type": "code",
   "execution_count": null,
   "id": "8d2db256",
   "metadata": {},
   "outputs": [],
   "source": [
    "titles_tag = driver.find_elements_by_xpath(\"//div[@class='_2WkVRV']\")\n",
    "\n",
    "for i in titles_tag:\n",
    "    title = i.text\n",
    "    jl.append(title)\n",
    "    \n",
    "jl"
   ]
  },
  {
   "cell_type": "code",
   "execution_count": null,
   "id": "18d20ab3",
   "metadata": {},
   "outputs": [],
   "source": [
    "pda=[]\n",
    "\n",
    "product_desca = driver.find_elements_by_xpath(\"//a[@class='IRpwTa']\")\n",
    "\n",
    "for i in product_desca:\n",
    "    title = i.text\n",
    "    pda.append(title)\n",
    "    \n",
    "pda#imp"
   ]
  },
  {
   "cell_type": "code",
   "execution_count": null,
   "id": "86822ad3",
   "metadata": {},
   "outputs": [],
   "source": [
    "pra=[]\n",
    "\n",
    "pricea = driver.find_elements_by_xpath(\"//div[@class='_30jeq3']\")\n",
    "\n",
    "for i in pricea:\n",
    "    title = i.text\n",
    "    pra.append(title)\n",
    "    \n",
    "pra#imp"
   ]
  },
  {
   "cell_type": "code",
   "execution_count": null,
   "id": "96e24bb8",
   "metadata": {},
   "outputs": [],
   "source": [
    "da=[]\n",
    "\n",
    "discounta = driver.find_elements_by_xpath(\"//div[@class='_3Ay6Sb']\")\n",
    "\n",
    "for i in discounta:\n",
    "    title = i.text\n",
    "    da.append(title)\n",
    "    \n",
    "da"
   ]
  },
  {
   "cell_type": "code",
   "execution_count": null,
   "id": "21cd8e48",
   "metadata": {},
   "outputs": [],
   "source": [
    "p2 = driver.find_element_by_link_text(\"3\")\n",
    "p2.click()"
   ]
  },
  {
   "cell_type": "code",
   "execution_count": null,
   "id": "abb3d46c",
   "metadata": {},
   "outputs": [],
   "source": [
    "jlx= []\n",
    "\n",
    "titles_ta = driver.find_elements_by_xpath(\"//div[@class='_2WkVRV']\")\n",
    "\n",
    "for i in titles_ta:\n",
    "    title = i.text\n",
    "    jlx.append(title)\n",
    "    \n",
    "jlx\n",
    "jlxz=jlx[0:20]\n",
    "jlxz"
   ]
  },
  {
   "cell_type": "code",
   "execution_count": null,
   "id": "42f9d9f0",
   "metadata": {},
   "outputs": [],
   "source": [
    "brand= jt+jl+jlxz\n",
    "len(brand)"
   ]
  },
  {
   "cell_type": "code",
   "execution_count": null,
   "id": "dc89746a",
   "metadata": {},
   "outputs": [],
   "source": [
    "pdb=[]\n",
    "\n",
    "product_descb = driver.find_elements_by_xpath(\"//a[@class='IRpwTa']\")\n",
    "\n",
    "for i in product_descb:\n",
    "    title = i.text\n",
    "    pdb.append(title)\n",
    "    \n",
    "pdb#imp\n",
    "\n",
    "pdbc=pdb[0:25]\n",
    "pdbc"
   ]
  },
  {
   "cell_type": "code",
   "execution_count": null,
   "id": "deb74f05",
   "metadata": {},
   "outputs": [],
   "source": [
    "prb=[]\n",
    "\n",
    "priceb = driver.find_elements_by_xpath(\"//div[@class='_30jeq3']\")\n",
    "\n",
    "for i in priceb:\n",
    "    title = i.text\n",
    "    prb.append(title)\n",
    "    \n",
    "prb#imp\n",
    "\n",
    "prbc=prb[0:20]\n",
    "prbc"
   ]
  },
  {
   "cell_type": "code",
   "execution_count": null,
   "id": "5bc7f365",
   "metadata": {},
   "outputs": [],
   "source": [
    "db=[]\n",
    "\n",
    "discountb = driver.find_elements_by_xpath(\"//div[@class='_3Ay6Sb']\")\n",
    "\n",
    "for i in discountb:\n",
    "    title = i.text\n",
    "    db.append(title)\n",
    "    \n",
    "db\n",
    "dbc=db[0:20]"
   ]
  },
  {
   "cell_type": "code",
   "execution_count": null,
   "id": "796e866e",
   "metadata": {},
   "outputs": [],
   "source": [
    "product_d=pd+pda+pdbc\n",
    "len(product_d)"
   ]
  },
  {
   "cell_type": "code",
   "execution_count": null,
   "id": "b02e76f4",
   "metadata": {},
   "outputs": [],
   "source": [
    "price=pr+pra+prbc\n",
    "len(price)"
   ]
  },
  {
   "cell_type": "code",
   "execution_count": null,
   "id": "ce4e424a",
   "metadata": {},
   "outputs": [],
   "source": [
    "discount=d+da+dbc\n",
    "len(discount)"
   ]
  },
  {
   "cell_type": "code",
   "execution_count": null,
   "id": "788054e7",
   "metadata": {},
   "outputs": [],
   "source": [
    "import pandas as pd\n",
    "\n",
    "sungl=pd.DataFrame({})\n",
    "sungl['brand']=brand\n",
    "sungl['product dec']=product_d\n",
    "sungl['price']=price\n",
    "sungl['discount']=discount\n",
    "\n",
    "sungl"
   ]
  },
  {
   "cell_type": "code",
   "execution_count": null,
   "id": "a304327e",
   "metadata": {},
   "outputs": [],
   "source": []
  },
  {
   "cell_type": "code",
   "execution_count": null,
   "id": "8ce8a9a8",
   "metadata": {},
   "outputs": [],
   "source": []
  },
  {
   "cell_type": "code",
   "execution_count": null,
   "id": "88aa5cb9",
   "metadata": {},
   "outputs": [],
   "source": []
  },
  {
   "cell_type": "code",
   "execution_count": null,
   "id": "22b6a6a6",
   "metadata": {},
   "outputs": [],
   "source": []
  },
  {
   "cell_type": "code",
   "execution_count": null,
   "id": "5d2b5a10",
   "metadata": {},
   "outputs": [],
   "source": []
  },
  {
   "cell_type": "code",
   "execution_count": null,
   "id": "298c9e45",
   "metadata": {},
   "outputs": [],
   "source": []
  },
  {
   "cell_type": "code",
   "execution_count": null,
   "id": "561f06cb",
   "metadata": {},
   "outputs": [],
   "source": []
  },
  {
   "cell_type": "code",
   "execution_count": null,
   "id": "efc488b2",
   "metadata": {},
   "outputs": [],
   "source": []
  },
  {
   "cell_type": "code",
   "execution_count": null,
   "id": "94d802c0",
   "metadata": {},
   "outputs": [],
   "source": []
  },
  {
   "cell_type": "code",
   "execution_count": null,
   "id": "af06eb46",
   "metadata": {},
   "outputs": [],
   "source": []
  },
  {
   "cell_type": "code",
   "execution_count": null,
   "id": "95d85dfa",
   "metadata": {},
   "outputs": [],
   "source": []
  },
  {
   "cell_type": "code",
   "execution_count": null,
   "id": "a608ebcc",
   "metadata": {},
   "outputs": [],
   "source": []
  },
  {
   "cell_type": "code",
   "execution_count": null,
   "id": "8569289e",
   "metadata": {},
   "outputs": [],
   "source": []
  },
  {
   "cell_type": "code",
   "execution_count": null,
   "id": "4711f240",
   "metadata": {},
   "outputs": [],
   "source": []
  },
  {
   "cell_type": "code",
   "execution_count": null,
   "id": "1bead109",
   "metadata": {},
   "outputs": [],
   "source": []
  },
  {
   "cell_type": "code",
   "execution_count": null,
   "id": "8d7d2bbe",
   "metadata": {},
   "outputs": [],
   "source": []
  },
  {
   "cell_type": "code",
   "execution_count": null,
   "id": "f0c7cefd",
   "metadata": {},
   "outputs": [],
   "source": []
  },
  {
   "cell_type": "code",
   "execution_count": null,
   "id": "8e8cd205",
   "metadata": {},
   "outputs": [],
   "source": []
  },
  {
   "cell_type": "code",
   "execution_count": null,
   "id": "0193ff32",
   "metadata": {},
   "outputs": [],
   "source": []
  },
  {
   "cell_type": "code",
   "execution_count": null,
   "id": "e5179a4e",
   "metadata": {},
   "outputs": [],
   "source": []
  },
  {
   "cell_type": "code",
   "execution_count": null,
   "id": "7873df40",
   "metadata": {},
   "outputs": [],
   "source": []
  },
  {
   "cell_type": "code",
   "execution_count": null,
   "id": "b42bd154",
   "metadata": {},
   "outputs": [],
   "source": []
  },
  {
   "cell_type": "code",
   "execution_count": null,
   "id": "f7d17574",
   "metadata": {},
   "outputs": [],
   "source": []
  },
  {
   "cell_type": "code",
   "execution_count": null,
   "id": "b318c825",
   "metadata": {},
   "outputs": [],
   "source": []
  },
  {
   "cell_type": "code",
   "execution_count": null,
   "id": "395cccc5",
   "metadata": {},
   "outputs": [],
   "source": []
  },
  {
   "cell_type": "code",
   "execution_count": null,
   "id": "b9c45049",
   "metadata": {},
   "outputs": [],
   "source": []
  },
  {
   "cell_type": "code",
   "execution_count": null,
   "id": "d3794334",
   "metadata": {},
   "outputs": [],
   "source": []
  },
  {
   "cell_type": "code",
   "execution_count": null,
   "id": "5c84fd71",
   "metadata": {},
   "outputs": [],
   "source": []
  },
  {
   "cell_type": "code",
   "execution_count": null,
   "id": "42316543",
   "metadata": {},
   "outputs": [],
   "source": []
  },
  {
   "cell_type": "code",
   "execution_count": null,
   "id": "7e9ebb62",
   "metadata": {},
   "outputs": [],
   "source": []
  },
  {
   "cell_type": "code",
   "execution_count": null,
   "id": "bbcdbdb6",
   "metadata": {},
   "outputs": [],
   "source": []
  },
  {
   "cell_type": "code",
   "execution_count": null,
   "id": "e54fdd1f",
   "metadata": {},
   "outputs": [],
   "source": []
  },
  {
   "cell_type": "code",
   "execution_count": null,
   "id": "ea6fd786",
   "metadata": {},
   "outputs": [],
   "source": []
  },
  {
   "cell_type": "code",
   "execution_count": null,
   "id": "84068f0a",
   "metadata": {},
   "outputs": [],
   "source": []
  },
  {
   "cell_type": "code",
   "execution_count": null,
   "id": "de3621be",
   "metadata": {},
   "outputs": [],
   "source": []
  },
  {
   "cell_type": "code",
   "execution_count": null,
   "id": "889803cc",
   "metadata": {},
   "outputs": [],
   "source": []
  },
  {
   "cell_type": "code",
   "execution_count": null,
   "id": "8a61c3e3",
   "metadata": {},
   "outputs": [],
   "source": []
  },
  {
   "cell_type": "code",
   "execution_count": null,
   "id": "892fea09",
   "metadata": {},
   "outputs": [],
   "source": []
  },
  {
   "cell_type": "code",
   "execution_count": null,
   "id": "34d8a295",
   "metadata": {},
   "outputs": [],
   "source": []
  },
  {
   "cell_type": "code",
   "execution_count": null,
   "id": "2df80865",
   "metadata": {},
   "outputs": [],
   "source": []
  },
  {
   "cell_type": "code",
   "execution_count": null,
   "id": "c19b2b2f",
   "metadata": {},
   "outputs": [],
   "source": []
  },
  {
   "cell_type": "code",
   "execution_count": null,
   "id": "4e485077",
   "metadata": {},
   "outputs": [],
   "source": []
  },
  {
   "cell_type": "code",
   "execution_count": null,
   "id": "3145da2f",
   "metadata": {},
   "outputs": [],
   "source": []
  },
  {
   "cell_type": "code",
   "execution_count": null,
   "id": "176f6163",
   "metadata": {},
   "outputs": [],
   "source": []
  },
  {
   "cell_type": "code",
   "execution_count": null,
   "id": "a281f0c1",
   "metadata": {},
   "outputs": [],
   "source": []
  },
  {
   "cell_type": "code",
   "execution_count": null,
   "id": "c50a28ac",
   "metadata": {},
   "outputs": [],
   "source": []
  },
  {
   "cell_type": "code",
   "execution_count": null,
   "id": "dd061fa4",
   "metadata": {},
   "outputs": [],
   "source": []
  },
  {
   "cell_type": "code",
   "execution_count": null,
   "id": "09c400b7",
   "metadata": {},
   "outputs": [],
   "source": []
  },
  {
   "cell_type": "code",
   "execution_count": null,
   "id": "17c91a05",
   "metadata": {},
   "outputs": [],
   "source": []
  },
  {
   "cell_type": "code",
   "execution_count": null,
   "id": "5535ab67",
   "metadata": {},
   "outputs": [],
   "source": []
  },
  {
   "cell_type": "code",
   "execution_count": null,
   "id": "5c759c90",
   "metadata": {},
   "outputs": [],
   "source": []
  },
  {
   "cell_type": "code",
   "execution_count": null,
   "id": "4107f182",
   "metadata": {},
   "outputs": [],
   "source": []
  },
  {
   "cell_type": "code",
   "execution_count": null,
   "id": "fb5494a5",
   "metadata": {},
   "outputs": [],
   "source": []
  },
  {
   "cell_type": "code",
   "execution_count": null,
   "id": "956f53dd",
   "metadata": {},
   "outputs": [],
   "source": []
  },
  {
   "cell_type": "code",
   "execution_count": null,
   "id": "8778b954",
   "metadata": {},
   "outputs": [],
   "source": []
  },
  {
   "cell_type": "code",
   "execution_count": null,
   "id": "ecb0981c",
   "metadata": {},
   "outputs": [],
   "source": []
  },
  {
   "cell_type": "code",
   "execution_count": null,
   "id": "5b788e64",
   "metadata": {},
   "outputs": [],
   "source": []
  },
  {
   "cell_type": "code",
   "execution_count": null,
   "id": "3bf22c73",
   "metadata": {},
   "outputs": [],
   "source": []
  },
  {
   "cell_type": "code",
   "execution_count": null,
   "id": "b0da7efc",
   "metadata": {},
   "outputs": [],
   "source": []
  },
  {
   "cell_type": "code",
   "execution_count": null,
   "id": "a5759437",
   "metadata": {},
   "outputs": [],
   "source": []
  },
  {
   "cell_type": "code",
   "execution_count": null,
   "id": "3194407a",
   "metadata": {},
   "outputs": [],
   "source": []
  },
  {
   "cell_type": "code",
   "execution_count": null,
   "id": "68391a79",
   "metadata": {},
   "outputs": [],
   "source": []
  },
  {
   "cell_type": "code",
   "execution_count": null,
   "id": "7aaccf65",
   "metadata": {},
   "outputs": [],
   "source": []
  },
  {
   "cell_type": "code",
   "execution_count": null,
   "id": "d88a1d97",
   "metadata": {},
   "outputs": [],
   "source": [
    "import pandas as pd\n",
    "\n",
    "sungl=pd.DataFrame({})\n",
    "sungl['brand']=brand\n",
    "sungl['product dec']=product_d\n",
    "sungl['price']=price\n",
    "sungl['discount']=discount\n",
    "\n",
    "sungl"
   ]
  }
 ],
 "metadata": {
  "kernelspec": {
   "display_name": "Python 3",
   "language": "python",
   "name": "python3"
  },
  "language_info": {
   "codemirror_mode": {
    "name": "ipython",
    "version": 3
   },
   "file_extension": ".py",
   "mimetype": "text/x-python",
   "name": "python",
   "nbconvert_exporter": "python",
   "pygments_lexer": "ipython3",
   "version": "3.8.8"
  }
 },
 "nbformat": 4,
 "nbformat_minor": 5
}
