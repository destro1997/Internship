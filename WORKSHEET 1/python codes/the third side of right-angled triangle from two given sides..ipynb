{
 "cells": [
  {
   "cell_type": "markdown",
   "id": "f07b58f0",
   "metadata": {},
   "source": [
    "the third side of right-angled triangle from two given sides."
   ]
  },
  {
   "cell_type": "code",
   "execution_count": null,
   "id": "cb4a41fe",
   "metadata": {},
   "outputs": [],
   "source": [
    "from math import sqrt\n",
    "print('This is a Pythagorean Theorem calculator! Calculate one side of right-angled triangle.')\n",
    "print('Assume the sides are a, b, c and c is the hypotenuse.')\n",
    "choice = input('Which side (a,b,c) do you want to calculate? side: ')\n",
    "if choice == 'c':\n",
    " a = float(input('Input the length of side a: '))\n",
    " b = float(input('Input the length of side b: '))\n",
    " c = sqrt(a * a + b * b)\n",
    " print('The length of side c is %g: ' %(c))\n",
    "elif choice == 'b':\n",
    " a = float(input('Input the length of side a: '))\n",
    " c = float(input('Input the length of side c: '))\n",
    " b = sqrt(c * c - a * a)\n",
    " print('The length of side b is %g: ' %(b))\n",
    "elif choice == 'a':\n",
    " b = float(input('Input the length of side b: '))\n",
    " c = float(input('Input the length of side c: '))\n",
    " a = sqrt((c * c) - (b * b))\n",
    " print('The length of side a is %g: ' %(a))\n",
    "else:\n",
    " print('Invalid Input!')"
   ]
  },
  {
   "cell_type": "code",
   "execution_count": null,
   "id": "a2297552",
   "metadata": {},
   "outputs": [],
   "source": []
  },
  {
   "cell_type": "code",
   "execution_count": null,
   "id": "dfecc77e",
   "metadata": {},
   "outputs": [],
   "source": []
  }
 ],
 "metadata": {
  "kernelspec": {
   "display_name": "Python 3",
   "language": "python",
   "name": "python3"
  },
  "language_info": {
   "codemirror_mode": {
    "name": "ipython",
    "version": 3
   },
   "file_extension": ".py",
   "mimetype": "text/x-python",
   "name": "python",
   "nbconvert_exporter": "python",
   "pygments_lexer": "ipython3",
   "version": "3.8.8"
  }
 },
 "nbformat": 4,
 "nbformat_minor": 5
}
