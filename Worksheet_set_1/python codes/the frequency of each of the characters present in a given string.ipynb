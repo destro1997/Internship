{
 "cells": [
  {
   "cell_type": "markdown",
   "id": "b8f45a59",
   "metadata": {},
   "source": [
    " the frequency of each of the characters present in a given string"
   ]
  },
  {
   "cell_type": "code",
   "execution_count": null,
   "id": "b7ec5fa5",
   "metadata": {},
   "outputs": [],
   "source": [
    "from collections import Counter\n",
    "  \n",
    "# initializing string \n",
    "test_str = input(\"Enter the string \")\n",
    "  \n",
    "# using collections.Counter() to get \n",
    "# count of each element in string \n",
    "res = Counter(test_str)\n",
    "  \n",
    "# printing result \n",
    "print (\"Count of all characters is :\\n \" +  str(res))"
   ]
  },
  {
   "cell_type": "code",
   "execution_count": null,
   "id": "b3e26a34",
   "metadata": {},
   "outputs": [],
   "source": []
  }
 ],
 "metadata": {
  "kernelspec": {
   "display_name": "Python 3",
   "language": "python",
   "name": "python3"
  },
  "language_info": {
   "codemirror_mode": {
    "name": "ipython",
    "version": 3
   },
   "file_extension": ".py",
   "mimetype": "text/x-python",
   "name": "python",
   "nbconvert_exporter": "python",
   "pygments_lexer": "ipython3",
   "version": "3.8.8"
  }
 },
 "nbformat": 4,
 "nbformat_minor": 5
}
